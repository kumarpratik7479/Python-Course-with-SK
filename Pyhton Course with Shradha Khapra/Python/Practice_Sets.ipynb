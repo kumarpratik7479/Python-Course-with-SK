{
  "nbformat": 4,
  "nbformat_minor": 0,
  "metadata": {
    "colab": {
      "provenance": []
    },
    "kernelspec": {
      "name": "python3",
      "display_name": "Python 3"
    },
    "language_info": {
      "name": "python"
    }
  },
  "cells": [
    {
      "cell_type": "markdown",
      "source": [
        "# Sets :- Collection of unordered items.\n",
        "\n",
        "# Here we aill see the practice problems for the sets specifically.\n",
        "\n",
        "# sets are mutuable as we can add or remove any of the elements but thier elements are immutable as they have tuple as thier elements but not lists and dictionary"
      ],
      "metadata": {
        "id": "8qc_vx4k3_MZ"
      }
    },
    {
      "cell_type": "code",
      "execution_count": 8,
      "metadata": {
        "colab": {
          "base_uri": "https://localhost:8080/"
        },
        "id": "62UvaRunwcwk",
        "outputId": "be1905e8-88d5-404f-d832-fae7a1593471"
      },
      "outputs": [
        {
          "output_type": "stream",
          "name": "stdout",
          "text": [
            "{1, 2, 3, 4, 'Hello'}\n",
            "{0, 4, 5, 21, 9, 'Sachin Tendulkar', 45}\n"
          ]
        },
        {
          "output_type": "execute_result",
          "data": {
            "text/plain": [
              "{0, 1, 2, 21, 3, 4, 45, 5, 9, 'Hello', 'Sachin Tendulkar'}"
            ]
          },
          "metadata": {},
          "execution_count": 8
        }
      ],
      "source": [
        "# WAP to perform union of two sets.\n",
        "\n",
        "x = {1,2,2,4,3,\"Hello\"}\n",
        "y = {0,9,5,4,\"Sachin Tendulkar\", 45,21}\n",
        "\n",
        "print(x)\n",
        "print(y)\n",
        "\n",
        "x.union(y)"
      ]
    },
    {
      "cell_type": "code",
      "source": [
        "# WAP to perform intersection of two sets.\n",
        "\n",
        "x = {1,2,2,4,3,\"Hello\"}\n",
        "y = {0,9,5,4,\"Sachin Tendulkar\", 45,21}\n",
        "\n",
        "print(x)\n",
        "print(y)\n",
        "\n",
        "x.intersection(y)"
      ],
      "metadata": {
        "colab": {
          "base_uri": "https://localhost:8080/"
        },
        "id": "w6pv7_UZ5L0m",
        "outputId": "fb5f49a2-8c8a-4733-c0db-daecd72dce78"
      },
      "execution_count": 10,
      "outputs": [
        {
          "output_type": "stream",
          "name": "stdout",
          "text": [
            "{1, 2, 3, 4, 'Hello'}\n",
            "{0, 4, 5, 21, 9, 'Sachin Tendulkar', 45}\n"
          ]
        },
        {
          "output_type": "execute_result",
          "data": {
            "text/plain": [
              "{4}"
            ]
          },
          "metadata": {},
          "execution_count": 10
        }
      ]
    },
    {
      "cell_type": "code",
      "source": [
        "# WAP to find the difference between two sets.\n",
        "# Pratik's solution :-\n",
        "\n",
        "x = {1,2,2,4,3,\"Hello\"}\n",
        "y = {0,9,5,4,\"Sachin Tendulkar\", 45,21}\n",
        "\n",
        "print(x)\n",
        "print(y)\n",
        "\n",
        "x.difference(y)"
      ],
      "metadata": {
        "colab": {
          "base_uri": "https://localhost:8080/"
        },
        "id": "S-zonlJW5oZC",
        "outputId": "82bac26d-67a3-491a-d697-508fbe9f3470"
      },
      "execution_count": 11,
      "outputs": [
        {
          "output_type": "stream",
          "name": "stdout",
          "text": [
            "{1, 2, 3, 4, 'Hello'}\n",
            "{0, 4, 5, 21, 9, 'Sachin Tendulkar', 45}\n"
          ]
        },
        {
          "output_type": "execute_result",
          "data": {
            "text/plain": [
              "{1, 2, 3, 'Hello'}"
            ]
          },
          "metadata": {},
          "execution_count": 11
        }
      ]
    },
    {
      "cell_type": "code",
      "source": [
        "# Define two sets\n",
        "# ChatGPT's solution :-\n",
        "\n",
        "x = {1,2,2,4,3,\"Hello\"}\n",
        "y = {0,9,5,4,\"Sachin Tendulkar\", 45,21}\n",
        "\n",
        "# Find the difference between set1 and set2\n",
        "difference =  x - y\n",
        "\n",
        "# Display the difference\n",
        "print(\"Difference between x and y :\", difference)\n"
      ],
      "metadata": {
        "colab": {
          "base_uri": "https://localhost:8080/"
        },
        "id": "xPjBan1a6KlR",
        "outputId": "e5a22be5-7bba-4684-dba0-9c45223d7141"
      },
      "execution_count": 14,
      "outputs": [
        {
          "output_type": "stream",
          "name": "stdout",
          "text": [
            "Difference between x and y : {1, 2, 3, 'Hello'}\n"
          ]
        }
      ]
    },
    {
      "cell_type": "code",
      "source": [
        "# WAP to check if a set is a subset of another set.\n",
        "# pratik's solution :-\n",
        "\n",
        "x = {1,2,2,4,3,\"Hello\"}\n",
        "y = {1,4,\"Hello\"}\n",
        "\n",
        "print(x)\n",
        "print(y)\n",
        "\n",
        "y.issubset(x)"
      ],
      "metadata": {
        "colab": {
          "base_uri": "https://localhost:8080/"
        },
        "id": "QDYgnuGv6tNW",
        "outputId": "51b490ac-1637-4ac0-d911-0fe7a9af9ebf"
      },
      "execution_count": 15,
      "outputs": [
        {
          "output_type": "stream",
          "name": "stdout",
          "text": [
            "{1, 2, 3, 4, 'Hello'}\n",
            "{1, 4, 'Hello'}\n"
          ]
        },
        {
          "output_type": "execute_result",
          "data": {
            "text/plain": [
              "True"
            ]
          },
          "metadata": {},
          "execution_count": 15
        }
      ]
    },
    {
      "cell_type": "code",
      "source": [
        "# Define the sets\n",
        "# Chat GPT's solution :-\n",
        "set1 = {1, 2, 3}\n",
        "set2 = {1, 2, 3, 4, 5}\n",
        "\n",
        "# Check if set1 is a subset of set2\n",
        "is_subset = set1.issubset(set2)\n",
        "\n",
        "# Display the result\n",
        "if is_subset:\n",
        "    print(\"set1 is a subset of set2\")\n",
        "else:\n",
        "    print(\"set1 is not a subset of set2\")\n"
      ],
      "metadata": {
        "colab": {
          "base_uri": "https://localhost:8080/"
        },
        "id": "sixH7Ucu7ucL",
        "outputId": "42fc3734-8699-432c-f233-0d47e6ce1a35"
      },
      "execution_count": 17,
      "outputs": [
        {
          "output_type": "stream",
          "name": "stdout",
          "text": [
            "set1 is a subset of set2\n"
          ]
        }
      ]
    },
    {
      "cell_type": "code",
      "source": [
        "# WAP to check if two sets are disjoint.\n",
        "\n",
        "x = {1,2,2,4,3,\"Hello\"}\n",
        "y = {0,9,5,4,\"Sachin Tendulkar\", 45,21}\n",
        "\n",
        "print(x)\n",
        "print(y)\n",
        "\n",
        "x.isdisjoint(y)"
      ],
      "metadata": {
        "colab": {
          "base_uri": "https://localhost:8080/"
        },
        "id": "Pq6e16o774cj",
        "outputId": "908edb0f-9c5f-451a-9e4b-8c66a8a9356b"
      },
      "execution_count": 18,
      "outputs": [
        {
          "output_type": "stream",
          "name": "stdout",
          "text": [
            "{1, 2, 3, 4, 'Hello'}\n",
            "{0, 4, 5, 21, 9, 'Sachin Tendulkar', 45}\n"
          ]
        },
        {
          "output_type": "execute_result",
          "data": {
            "text/plain": [
              "False"
            ]
          },
          "metadata": {},
          "execution_count": 18
        }
      ]
    },
    {
      "cell_type": "code",
      "source": [
        "# Define the sets\n",
        "# ChatGPT's solution :-\n",
        "set1 = {1, 2, 3}\n",
        "set2 = {4, 5, 6}\n",
        "\n",
        "# Check if the sets are disjoint\n",
        "are_disjoint = set1.isdisjoint(set2)\n",
        "\n",
        "# Display the result\n",
        "if are_disjoint:\n",
        "    print(\"The sets are disjoint\")\n",
        "else:\n",
        "    print(\"The sets are not disjoint\")\n"
      ],
      "metadata": {
        "colab": {
          "base_uri": "https://localhost:8080/"
        },
        "id": "YKD2Twfl8OCj",
        "outputId": "6b376e0b-1483-42b1-ae7d-ec42419acc15"
      },
      "execution_count": 19,
      "outputs": [
        {
          "output_type": "stream",
          "name": "stdout",
          "text": [
            "The sets are disjoint\n"
          ]
        }
      ]
    },
    {
      "cell_type": "code",
      "source": [],
      "metadata": {
        "id": "ObhspE3m8oDC"
      },
      "execution_count": null,
      "outputs": []
    }
  ]
}