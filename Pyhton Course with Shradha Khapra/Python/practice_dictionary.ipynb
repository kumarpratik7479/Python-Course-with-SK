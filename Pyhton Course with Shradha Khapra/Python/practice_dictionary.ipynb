{
  "nbformat": 4,
  "nbformat_minor": 0,
  "metadata": {
    "colab": {
      "provenance": []
    },
    "kernelspec": {
      "name": "python3",
      "display_name": "Python 3"
    },
    "language_info": {
      "name": "python"
    }
  },
  "cells": [
    {
      "cell_type": "markdown",
      "source": [
        "# Dictionaries are used to store data values in Key:Value pairs. They are unorderd and mutable but don't allow duplicates."
      ],
      "metadata": {
        "id": "wrYreeQL-Ltg"
      }
    },
    {
      "cell_type": "markdown",
      "source": [
        "Dictionary Operations:\n",
        "\n",
        "1. Write a Python program to merge two dictionaries.\n",
        "\n",
        "2. Write a Python program to sort a dictionary by its values.\n",
        "\n",
        "3. Write a Python program to find the keys corresponding to a particular value in a dictionary.\n",
        "\n",
        "4. Write a Python program to remove a key from a dictionary.\n",
        "\n",
        "5. Write a Python program to iterate through a dictionary and print key-value pairs.\n"
      ],
      "metadata": {
        "id": "wc6nbt5_ggNH"
      }
    },
    {
      "cell_type": "code",
      "source": [
        "## Write a Python program to merge two dictionaries.\n",
        "first_dict = {\n",
        "    \"name\" : \"shradha\",\n",
        "    \"cgpa\" : 9.6,\n",
        "    \"marks\" : [98, 97, 95]\n",
        "}\n",
        "print(first_dict)\n",
        "\n",
        "second_dict = {\n",
        "    'age': 35,\n",
        "    'contacts': {'phone': '987-654-3210', 'address': '123 Main St'},\n",
        "    'skills': {'programming': 'Python', 'languages': ['English', 'Spanish']}\n",
        "}\n",
        "print(second_dict)\n",
        "\n",
        "\n",
        "# Merge the dictionaries\n",
        "merged_dict = {**first_dict, **second_dict}\n",
        "\n",
        "# Display the merged dictionary\n",
        "print(\"Merged Dictionary:\")\n",
        "for key, value in merged_dict.items():\n",
        "    print(f\"{key}: {value}\")"
      ],
      "metadata": {
        "colab": {
          "base_uri": "https://localhost:8080/"
        },
        "id": "3N_e_Z3YiCkE",
        "outputId": "36e845aa-6180-4910-b4e7-2cd3b2af2873"
      },
      "execution_count": 20,
      "outputs": [
        {
          "output_type": "stream",
          "name": "stdout",
          "text": [
            "{'name': 'shradha', 'cgpa': 9.6, 'marks': [98, 97, 95]}\n",
            "{'age': 35, 'contacts': {'phone': '987-654-3210', 'address': '123 Main St'}, 'skills': {'programming': 'Python', 'languages': ['English', 'Spanish']}}\n",
            "Merged Dictionary:\n",
            "name: shradha\n",
            "cgpa: 9.6\n",
            "marks: [98, 97, 95]\n",
            "age: 35\n",
            "contacts: {'phone': '987-654-3210', 'address': '123 Main St'}\n",
            "skills: {'programming': 'Python', 'languages': ['English', 'Spanish']}\n"
          ]
        }
      ]
    },
    {
      "cell_type": "code",
      "source": [
        " # Define a dictionary\n",
        "unsorted_dict = {'b': 3, 'a': 1, 'c': 2}\n",
        "\n",
        "# Sort the dictionary by values\n",
        "sorted_dict = dict(sorted(unsorted_dict.items(), key=lambda item: item[1]))\n",
        "\n",
        "# Display the sorted dictionary\n",
        "print(\"Sorted Dictionary by Values:\")\n",
        "for key, value in sorted_dict.items():\n",
        "    print(f\"{key}: {value}\")\n"
      ],
      "metadata": {
        "colab": {
          "base_uri": "https://localhost:8080/"
        },
        "id": "DeUaQEh9kXRR",
        "outputId": "80eb5ae4-5f57-44b3-c24b-f0da3e628b5a"
      },
      "execution_count": 1,
      "outputs": [
        {
          "output_type": "stream",
          "name": "stdout",
          "text": [
            "Sorted Dictionary by Values:\n",
            "a: 1\n",
            "c: 2\n",
            "b: 3\n"
          ]
        }
      ]
    },
    {
      "cell_type": "code",
      "source": [
        "## Write a Python program to find the keys corresponding to a particular value in a dictionary.\n",
        "\n",
        "# Define a dictionary\n",
        "my_dict = {'a': 1, 'b': 2, 'c': 3, 'd': 2}\n",
        "\n",
        "# Define the value to search for\n",
        "search_value = 2\n",
        "\n",
        "# Find keys corresponding to the search value\n",
        "keys_with_value = [key for key, value in my_dict.items() if value == search_value]\n",
        "\n",
        "# Display the keys\n",
        "if keys_with_value:\n",
        "    print(f\"The keys corresponding to value {search_value} are: {keys_with_value}\")\n",
        "else:\n",
        "    print(f\"No keys found for value {search_value}\")\n"
      ],
      "metadata": {
        "colab": {
          "base_uri": "https://localhost:8080/"
        },
        "id": "6iMAC2JlsxCL",
        "outputId": "b974fe95-d0c5-4bed-8b48-b46b4f499eab"
      },
      "execution_count": 2,
      "outputs": [
        {
          "output_type": "stream",
          "name": "stdout",
          "text": [
            "The keys corresponding to value 2 are: ['b', 'd']\n"
          ]
        }
      ]
    },
    {
      "cell_type": "code",
      "source": [
        "## Write a Python program to remove a key from a dictionary\n",
        "\n",
        "# Define a dictionary\n",
        "my_dict = {'a': 1, 'b': 2, 'c': 3}\n",
        "\n",
        "# Define the key to remove\n",
        "key_to_remove = 'b'\n",
        "\n",
        "# Check if the key exists before removal\n",
        "if key_to_remove in my_dict:\n",
        "    # Remove the key\n",
        "    del my_dict[key_to_remove]\n",
        "    print(f\"The key '{key_to_remove}' has been removed.\")\n",
        "else:\n",
        "    print(f\"The key '{key_to_remove}' does not exist in the dictionary.\")\n",
        "\n",
        "# Display the updated dictionary\n",
        "print(\"Updated Dictionary:\", my_dict)\n"
      ],
      "metadata": {
        "colab": {
          "base_uri": "https://localhost:8080/"
        },
        "id": "t7D-0L4-hiXC",
        "outputId": "ced8d6a5-12b7-4674-8be0-c96af47b862c"
      },
      "execution_count": 3,
      "outputs": [
        {
          "output_type": "stream",
          "name": "stdout",
          "text": [
            "The key 'b' has been removed.\n",
            "Updated Dictionary: {'a': 1, 'c': 3}\n"
          ]
        }
      ]
    },
    {
      "cell_type": "code",
      "source": [
        "## Write a Python program to iterate through a dictionary and print key-value pairs.\n",
        "\n",
        "# Define a dictionary\n",
        "my_dict = {'name': 'John', 'age': 30, 'city': 'New York'}\n",
        "\n",
        "# Iterate through the dictionary and print key-value pairs\n",
        "print(\"Key-Value Pairs:\")\n",
        "for key, value in my_dict.items():\n",
        "    print(f\"{key}: {value}\")\n"
      ],
      "metadata": {
        "colab": {
          "base_uri": "https://localhost:8080/"
        },
        "id": "CzELA2CJiHn5",
        "outputId": "7ce5e520-f854-49eb-f489-fe8660a77ded"
      },
      "execution_count": 4,
      "outputs": [
        {
          "output_type": "stream",
          "name": "stdout",
          "text": [
            "Key-Value Pairs:\n",
            "name: John\n",
            "age: 30\n",
            "city: New York\n"
          ]
        }
      ]
    },
    {
      "cell_type": "code",
      "source": [],
      "metadata": {
        "id": "xznNnhzUigah"
      },
      "execution_count": null,
      "outputs": []
    }
  ]
}