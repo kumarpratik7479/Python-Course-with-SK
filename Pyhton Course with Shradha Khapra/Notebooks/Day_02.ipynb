{
  "nbformat": 4,
  "nbformat_minor": 0,
  "metadata": {
    "colab": {
      "provenance": []
    },
    "kernelspec": {
      "name": "python3",
      "display_name": "Python 3"
    },
    "language_info": {
      "name": "python"
    }
  },
  "cells": [
    {
      "cell_type": "markdown",
      "source": [
        "# In this we will learn about core topic of python that is Conditional Statements.\n",
        "\n",
        "# String:- Datatype holds a sequence of characters.\n",
        "\n",
        "we can use single, double and triple coating to make clarity between other symbols used as apostrophe inside the coat.\n"
      ],
      "metadata": {
        "id": "FLL8VfvDwDm3"
      }
    },
    {
      "cell_type": "code",
      "source": [
        "str1 = \"This is astring.we are creating it in a python\"\n",
        "print(str1)"
      ],
      "metadata": {
        "colab": {
          "base_uri": "https://localhost:8080/"
        },
        "id": "gbiZkOpUweZT",
        "outputId": "3b2a9375-dfdb-4b8b-d33c-67e1ef700633"
      },
      "execution_count": 1,
      "outputs": [
        {
          "output_type": "stream",
          "name": "stdout",
          "text": [
            "This is astring.we are creating it in a python\n"
          ]
        }
      ]
    },
    {
      "cell_type": "markdown",
      "source": [
        "# So whenever we tries to print a multiple lines of code with separation of para or tab it's getting more difficult so here comes the concept of Escape Sequence Character were we can use next line & tab by writting \\n & \\t respectively."
      ],
      "metadata": {
        "id": "XoQX5-Arx2Qg"
      }
    },
    {
      "cell_type": "code",
      "source": [
        "# example for next line.\n",
        "str2 = \"This is astring.\\nwe are creating it in a python\"\n",
        "print(str2)\n",
        "\n",
        "\n",
        "strr = \"This is a beautiful city. \\nWhen is snowfall is going to start. \\nThere is a great stories of snowfall of this city.\"\n",
        "print(strr)"
      ],
      "metadata": {
        "colab": {
          "base_uri": "https://localhost:8080/"
        },
        "id": "_cmVdwVNwnZ4",
        "outputId": "38ae205a-5d74-48f1-850d-083fb75c813c"
      },
      "execution_count": 2,
      "outputs": [
        {
          "output_type": "stream",
          "name": "stdout",
          "text": [
            "This is astring.\n",
            "we are creating it in a python\n",
            "This is a beautiful city. \n",
            "When is snowfall is going to start. \n",
            "There is a great stories of snowfall of this city.\n"
          ]
        }
      ]
    },
    {
      "cell_type": "code",
      "source": [
        "# example for tab.\n",
        "str3 = \"This is astring. \\twe are creating it in a python\"\n",
        "print(str3)"
      ],
      "metadata": {
        "colab": {
          "base_uri": "https://localhost:8080/"
        },
        "id": "PgsI4dzsy7v-",
        "outputId": "573f1a71-c364-4dbb-e016-8cf7c09edd3b"
      },
      "execution_count": 3,
      "outputs": [
        {
          "output_type": "stream",
          "name": "stdout",
          "text": [
            "This is astring. \twe are creating it in a python\n"
          ]
        }
      ]
    },
    {
      "cell_type": "markdown",
      "source": [
        "# Concatenation:- Joining two different strings.\n",
        "\n",
        "# Length:- length of string by len(str_name)\n",
        "\n",
        "Whenever we print len(str_name) it wpuld count blank space as well as special char & digits too."
      ],
      "metadata": {
        "id": "7aO9G0cOzzlU"
      }
    },
    {
      "cell_type": "code",
      "source": [
        "a = \"Jai \"\n",
        "b = \"Shri \"\n",
        "c = \"ram\"\n",
        "\n",
        "\n",
        "slogan = (a+b+c)\n",
        "print(slogan)\n",
        "len(slogan)"
      ],
      "metadata": {
        "colab": {
          "base_uri": "https://localhost:8080/"
        },
        "id": "rgrnsaN6zCSy",
        "outputId": "61a470ca-24a5-48f1-d4bd-b914276a46af"
      },
      "execution_count": 4,
      "outputs": [
        {
          "output_type": "stream",
          "name": "stdout",
          "text": [
            "Jai Shri ram\n"
          ]
        },
        {
          "output_type": "execute_result",
          "data": {
            "text/plain": [
              "12"
            ]
          },
          "metadata": {},
          "execution_count": 4
        }
      ]
    },
    {
      "cell_type": "code",
      "source": [
        "len(strr)"
      ],
      "metadata": {
        "colab": {
          "base_uri": "https://localhost:8080/"
        },
        "id": "f69VlqvU0MYC",
        "outputId": "8ca67e3e-7fee-452a-f813-63fc3b0d9b8a"
      },
      "execution_count": 5,
      "outputs": [
        {
          "output_type": "execute_result",
          "data": {
            "text/plain": [
              "114"
            ]
          },
          "metadata": {},
          "execution_count": 5
        }
      ]
    },
    {
      "cell_type": "code",
      "source": [
        "len(str1)"
      ],
      "metadata": {
        "colab": {
          "base_uri": "https://localhost:8080/"
        },
        "id": "qNlpYo9I0wbG",
        "outputId": "ad51bf17-c2e0-4916-9926-5e8b4ba7ce87"
      },
      "execution_count": 6,
      "outputs": [
        {
          "output_type": "execute_result",
          "data": {
            "text/plain": [
              "46"
            ]
          },
          "metadata": {},
          "execution_count": 6
        }
      ]
    },
    {
      "cell_type": "markdown",
      "source": [
        "# Indexing:- to the process of accessing a specific element in a sequence, such as a string or list, using its position or index number. It provides the power of accesing the particular index/position.\n",
        "\n",
        "# This Indexing can't make changes into the String."
      ],
      "metadata": {
        "id": "Jjm2Mds113U4"
      }
    },
    {
      "cell_type": "code",
      "source": [
        "# Here it is an interesting case where we get nothing but this is an answer\n",
        "# of the str[4] which is nothing but the space.\n",
        "str = \"apna house\"\n",
        "ch = str[4]\n",
        "print(ch)"
      ],
      "metadata": {
        "colab": {
          "base_uri": "https://localhost:8080/"
        },
        "id": "Cmnr4Gui0t64",
        "outputId": "4b7c610a-347b-4210-d269-78797b5b5ffa"
      },
      "execution_count": 7,
      "outputs": [
        {
          "output_type": "stream",
          "name": "stdout",
          "text": [
            " \n"
          ]
        }
      ]
    },
    {
      "cell_type": "code",
      "source": [
        "print(str[2])"
      ],
      "metadata": {
        "colab": {
          "base_uri": "https://localhost:8080/"
        },
        "id": "tI250Tc30vrC",
        "outputId": "c4edd4ec-64e3-4e08-e27b-8e65313117f6"
      },
      "execution_count": 8,
      "outputs": [
        {
          "output_type": "stream",
          "name": "stdout",
          "text": [
            "n\n"
          ]
        }
      ]
    },
    {
      "cell_type": "markdown",
      "source": [
        "# Slicing:- Accessing parts of a string.\n",
        "# Instead of mentioning string starting we can make it like this [:4] and similar for ending like [:9] pr len(str) too.\n",
        "strings ke tukde tukde karne mai help karta hai."
      ],
      "metadata": {
        "id": "Vv4O-RqN5e3H"
      }
    },
    {
      "cell_type": "code",
      "source": [
        "str = \"apna college\"\n",
        "print(str[1:4])"
      ],
      "metadata": {
        "colab": {
          "base_uri": "https://localhost:8080/"
        },
        "id": "Frd8dIqK3GF_",
        "outputId": "19bbdd55-7143-4dc0-bdb8-e34d7df5cb84"
      },
      "execution_count": 9,
      "outputs": [
        {
          "output_type": "stream",
          "name": "stdout",
          "text": [
            "pna\n"
          ]
        }
      ]
    },
    {
      "cell_type": "code",
      "source": [
        "a = \"patna is the capital city of bihar\"\n",
        "print(a[:8])"
      ],
      "metadata": {
        "colab": {
          "base_uri": "https://localhost:8080/"
        },
        "id": "5_2ehf9n6AFQ",
        "outputId": "6c17eca4-4795-4ad2-e254-e59ae3ce99c5"
      },
      "execution_count": 10,
      "outputs": [
        {
          "output_type": "stream",
          "name": "stdout",
          "text": [
            "patna is\n"
          ]
        }
      ]
    },
    {
      "cell_type": "code",
      "source": [
        "print(a[:len(a)])"
      ],
      "metadata": {
        "colab": {
          "base_uri": "https://localhost:8080/"
        },
        "id": "LQrtXWUu6YBj",
        "outputId": "e0168848-4351-4687-fefe-160b4a7eaf79"
      },
      "execution_count": 11,
      "outputs": [
        {
          "output_type": "stream",
          "name": "stdout",
          "text": [
            "patna is the capital city of bihar\n"
          ]
        }
      ]
    },
    {
      "cell_type": "markdown",
      "source": [
        "##![Screenshot 2024-04-06 070454.png](data:image/png;base64,iVBORw0KGgoAAAANSUhEUgAAAMAAAAE4CAYAAAANavzHAAAAAXNSR0IArs4c6QAAAARnQU1BAACxjwv8YQUAAAAJcEhZcwAADsMAAA7DAcdvqGQAACrNSURBVHhe7Z0LeE5X2vfvHohDiEP0CkIy45SqkDi0oQ7DTBiMautqJVVmiileHdopY/B+VNupar3j8HlR/cy0Dg062ilKKzOMUoehhKiXOgwV1XdQ0UaUUN/zX9nrsbI95+zTk33/rmvbz9577UMe67/3vdZe9/+5o9Ouv96M//YzOjTsbbpGGl1/Sc1/046K142hgre1dQxTASkVwMkPKW/8x9oqhnEPd2pzhnElLADG1YQngB7T6N3162n9+v9Lw7VVDBPNhCWAn3RpSdXFpybU5tfiA8NENWEJ4B9bD9Fl8ek47X9TfGCYqOaOxo0b39Q+M4zr4EYw42pYAIyrCVsATatUofzWrcXEMNFOUAFMb9xY+1Ra+ef/6Ee0s6iIRp04UWYbw0Qjd6SkpARsBO9q2pQ2fPcdLbl4kWY1aECnS0rot199Rddu3iyz7cQ170gihokaggqgQ9WqNK9hQ22JqMvx46LyA3XbA8eOiTnDRBOGdoPGxsZSnTp1qIonVLrjjju0tQzjXAwTACr/F3HttSWGiQ4M6wbFnZ9hog3DBICwh2GiDcMEEFbMn9iRXps3k879fQEdnZdF2YnaeoaxGMMEEBr1KHvMBDq6bCQ914rocN5XRK1605JlM2njmI6UrJWKlEU5b1PJdmXKGapt0ciaQOfEtum0SFtlDL1p40Yf52Mcj2UCSM7Moo2rp9OSrGZEBzfQkCfHUZfnX6JmTy6kWQeJOmaNpPzVE+i1zHraHuGByv9UUjFtnvtLqtRJm7L/pG1lGN8Y1gvUokUL2lxUX1tSQLjz+wE0qq2nYp89RAsW/ol+l3tO23gLCGTRyJ9Rd88hTu79G015dQXlFGgbgzKU8rd3o5RTW2yq9HgCZFH3C3adn4kUk58ALWnR6wh3KtOOFQspdcAMn5UfnMxdQT0HTKQhK45SFYRFfxzpqVbhUXjhrPaJYULDZAFkUMckz6xyHKXf356GBglvkjO70iP3J1NCZc9CYhI9Urq6/Hhjf23aOIGe0zapiDYE4nhd+fzJWgGFsu0Nz90/VtvARBUWtAGKKW/Lfvr6nvY0cdp0OjpvMD2Vom2SpHSjufNmUv60h+iRewppw5ZTVKhtCoRoeIoK6Al/PMu12mYplXIBeaKSUlbMoHpau+DPp7R1/kjqRiVjatH7Wvnf7S2mlL7KsbQG71N1D9HvtDKVOq3whH/aZiaqsKQRfHH/Hym15xQas8ZT+1r9jBa9uYDyp/yM0iiJRk2ZTufeHEqj2lSnkx8tpQ49J9JD+0sTL4PRs6esgFvosGe5cO8KbRnTKOq5orRceKAhPZGe1pZmbTvpEWM1qt9EWzG5q+du7ynzpxk0S1vFRC+W9QIRnaIFr5b2+kzfVkgJmYNp9/YXaa4nLCrcv4GGZI+i1Bf/RnlaadsoOkkbAghnUasGQcsw0cOd8fHxZMQUMgU7aMrEiVRv4SHPndVzJ104nJo9E06PD8MYx50e8E+5p7C5oZszjA146q7vCh3u5Bb+50IxUWwtuldbFoh2gfaZiSruxBgeIybfFNP3NypR7fotwxrmkHZPdXLq0LrSRnEDemSe9pYCXaZ9a1Eh9wJFJSYLYAXN31ZMaY9NCGmYA94Gr8lZQLuzkqhwxyfenpjy8ty8Bd7u0afwXiK2Jb2mLZ+TFTlU0KX64Ve3ulxFl+koev+Ctp2JKu7IyMgwZChEjRo1fA+F8JD22Eha+uuOlBJbcmuYQ2fPnXNMMu2bO4p6brs1XKJK0VeU8+ZCGvJusA57hik/lgigFPT5j6QXMxtQrRvnaPOOYkrvVo9ObjlJtTp6QqS7iulw7moa7ISuUMY1WCgAjZSf0ZL/HEDZP66mrSAqPLGDpry8kBbgbRbDWIj1AtBIe2ww/fbe6lT4PxtoDIc7jE3YJgCGcQLu6cBnGB+wABhXY2gIdPIkx/JMdMFPAMbVsAAYV2OLAGIqVaWH2g6j/3x4sZhjmWHswNI2AMYMtW78IPVvN0wsH/hyu2e5k/j8wWeLPcuf0k3NedqpNG7cmCZPnkz33FM6rqmkpISWLFlC69Z9KJaZ6MIyAdxTM5EeyxhNibWb0I5jG+njA8vpaskVcffv1XoQdWzakwouHqd3d/43/fvb6MiO+dWvfkl9+vRhAUQxpodAItxpN5ye6/1HsTxrw29pzWf/T1R+gDmWsR6gHMpzWMRYgakCuPuuSjToweepbXIXWrFzLs3PneT37o712I5yKD+483iqdBf8URjGPEwNgerWqE/PZL5KsVVq0udndtPavX+mC9/5N69C+X5tn6L7Gnagou+/pXm5vw9YXsbjRUXf0ebNm2nIkCFUqVIlse2f/9xN06dPF59BKLH7f/3XTDHXH+uDDz6gt956W3xWCRYC/eIXfcscx197IdR2xcSJE+n++ztoS7f/jUz4mB4Cldy4SlsPr6OEuMY0ru9cerj9cKoWU13bWgqWsR7bUQ7lsV+o/PjHPxYVDZXmkUceFRUWFQUVFKSlpXkqyitCKNiOad++PLEPKqmK/lioZKjk+nLBwDm7d+9O48aN957z9OnTt50Tn2fOfF18Hjv2WVEO+7Rv314IQwJxtmp1H02b9qIos3jxYkpPTxOiYCLHdAHcvPkDHTm7l15b+x+ipwe9QJP7L6auKf1FiIM5ltsm96ANectEOZTHfqFSXFxMr7wy3XvHzMvbL9bVr99ALPfuXZr1tXTpMjEHy5cvp4sXC0UlVdHffTds2CDWpaaG97OweXl59Pzz4+jLL7/U1pQ+WYB6LJwf1/GHP/zBWxbzF16Y5l2GSBo1akS5ubniuADXBxFDFBAbExmWvQf4wVOhdx79iGZ4KvimQ+9Rr9bZND3rXfp5m0G061gu/eGDYfTJ4Q9EuXApKrpM33zzjbZUWvkGDXpShAe4iyYnJ9PXX3/trTwAlQtPhNjYGmXutKiMBw7ka0skjovjx8fX1dZETkHBGSEmCSpuQkKCJ3Q8WUYoeiAY7Adhq5w9+5UIrxITb/2IIRMelglAgl6fvx9cRUu3veaJ8y/Rkq2v0pq9i729QkaDn26Kja0uQpv333+vzIR1ZoLwRD3f1KlTqFq1W4lAqLiowKjIgYD4sB/2V4/Xv39/rQQTKZYLQFL6wuum6S++5B38xIkT3lhcnUaMGBHw7hspssGK9og8F+J3hGYS+USQoZo/zp+/IPaT8b86Pf74wNsay0zo2CYAq/AX6oRK69apVLt2LcrPvxUWBUOGXf/+9znatKk07veFFCfKBro2DnXMw1QB3PihRMT0sVVqBbBOuZ3qVWp6yt8ZVkM4EGh8ohKPHTtGWxMaqJT9+j0k2gWBKrIeKTqcEwICaMhOmjSxTAiEcjt2bBfdn+q14bwvvDDVKwqcG9eQnZ3NDV6DMX0oRGbqQM+URafOHy4zzKFF/XTK7vQs5WyfTUfO7hPrMFzioXZDqXlCGm05vIY+3PeWWO8PVBD0nwO1F8UXqDjjx48rUwGB2sePrkZ9uwChE3pzJKjIat++Cu748jrktcm+fYQw77yTQ088kU0HD35epv9ef0x9T5QklOtjwsOSsUDJ9VJoYMYYqlW9Hu04+rEYB5Qcn+IVwEmPOMR4oGa9qPDyOVq5cy6dPGe9RQQqGEKlYGJiKg53JSYmvqB9LhcxMTFUWHhJWypLYfF5T8XfQNeuX6Vu9/anDE9F/+HmDUqoleQJk67TgPtHUlJ8C/po/zu0YsdsuugRgR306tWTKleOoa1bt9KlS77/FqZiYel7APTzT18zQtzdH2zex9M2iBNzLGN9pO8BGCZSLO8FKu37n0FzPhpH7+9eJOZYxnqGsRpLE2IYxmlU+PcADBMIFgDjalgAjKthATCuxhYBsC0K4xQsFQDGA7VJ6kwT+s2ntOTOdLBgp5hjGevDGS/EMEbAtigRoo718ZczbBT6cUX+xgpJkAqKXAF1bBLjG9OfAG62RcEAvOXLl5U7bxcVGHkLGP8PsTHGYeoTALYoQ7pMoMZ1m9H7e94M6vwmneMeaf9rKvjmOL39yatUcuOatjX6kCNQ9aM/ywObcRmLqU+AuGrx1KhOM6oeU5PSk7tSndgEbYtvsB3lUL6hJ1SqWa38ebgMEwhTnwDw+RnRYxodPL2LWiZ28AiiLu069jFtzM+h4quXtVKltig9U7Ppgaa96FLxBTpUsJtaNXqA3tg0NaAvkCSUGDmUMfeh+AKFci69f48evZ+Pfpx/oDH+gZ4AMvaX+DqOv7wIoC8fbtsjGjG9DWC2LQoqdjBfHfynh+LRA1ARsR7/0Sin9wUKJR5H5cZ2mQOMY8jzYlIrP8SCdEu5DX4/sECRYgwHiBTHwPeABrAvpGOGPB8m/B24TtU2Bt9ZqF5K0Yxl3aBm2aKE4qsTqkcP0N/lIvUFChWIQe1BwnkhTtiloBKaDc6RmZlZxnMIhOOlFM1Y+h4AGGmLgv+8UHx1fKH36JGY6QsUKnCBsIrBg58Uf5+a84wnZzheStGM5QKQGGGLEqqvDgjm0WMXEDG6StVrC9R+MBK0GRBurV27pswNxE4vJauxTQBGEKqvTigePXaAyo8GKe7Asv2CCW0Gs5GhD+J6faPWLi8lOzBVAGbbooTiqyMf58E8evwRiS+QJFj4lJbWRjyFYI1idYWSoQ/iej0VMdTxh6kCKLx8nvae3EIDO46h/8h8RQyHCAS2D+8+hbIyxtL+L7fTN0X/q23xDf6jgvnqyP/MYB49vsD+kfgCSeS5EWb46jk5f/681sAuvS6A3h+zQyB/oY9KpF5K0UaFsEVB5QrUx4+KrPZn+/Po0ffHA33fuP5cKr7G3ujPDdT3APq+exn+wPX59ddnikZoqOf0df0S+S5Dhl2+xI/vRZ4T+CurvheJdiwbDHenJ6Tp3KKf6P68ev2K+IG8tKQulHdqq/ihvJi7q3qEkUPbjqy1zRkCFYh9gdyFZY1gVGq2RWGchuW9QGyLwjgJ27pBMdrz0y8+FHOGsQvL2gAM40RsewIwjBNgATCuhgXAuBoWAONqbBEA+wIxTsHSXiCZ9N6/3TCxjLfBeAsMkC0WLGk+Wgk2VCMY+uEU4ewfKIWSsfAJgIFuGBCXlTGG8k59KjLD/rrnTTHHMtaHMmAu2pCVH1lecjhxuD9timEZbItiDqYLwM2+QECmUsoUTMZZmCoA+AINevB5apvchVbsnEvzcyf5dX3DemxHOZQf3Hm8SJqvCCBkQfIO4zxMFYBVvkCIkd944w1v2t6qVStF6KGCZawPVAboyyFdEcOC9ehTLLEcKfpjReIIIdFfvzrUmrkd00OgkhtXaevhdZQQ15jG9Z1LD7cfLnyAVLCM9diOciiP/UIB/+FG2aLgM9YhTVCWy8nJoYEDB2olSkEFxXh9pFWiDKxM0tPTvCJAw1NWQCS3YDw9cpDlOlnBpXDVY2GORH+sl9cfKjjvsGHDaP369d7r5zZDYEwXgNm+QEbaosTHx4t5fv4BMQdorKp3d4gE2VSqjQjKQDSoyBCb9OfBhAQXJJrICo5JJtj06NFdZF1BZPJYmOPY6PHB9lCBWDp27CQSeCpKsooVmC4ACcb5G+0LhMpmpC0KUhSB/smgAsFgv7y8/dqaUuBMgW5OOFWEClIhfbUPcGyIJliyv0p5cpfdjGUCkBjpC2S0LQru5K+8Ml1USoQSKKdvAyDBXR/SYIo01kZiOpLnfWGlF5FbsVwAEiN8gcywRUEIIq0DUR6VHXmxUgQwrdKHNHIKt38/GFYaZLkV2wRgBGbboiCWhgjU0CaSUMcfCFdUtwoJ7FJwDrUtEgxfNwPZLmD8Y6oAzPYFQtxvpC0KnhToSVHRx+kQERrd2dnZZUKjSJDHgvWKFDCOCcMq9FKF8zTBkwtWhrIhDvCdwOEN18/4xvSxQJmpAz1TFp06f7jMzx+1qJ/utUU5cnafWIdhEA+1G0rNE9Joy+E19OG+t8T6YMjuS9w1Af7DI7FFAXprEV9WJ0BfDviyI4eoVIsTPfprA6ptCtD/fSrq9emPhePgKQKxoqfJyPCsolAhfIEYJlLYF4hxNZYnxcML6NEOIym1UYY3zs8/vZPe272QrVEYy7FcAJLEOk0oyRMGoW3A1iiMXdgmAIZxAlH9HoBhygsLgHE1LADG1bAAGFfDAmBcjS0CYF8gxilYKgAMiGuT1Jkm9JtPacmd6WDBTjHHMtaHM2COYYzAsvcAGOj2WMZoSqzdhHYc2yjGAyEJBnd/MQ6oaU8quHi8zIA5J4PBcPxzStGP6U8At/sCMc7GVAGwLxDjdEwNgerWqE/PZL5KsVVq0udndtPavX+mC9+d1bbeDsr3a/sU3dewAxV9/y3Ny/19wPIS/Th4fT4ACKWMtCuBY4Q6/h5ZYcgOCzQuH+hzB4KdU25Hwo7+nPqcAMYc7kpMTHxB+1wuYmJiqLCw7GjOajE1KN1zN99zYjP96J6W1OO+AVSjShx9eeEIldy4laUEX6C+6b+kxzN+I+76n534B8XXSKDP/vUPunKtSCvlG1TK8ePH0/fff0+TJk2mRYsW0a5d/6S+ffvSiRP/okuXLokMqSlT/o9IoRw6dBitXLmSmjZtRj//eS+6cuUKffHFUXGsXr16iiSXlJQUmjHjNZozZ45Y7tq1iyiHivvuu38R+yPHuKTkuvecWLdu3TpxPhDKOePi4jzH7kqe/wOReQZxvPTSy1S1ahX66U97iLnefYIxFtPbAE7wBerdu7eYL126TMzB8uXLxX7YXwV3adWnR+blSs+gUAnnnMhQgxuFfDJEYovCRIZl3aB2+QIhzEBSPPJl1ZRElEfogZ4clJGggh44UD5vnXDPqbdGwT5wpuAQyHwsfQ8ArPYFqlOnjkgMRyij+vhg0uf0GoUd52Qiw3IBSKzyBZLWKUhY1/v4YILvvr+nR6TYcU4mMmwTgBHIihbIF8hf2FFeYFqFuzzu9nrMOidjPKYKwAm+QABdjPAFUsuUF4Rd8BWSjV09ZpyTMR5TBVB4+TztPbmFBnYM7eePsH149ymUlTGW9n+5nb4p+l9ti3/QPw97cjg2yzgbdul79uzxhhnoXUEvCxrMajyOSW+EFSo4L/rq0R0qj6VamptxTsZ4LBkLxL5AjFOxbDAc+wIxTsRyVwj2BWKchOUCkLAvEOMEbBMAwziBqH4PwDDlhQXAuBoWAONqWACMq2EBMK7GFgGwLxDjFCwVAPsCMU7D1JxgFQx0+1W3idSpWW/a869/0NtbX6XPC3bRzmMbxWjR3q2foBYN2tKpc0fo8tVvtb2iG2SsIdG+RYsWtG3bNm0t4yRMfwKwLxDjZEwVAPsCMU7H1KEQTvIFQjgyfvw4749j+/MF0tsdSi+g9evXe72B5O/uwt1B5viqnkD4bWDkCfiDPX+cg+khUMmNq7T18DpKiGtM4/rOpYfbDxc+QCpYxnpsRzmUx36hgAqJBBgwduyzIud23Ljx1L59e29yChJQpk6dIn4UW+bl7tuXR8OGDYsoOQWJ+NgXaZE41rRpL4r0SJn9hcot18PeBBVenhcTV37nYLoA7PYFggg6duwkEtTVigePHty1sU0KJRzU48HGBBYonAMcfVjWDWqXL1Dr1qkiNxd3axWUx37+EtuDkZ9fPu8gxhlYJgCJ1b5AEn9lsD+Ow7gTywUgscoXKBjYH8dh3IltAjCCUHyBYHOINgLMZ1VQ3pd9oZ7U1NZex+ZwkdcXH19XW8M4DVMF4ARfIFkG3ZVqj8+gQYNE2wD+PRK0E7AO7QYQrDszGDg3DLJg2YLeKsZ5mCoAp/gCoQw8/vv37+8t06rVfWUcmQF6dU6fPi26OFEGT4jZs2eLrsxImTNnrngCyWNigrAYZ2BJTjD7AjFOxbKkePYFYpyI5a4Q7AvEOAnbbFHYF4hxArYJgGGcQFS/B2CY8sICYFwNC4BxNSwAxtXYIgC2RWGcgqUCYFsUxmmwLYqFYEDcyy+/TNWrVyf8GjxjP6Y/AdgWhXEypgqAbVEYp2OqAOKqxVOjOs2oekxNSk/uSnViE7QtvsF2lEP5hrWbUM1qnEjCmIupQyHg8zOixzQ6eHoXtUzs4BFEXdp17GPamJ9DxVcva6VKbVF6pmbTA0170aXiC3SoYDe1avQAvbFpaki+QEh0wVh/CRwbnn9+nLZUmtiCsf3vvLOcnn76aa83kD9/Hn0ijK9y8BCSnkDAVxm9F5EEuQnIUZAEu37GPExvA5hti4LK2qdPH5EUI7144BSBCqqCrLHRo0cLQyuUQyVEJVezxJBBhh+7Tk9P8x4P0/ffX/FmdKFSL1++TFigSB8ilMU+6jlRftKkiWW8iFAOOcgqoV4/Yw6WdYOaZYuCzC6YXMnMLuT35ubm+kxDhLvbrXL7RaaXmlDfo0d3kRKpd4ybNWu2d7l3795ivmDBAm/GGbbhGtRzSr8i+A/5I9zrZ4zHMgFIjLRFSUtrIxLW8/MPaGtKOX/+vJjHx8eLOUBlD9b1iMR5VFok0vtCJtIj0R0J7yryGnDOUPyKQDjXz5iD5QKQGGGLgrs3KpCab4sJy+E6OaByI6xBEnugSgsClQnHosXI62ciwzYBGAHMrhBTq/G6OqkNzWCgQqNil9feMBSTLomR189EhqkCMNsWxehQQW+LogciQViD8AZhjgr8g1CZEWb58wNCu0C9s3OoYz+mCsBsWxQ0HGFjgl4UIxqMGzZsEJUY9udqBX/uuWe9x0cZMHjwk2IOsA29QOjxQSNWCkVtyKK3B8JRe4GMvn4mfCxJiTTbFkXfbw/0fv3obXn99ZmiggJUcPTRo9Kq/fcIf9TfGgD6Pn65r9q/r+/bB+q7AvTtL126TOyHXh61bLDrZ8zDspxgtkVhnIjlSfFsi8I4CdtcIdgWhXECtgmAYZxAVL8HYJjywgJgXA0LgHE1LADG1bAAGFdjiwDYF4hxCpYKIBp9gZAxtmrVStPH6mDYBIZCY1hEpOAYyGgrz2hWt2GZADDQDQPisjLGUN6pT0Vm2F/3vCnmWMb6UAbMuRmu4MZjugDYFyg0kASPHABfSfqMeZgqAPYFYpyOqUMhYIvyTOarFFulJn1+Zjet3fvngDYnKN+v7VN0X8MOVPT9tzQv9/eW26Ig1h8yZEiZxBWM4dcnyqtDnYF6LGxDZpmv4cz6Ydj64+iHVfu6HhV12LQ876ZNf6cBAwZ49/E1VJspxfQQqOTGVdp6eB0lxDWmcX3n0sPthwsfIBUsYz22oxzKY79QQOU2yhYFn5GPC/cImZaIcnpwbJwD55Llatas6W0oI7MsNrY61alTRyz7QqZOytDHl2UKgOgef3ygKANho8JLOxZMI0aMKCMy/J2o/BAstkOYmZmZt2WwMaWYLgAzfYHwn2qULQoalh07dhKVLNDdEuVwl/3666+9yTUAQpTHVvOCUR4NVynIxMSGYi7TIY1G/7SC4wSeBHCgYG7Hsl4gc3yBjLNFQR4w8oHz831bokhwt0XyPMIW/VNGIs+Pyo6nAJ4GMo8Y1+QvnDGCQLYuzO1YJgCJkb5AdtmKIGxBaAERyHOq/fcFBWfEHJUdIr148aKY5N0fd2lZhrEXywUgMcIXyE5bETRgcQ7E44jL0Z7Qv8SCQDHt2bOHrl69KpwjsOzLWIuxB9sEYARG2orgjgwxyTYBkO2CQCAkQi8MRCBtUKQtSkxMZWrYsIG4ToRW6InCulDMt3wRSuOaCQ9TBWC2LxAaekbZiqBBi4YtGtWyx2Ts2DGiwqm9M9iG2F99GyvbD6igQLYT2rRBG6WyiMnR/sCxsE6WCxc88dCFK/1JmfJjqgDM9gUCiMfRC6RvB0QyZGDOnLnizj116hRxDFRUdJuqQCibN2+mmTNf955Ldp2q7xRkJZf+oFJgQPYSQUxwmpbHQLsF7zOwjPVSiBKEdGh7INyS5+ahEeXDkpxgs32BGCZSLEuKZ18gxolY7grBvkCMk7DNFoV9gRgnYJsAGMYJRPV7AIYpLywAxtWwABhXwwJgXA0LgHE1tgiAfYEYp2CpAKLRF8gOMNjOrDE+cvyRfui2W7FMAOwLVH7MFIZbMV0A7AvEOBlTBcC+QIzTMXUohBN8gRDzwocHY+1VtwRf62WSO8b7q148el8dhCDBfkoVMXaoXkQo6+9nUpFsE6ovENB/FzAD8PfzsECeV18OyLLy2vWOExUB00Mgu32B8B8qk1rwS+0S/NC1XhQAie6ocFiP46HC6jPORo0aRWvXrvHmHkuPIX3DMhQvIlwnstBUjyEIWIJrC9UXCNfYokWKdxvKIcEHlRiVWaV582ZCoCgjy+Hvku0LWfmRxCOP98or08V3WJHaIKYLwAm+QNiGjC1UblQ+TPis+gRJ9Hc5+evxSGiXoKKr+23atFlUTFQofeUI5EWE68N14nrVO2+k4DyqCCGMHTu2izu43hfo2rUS75NDloNge/QovUnAwQI3CNUmBteIJ6sUXEXAsl4gu32BEMLgDorwAJM/Ayy9r45McJcJ775AhUAOsJ5gXkQQFcQVqEx5wXeh5jRLZKqmRJaT4pQmAfiu1CdWRcMyAUjs9AVaunSZqJSY8DlScOfGbwao58QTxQkgpFKvy993oUdWeAnu9hMnThJPNogAx7LidxKsxnIBSKz2BUJoghj32rVrYlLj3XBABUAbAW4U6rnUuN0uUPkRUqnfhz/PUT0y5FFtHfGEQBtDHgfgb69IIrBNAEYQji/QoEGDhHXJ6tWracuWLSLexbpg6C0TZVsAPUXlBZUNlU46xgHZLvBFIF8gtIfQ+Icw9e2aUJB/l/xO9eCYaBsBI3yYnIKpAnCKLxBiWPS+yMaybA+kp6cF3A9PiH79HhLtAjR0gay0ssKgDN7ORhICIfbH3Vn2TqESZ2dn0+XLl8WyHpzbny+QbKtID1KAvzuUEAjfAb4LtTMB++p7tYKJJBoxVQBO8AXCfy4EgrgfPToStAFQ+fSPdDwZ5syZLY6BORq3alcjxKN686AMelAiCYFkFy3u+DjWpEkTxfIXXxzVSpRFf27178T1LViwQJSTvkZwtVuxYsVtsT26NtVj4LvT+xrJ8FGWwYQeN3SFRvKEcSqW5ARHiy8QYmh/P2zBVEzuSkxMfEH7XC5iYmKosNC3rUlh8XlPxd9A165fpW739qcMT0X/4eYNSqiV5AmTrtOA+0dSUnwL+mj/O7Rix2y66BGBHfTq1ZMqV46hrVu30qVLbNHiBixrBKMtgH7+6WtGiLv7g837CI8gzLGM9eG+B2CY8mJ5L1Bp3/8MmvPROHp/9yIxxzKbYjF2wL5AjKuJ6vcADFNeWACMq2EBMK6GBcC4GhYA42psEQD7AjFOwdJuUAyIQ0ZY/3bDxDJ+JQa/DgOQLXbgy0/LNTwaQxnUQWkYnyNzgxnGF5YJAAPdHssYTYm1m9COYxvFeCAkweDuL8YBNe1JBReP07s7/9uvc0Qg5Fj4aEzaxqhLDDTTJ6Uz5mN6CGSFL1B5x8Iz7sVUAVjtCxTp7+8y7qVC+ALhCSC9bvSeOxJZJpDHjQxFFi1aRE88Mcjr+yO9dwD8gJBQjiR5tDcwPh+JKsib1R8TeQaqp4+6XX89epC/wCGR+ZgugBE9ptHB07uoZWIHiqtWl3Yd+5g25udQ8dVbWU/wBeqZmk0PNO1Fl4ov0KGC3dSq0QP0xqapAQWAZBBZSfWolQ3ZTaigqikVKjuSQlTTK7kOyLKyoiKJBD+kDQFUrlzJm7QCwSDH+C9/We0RTbZXhNgP3kPYR+YW+GuncBvAPkxvA5jpCyQTtmEqhTsmKq1MBoeZFCoZsqWQGYUeIfXpsHz5cnFnxzaUUYEoZFmZQYVEmfr1E8S6ypUre7PLcAdHjvGZM2fEsrRPwX56Dx2ZRyxTCxn7sew9gBm+QKEgk9r17QNUTIQy+iRzPDn0Oa+oyBDb2bNfi2UIQt6pfZX3h956hLEfy1+EGekLFA6q3YeK3pXBSBDaqDm1yNX1F/Mz9mC5ACRG+AIZAe7IuDMbjdrGkGGZDNUY52CbAKwCNoewNUlNTdXWlIK4H16eajhjFPLYaGNIO5VA+PIHYqzBVAGY7QsUCoj1YVuCLkvV41IaZRlhcKUH54SdCo6PNghAlyhsT3yFQLINobpXM9ZgqgCs8AUKBXRzIhSRHpdWeNyg+xNPHulXBMOrt99e4jMEwjVI92p5ffgdL3SlMuZiyVigaPEFYtyHZYPh7vSENJ1b9BPdn1evXxEjQdOSulDeqa1iRGjM3VU9wsihbUfWsjUKYxmWCUACL6BHO4yk1EYZ3jg///ROem/3QrZGYSzHcgFIEus0oSRPGHTKE/4UfHNcW8sw1mKbABjGCVT49wAMEwgWAONqWACMq2EBMK7GFgGwLQrjFCwVAMYDtUnqTBP6zae05M50sGCnmGMZ68MZL8QwRmBZN6jZtiiAfYGYcDFdAKFWcH8CCRX2BWIiwdQQyCpbFIyaZF8gJhJMFUBctXhqVKcZVY+pSenJXalObGlSuT+wHeVQvqHnSVCzWmmCeaiwLxATLqaGQGbbokikdYmbfYGQ7JOZmUm5ubnid5FxLvXv0LeHgrWX8F0gq+2dd5bT008/7b1O1VqmImDqz6RWi6lB7ZK70bYj62jt3j9R0dVvqVPz3tS95QC6fqOEvrr4L+rc4hf0VLfJlBCXTBsP5FDO9lnIFKZ7G7Sjz05uoSvXirSj3Q58gYYNG0o/+Uk3UckaNmxIWVkDxTRgwKN05coV4d+DygFXB/yg9jPP/IZWrlxJTZs2o379fkFVq1bxVLL94nhdunQR/+memwJ9/vkhUfbIkSPUvftPhDB27dpFXbt2FRXq9OkCOnPmK7EebY9ly5bTffe1FCNct23bJio4RPHSSy+Liohz4rjYH9f1ySdb6b333hPrURFr164tEnTmzJkj1mEb0jVDBedLSUnxCLMerVq1SqSAYjp+/IS4TpwDlRzHROU+fvy4Zz5JnOvy5SJxXbi+jRs3iuPhu2jevJlYh2QdlMV39dOf9ijznUU7lnWDmmGLwr5AZcFNAE8neS3XrpWIvxOoOcf426QZGMD3hPYT2lEQkopqHIb8Znxn+vzqaMbyF2FW26K4yRcIx87PP6AtkchLVgUYCF/tJ9xU1Du9zHXGzUB/04hWLBeAxGpbFPYFugXu8sg5Vq9NWkK6DdsE4BRw13STL5BsfBcVXaaxY5/1XhvCRzdiqgCcYIvCvkBlSUtrI55CsIoJNTySQDxoJyB0DHdfp2KqAJxgi4L/KPYFugXOhaeeekNAl2goIRDcroHsAKgImB4C5eavpPm5Eyk2Jo6e6zPL56+/iNGh+BUZz/a6sQk0/2+T6MN9b2lbyw/7At3C17nQAPYVAkGsaLfIcmj8ojvU6CemnVg2GI5tUaIL+VKwoo9PsqwRjEqNfv7pa0YI06sHm/cRFimYYxnrzbBHZ5hAWN4LVNr3P4PmfDSO3t+9SMyxzJ5AjB2wLYrD0Y/Z8QUatUYPA3dLCMQCYFyN5SEQwzgJFgDjalgAjKthATCuxhYBiDe/7AvEOABLBWCmLxC6C/G6Ht13RoLxQ6tWrRRjeZiKh2UCwEA3DIjLyhhDeac+FZlhf93zpphjGetDGTDHMEZSYXyBzAJPACSZR6PfEBMcU58AVvkCMUykmCoAK3yBZOwvJ3XMvwTtAjhIdOvWtUwqoK/2AmJ9xPyyDIZQ+wL7yjL6Y8mUQ33bwd96xj5MbwOU3LhKWw+vo4S4xjSu71x6uP1w4QOkgmWsx3aUQ3nsFwpIWEdK3+LFiwMmnMPKZPTo0ZSTkyPKIz8ASSCqYPAZ4/cxXl6mCqKcHogO42SQ4ijPnZ6e5hUBxs7gPEBNckFCCTK/OJxyDqYLAGmNR87updc8jd0PPltMrRs/SJP7L6auKf1FiIM5ltsm96ANectEOZQ3Ih1SDyq2rHhwO0BySv36DcSyap+iWobowZ0bPkAwoJKDxHBMeA5BFDKJBetk4gmEhQmf1Wtg7MeyXiCM8zfaFygc9BYfeqR9Sn5+vrbGN/D0wZNGfyxfeb0QEgSFMApTMHEx1mOZACRW+wIZDYyv9KmCmPy1FZYuXSbEhwmfGWdhuQAkVvsCGQXyZ1GZZfyvTtKNToKwatSoUXTt2jUx4XNFMZSqKNgmAKchXdtkmwDIdoFKOBYm0nli9erVwj4RDXGsY5yDqQJwgi9QqKBBC48gtSE7duwYYZ2o9i7B5wduD3B5COTagEYvepnQOMZTQbYH0FvEXaDOwVQBmO0LJPvVEYOj+xJ3Zml9EomtCKxM4Jgm43uEO7I7UwLPH/iEQiz6dgC6RwEqON4eI1RSPXTQBoCYYJnOInAGlqREJtdLoYEZY6hW9Xq04+jHYphDcnwKZXd6lnK2z6aT5w+XDpdo1ssjmnO0cudc4RTBMGbDvkCMq7E8KR5eQI92GEmpjTK8cX7+6Z303u6FbI3CWI5trhCJdZpQkicMOuUJfwq+Oa6tZRhrsU0ADOME+D0A42pYAIyrMUwA0TakgWGAYQK4fv26I37/imHCwVAByJGSDBMtGNYLBO6++27vVB6LE4axCkMFwDDRBvcCMa6GBcC4GhYA42pYAIyrYQEwroYFwLgaFgDjYoj+PyGvrgLOX3LuAAAAAElFTkSuQmCC)Slicing works in backward case too which is known as backward counting starts with -1 and goes on where if there is [-3:-1] then -1 is not included their."
      ],
      "metadata": {
        "id": "4_q8YTuR5XdN"
      }
    },
    {
      "cell_type": "markdown",
      "source": [
        "# Slicing works in backward case too which is known as backward counting starts with -1 and goes on where if there is [-3:-1] then -1 is not included their."
      ],
      "metadata": {
        "id": "p3cWHoNMFa4O"
      }
    },
    {
      "cell_type": "code",
      "source": [
        "str = \"banana\"\n",
        "print(str[-4:])"
      ],
      "metadata": {
        "id": "BBFjN2_f7U60",
        "colab": {
          "base_uri": "https://localhost:8080/"
        },
        "outputId": "ca645275-2464-42f1-a2ca-d292974c9261"
      },
      "execution_count": 12,
      "outputs": [
        {
          "output_type": "stream",
          "name": "stdout",
          "text": [
            "nana\n"
          ]
        }
      ]
    },
    {
      "cell_type": "code",
      "source": [
        "print(str[-4:-1])"
      ],
      "metadata": {
        "colab": {
          "base_uri": "https://localhost:8080/"
        },
        "id": "5FZgerQe6Kr8",
        "outputId": "a92aa490-c30f-4279-c5fb-ad526893239c"
      },
      "execution_count": 13,
      "outputs": [
        {
          "output_type": "stream",
          "name": "stdout",
          "text": [
            "nan\n"
          ]
        }
      ]
    },
    {
      "cell_type": "markdown",
      "source": [
        "## Now String Functions:-\n",
        "## 1. str.endswith(\"substring_name\"):used to check that string should ends with that particular substring.\n",
        "\n"
      ],
      "metadata": {
        "id": "HFLL3joD6sHr"
      }
    },
    {
      "cell_type": "code",
      "source": [
        "str1 = \"I am Studying from a University\"\n",
        "print(str1.endswith(\"ity\"))"
      ],
      "metadata": {
        "colab": {
          "base_uri": "https://localhost:8080/"
        },
        "id": "eSICh5j46UL3",
        "outputId": "4243f54c-410c-4807-b4dd-ebdbeb13c365"
      },
      "execution_count": 14,
      "outputs": [
        {
          "output_type": "stream",
          "name": "stdout",
          "text": [
            "True\n"
          ]
        }
      ]
    },
    {
      "cell_type": "code",
      "source": [
        "str2 = \"This is Country of diversity.\"\n",
        "print(str2.endswith(\"ty\")) #here bcoz fullstop is missing this is showig False."
      ],
      "metadata": {
        "colab": {
          "base_uri": "https://localhost:8080/"
        },
        "id": "7bTu5mL874TQ",
        "outputId": "59fe6ac6-06eb-4c9b-852e-499904ea95b0"
      },
      "execution_count": 15,
      "outputs": [
        {
          "output_type": "stream",
          "name": "stdout",
          "text": [
            "False\n"
          ]
        }
      ]
    },
    {
      "cell_type": "code",
      "source": [
        "print(str2.endswith(\"ity.\"))#here fullstop is added and now it is showing True."
      ],
      "metadata": {
        "colab": {
          "base_uri": "https://localhost:8080/"
        },
        "id": "ixvIILnv8iVw",
        "outputId": "dbe68712-1b00-4203-adb1-4114ad604a67"
      },
      "execution_count": 16,
      "outputs": [
        {
          "output_type": "stream",
          "name": "stdout",
          "text": [
            "True\n"
          ]
        }
      ]
    },
    {
      "cell_type": "markdown",
      "source": [
        "# 2. str.capitalize(): To capitalize the first character of the string."
      ],
      "metadata": {
        "id": "6By1nCFg_OER"
      }
    },
    {
      "cell_type": "code",
      "source": [
        "#this str.capitalize won't make changes into original string it makes new string.\n",
        "str = \"meet me\"\n",
        "print(str.capitalize())"
      ],
      "metadata": {
        "colab": {
          "base_uri": "https://localhost:8080/"
        },
        "id": "jv_PpZ_88vRt",
        "outputId": "e5ffeaec-3622-43b2-cc2f-39a8b5e8dd01"
      },
      "execution_count": 17,
      "outputs": [
        {
          "output_type": "stream",
          "name": "stdout",
          "text": [
            "Meet me\n"
          ]
        }
      ]
    },
    {
      "cell_type": "code",
      "source": [
        "# for example :-\n",
        "print(str)"
      ],
      "metadata": {
        "colab": {
          "base_uri": "https://localhost:8080/"
        },
        "id": "yKTeJunv-iDs",
        "outputId": "646ea0c1-1276-4904-c0d4-7e39e4c3543b"
      },
      "execution_count": 18,
      "outputs": [
        {
          "output_type": "stream",
          "name": "stdout",
          "text": [
            "meet me\n"
          ]
        }
      ]
    },
    {
      "cell_type": "code",
      "source": [
        "#For making change into original string do this.\n",
        "\n",
        "strr = \"she is excellent is dancing\"\n",
        "str = strr.capitalize()\n",
        "print(str)"
      ],
      "metadata": {
        "colab": {
          "base_uri": "https://localhost:8080/"
        },
        "id": "hSCSktxw9xDc",
        "outputId": "1cd55e2f-0ed9-4970-f316-bab42aa6235d"
      },
      "execution_count": 19,
      "outputs": [
        {
          "output_type": "stream",
          "name": "stdout",
          "text": [
            "She is excellent is dancing\n"
          ]
        }
      ]
    },
    {
      "cell_type": "code",
      "source": [
        "# for example :-\n",
        "print(str)"
      ],
      "metadata": {
        "colab": {
          "base_uri": "https://localhost:8080/"
        },
        "id": "Vd6Geei7-f5g",
        "outputId": "c575f076-38cf-4e5d-8280-9dfa71a5f221"
      },
      "execution_count": 20,
      "outputs": [
        {
          "output_type": "stream",
          "name": "stdout",
          "text": [
            "She is excellent is dancing\n"
          ]
        }
      ]
    },
    {
      "cell_type": "markdown",
      "source": [
        "# 3. str.replace(old,new): replacing old values from new characters."
      ],
      "metadata": {
        "id": "UebOaKLH_ZvE"
      }
    },
    {
      "cell_type": "code",
      "source": [
        "strr = \"I am in currently in College  Hostel\"\n",
        "print(strr.replace(\"o\", \"aw\"))"
      ],
      "metadata": {
        "colab": {
          "base_uri": "https://localhost:8080/"
        },
        "id": "jbeWEZv0-wCH",
        "outputId": "9a9806ee-1176-4ae4-db32-7d0a37b05668"
      },
      "execution_count": 21,
      "outputs": [
        {
          "output_type": "stream",
          "name": "stdout",
          "text": [
            "I am in currently in Cawllege  Hawstel\n"
          ]
        }
      ]
    },
    {
      "cell_type": "code",
      "source": [
        "str3 = \"I am studying python from youtube.\"\n",
        "print(str3.replace(\"python\", \"SQl\"))"
      ],
      "metadata": {
        "colab": {
          "base_uri": "https://localhost:8080/"
        },
        "id": "wYzXJPFD_6zH",
        "outputId": "c16455f8-f24c-4a09-8880-35e7e46e998d"
      },
      "execution_count": 22,
      "outputs": [
        {
          "output_type": "stream",
          "name": "stdout",
          "text": [
            "I am studying SQl from youtube.\n"
          ]
        }
      ]
    },
    {
      "cell_type": "markdown",
      "source": [
        "# 4. str.find(\"word\"): It checks for the specific words in a string and gives the first index of that strings returns to us."
      ],
      "metadata": {
        "id": "dEzuYNwvAdlo"
      }
    },
    {
      "cell_type": "code",
      "source": [
        "str3 = \"I am studying Python from youtube\"\n",
        "print(str3.find(\"r\"))"
      ],
      "metadata": {
        "colab": {
          "base_uri": "https://localhost:8080/"
        },
        "id": "1RaMw7itAa3X",
        "outputId": "fb0b3eb7-caef-475e-8bcb-171f37bd01c4"
      },
      "execution_count": 23,
      "outputs": [
        {
          "output_type": "stream",
          "name": "stdout",
          "text": [
            "22\n"
          ]
        }
      ]
    },
    {
      "cell_type": "code",
      "source": [
        "# If we are searching for a word than first char index will be shown to us.\n",
        "print(str3.find(\"am\"))"
      ],
      "metadata": {
        "colab": {
          "base_uri": "https://localhost:8080/"
        },
        "id": "OkLx-RW2BFd4",
        "outputId": "14ba22b1-e36d-4a31-85aa-85a8872ed4fc"
      },
      "execution_count": 24,
      "outputs": [
        {
          "output_type": "stream",
          "name": "stdout",
          "text": [
            "2\n"
          ]
        }
      ]
    },
    {
      "cell_type": "code",
      "source": [
        "# here bcoz slicing only contais -ve indexes so for char which do not exists\n",
        "# comes with -1 indexing answers to show it's unavailability.\n",
        "print(str3.find(\"Q\"))"
      ],
      "metadata": {
        "colab": {
          "base_uri": "https://localhost:8080/"
        },
        "id": "BByZEGV7BSjV",
        "outputId": "dc039ba0-cd75-4677-fd68-df1d688d7d89"
      },
      "execution_count": 25,
      "outputs": [
        {
          "output_type": "stream",
          "name": "stdout",
          "text": [
            "-1\n"
          ]
        }
      ]
    },
    {
      "cell_type": "markdown",
      "source": [
        "# 5. str.count(\"am\"): counts the occurences of the substring."
      ],
      "metadata": {
        "id": "4MnSyxgdCIi-"
      }
    },
    {
      "cell_type": "code",
      "source": [
        "str4 = \"I am studying Python from youtube am\"\n",
        "print(str4.count(\"am\"))"
      ],
      "metadata": {
        "colab": {
          "base_uri": "https://localhost:8080/"
        },
        "id": "px38_uy6Bs8P",
        "outputId": "07ee2606-61a2-4fa9-8002-2a51099fc116"
      },
      "execution_count": 26,
      "outputs": [
        {
          "output_type": "stream",
          "name": "stdout",
          "text": [
            "2\n"
          ]
        }
      ]
    },
    {
      "cell_type": "code",
      "source": [
        "print(str4.count(\"o\"))"
      ],
      "metadata": {
        "colab": {
          "base_uri": "https://localhost:8080/"
        },
        "id": "v4fYiWFUCd9w",
        "outputId": "f9e647d9-bbb9-4a29-82dc-3d71da84b978"
      },
      "execution_count": 27,
      "outputs": [
        {
          "output_type": "stream",
          "name": "stdout",
          "text": [
            "3\n"
          ]
        }
      ]
    },
    {
      "cell_type": "markdown",
      "source": [
        "# Some Functions inside the String:-\n",
        "# Find, replace, capitalize, casefold, center, count, encode, endswith, expandtabs, format, format_map && index."
      ],
      "metadata": {
        "id": "kbaUEm8qDBHO"
      }
    },
    {
      "cell_type": "code",
      "source": [
        "# Let's Solve a practice Questions :-\n",
        "# Wap to input user's name & print its length.\n",
        "\n",
        "x = input(\"enter your name: \")\n",
        "print(len(x))"
      ],
      "metadata": {
        "colab": {
          "base_uri": "https://localhost:8080/"
        },
        "id": "5RYwiYkICn9Q",
        "outputId": "a08a82b2-b0a6-45a2-e65c-f5ea941d6c1e"
      },
      "execution_count": 28,
      "outputs": [
        {
          "output_type": "stream",
          "name": "stdout",
          "text": [
            "enter your name: Pratik\n",
            "6\n"
          ]
        }
      ]
    },
    {
      "cell_type": "code",
      "source": [
        "# Wap to find the occurence of '$ in a sting.\n",
        "\n",
        "c = \"The price of the product is $1000. We need to allocate $5000 for the project.\"\n",
        "print(c.count(\"$\"))"
      ],
      "metadata": {
        "colab": {
          "base_uri": "https://localhost:8080/"
        },
        "id": "fpXU1NxOEQuh",
        "outputId": "c37a7c33-1eef-4bbd-f3ad-cf2854ba5e5d"
      },
      "execution_count": 29,
      "outputs": [
        {
          "output_type": "stream",
          "name": "stdout",
          "text": [
            "2\n"
          ]
        }
      ]
    },
    {
      "cell_type": "code",
      "source": [
        "print(c.find(\"$\"))"
      ],
      "metadata": {
        "colab": {
          "base_uri": "https://localhost:8080/"
        },
        "id": "DrgWduBoFpsK",
        "outputId": "4588ddfa-ff29-4d6c-8f71-f5a2537daa84"
      },
      "execution_count": 30,
      "outputs": [
        {
          "output_type": "stream",
          "name": "stdout",
          "text": [
            "28\n"
          ]
        }
      ]
    },
    {
      "cell_type": "markdown",
      "source": [
        "# Now we are studying about Conditional Statement. So, If-Else-Elif syntax being used for these."
      ],
      "metadata": {
        "id": "s6_58IkpUdSW"
      }
    },
    {
      "cell_type": "code",
      "source": [
        "# Example for If syntax.\n",
        "age = 21\n",
        "if (age>= 18):\n",
        "  print(\"Eligible for Voting.\")"
      ],
      "metadata": {
        "id": "iwyU7vy1GY2M",
        "colab": {
          "base_uri": "https://localhost:8080/"
        },
        "outputId": "6786c950-c1ef-4ece-e47e-fce8c4c55c12"
      },
      "execution_count": 31,
      "outputs": [
        {
          "output_type": "stream",
          "name": "stdout",
          "text": [
            "Eligible for Voting.\n"
          ]
        }
      ]
    },
    {
      "cell_type": "code",
      "source": [
        "#here condition is not true hence no stmt eill get print.\n",
        "age = 15\n",
        "if (age>= 18):\n",
        "  print(\"Eligible for Voting.\")"
      ],
      "metadata": {
        "id": "TEzbHaZcVLdU"
      },
      "execution_count": 32,
      "outputs": []
    },
    {
      "cell_type": "code",
      "source": [
        "# Example for elif/else ik.\n",
        "\n",
        "marks = \"98\"\n",
        "if(marks>=\"90\"):\n",
        "  print(\"Merit Student\")\n",
        "elif(marks<=\"90\"):\n",
        "  print(\"Not a merit student\")\n",
        "elif(marks>= \"75\"):\n",
        "  print(\"Distinction\")\n"
      ],
      "metadata": {
        "colab": {
          "base_uri": "https://localhost:8080/"
        },
        "id": "MpZmRbCJVf0s",
        "outputId": "4bfa4b1a-a837-4288-f50a-1173fa8aad88"
      },
      "execution_count": 33,
      "outputs": [
        {
          "output_type": "stream",
          "name": "stdout",
          "text": [
            "Merit Student\n"
          ]
        }
      ]
    },
    {
      "cell_type": "code",
      "source": [
        "light = \"green\"\n",
        "if(light == \"green\"):\n",
        "  print(\"Go\")\n",
        "elif(light == \"red\"):\n",
        "  print(\"stop\")\n",
        "\n",
        "\n",
        "print(\"ENd of Code\")"
      ],
      "metadata": {
        "colab": {
          "base_uri": "https://localhost:8080/"
        },
        "id": "GtEMPvOYW3wD",
        "outputId": "01aa754d-9357-47bc-f54c-1e522927b844"
      },
      "execution_count": 34,
      "outputs": [
        {
          "output_type": "stream",
          "name": "stdout",
          "text": [
            "Go\n",
            "ENd of Code\n"
          ]
        }
      ]
    },
    {
      "cell_type": "markdown",
      "source": [
        "# Difference between IF and ELIF Statemnt:-\n",
        "If stmt always goes through checking but elif only goes when if gives False."
      ],
      "metadata": {
        "id": "ayGE-y3XsI5b"
      }
    },
    {
      "cell_type": "code",
      "source": [
        "# Example for multiple if stmt which gives all condition checks.\n",
        "num = 5\n",
        "if(num > 2):\n",
        "  print(\"greater than 2\")\n",
        "if(num > 3):\n",
        "  print(\"greater than 3\")"
      ],
      "metadata": {
        "id": "zGXqBP6rXMdO",
        "colab": {
          "base_uri": "https://localhost:8080/"
        },
        "outputId": "61d4a279-75e5-44bd-c258-37293361f534"
      },
      "execution_count": 35,
      "outputs": [
        {
          "output_type": "stream",
          "name": "stdout",
          "text": [
            "greater than 2\n",
            "greater than 3\n"
          ]
        }
      ]
    },
    {
      "cell_type": "code",
      "source": [
        "# Exmple for If and Elif where after If gets False only Elif got check.\n",
        "num = 45\n",
        "if(num>30):\n",
        "  print(\"pass\")\n",
        "elif(num<50):\n",
        "  print(\"C Grade\")"
      ],
      "metadata": {
        "colab": {
          "base_uri": "https://localhost:8080/"
        },
        "id": "PjmbcLEBsq-Q",
        "outputId": "9bee4667-4846-4690-e5dd-043c3b793e27"
      },
      "execution_count": 36,
      "outputs": [
        {
          "output_type": "stream",
          "name": "stdout",
          "text": [
            "pass\n"
          ]
        }
      ]
    },
    {
      "cell_type": "code",
      "source": [
        "# now else stmt which can be written only once at last.\n",
        "light = \"white\"\n",
        "if(light == \"green\"):\n",
        "  print(\"Go\")\n",
        "elif(light == \"red\"):\n",
        "  print(\"stop\")\n",
        "elif(light == \"yellow\"):\n",
        "  print(\"Wait\")\n",
        "else:\n",
        "  print(\"Light is broken\")"
      ],
      "metadata": {
        "colab": {
          "base_uri": "https://localhost:8080/"
        },
        "id": "Uh0C2jTitNRS",
        "outputId": "1897b3e2-04c0-427b-91a3-813804f071d2"
      },
      "execution_count": 37,
      "outputs": [
        {
          "output_type": "stream",
          "name": "stdout",
          "text": [
            "Light is broken\n"
          ]
        }
      ]
    },
    {
      "cell_type": "code",
      "source": [
        "# another example of else:\n",
        "\n",
        "age = 60\n",
        "if age>= 60 :\n",
        "  print(\"Senior Citizen\")\n",
        "else:\n",
        "  print(\"Not a Senior Citizen\")"
      ],
      "metadata": {
        "colab": {
          "base_uri": "https://localhost:8080/"
        },
        "id": "4h9Y1Y6PtzNO",
        "outputId": "a0fef430-3456-4d75-e785-206d2a192a62"
      },
      "execution_count": 38,
      "outputs": [
        {
          "output_type": "stream",
          "name": "stdout",
          "text": [
            "Senior Citizen\n"
          ]
        }
      ]
    },
    {
      "cell_type": "code",
      "source": [
        "# another example\n",
        "age = 25\n",
        "if(age >= 18):\n",
        "  print(\"Can Vote\")\n",
        "else:\n",
        "  print(\"Cannot Vote\")"
      ],
      "metadata": {
        "colab": {
          "base_uri": "https://localhost:8080/"
        },
        "id": "v_gcIs18uLiM",
        "outputId": "7f97cad8-20cd-4d18-abfb-39a565e1b3b7"
      },
      "execution_count": 39,
      "outputs": [
        {
          "output_type": "stream",
          "name": "stdout",
          "text": [
            "Can Vote\n"
          ]
        }
      ]
    },
    {
      "cell_type": "markdown",
      "source": [
        "# Indentation:- proper spacing"
      ],
      "metadata": {
        "id": "qG-EQx2Avjgy"
      }
    },
    {
      "cell_type": "code",
      "source": [
        "# An Example of Conditional Statement:-\n",
        "marks = int(input(\"enterthe students marks: \"))\n",
        "if(marks >= 90):\n",
        "   print(\"Grade A\")\n",
        "elif(marks >= 80 and marks<90):\n",
        "  print(\"Grade B\")\n",
        "elif(marks>= 70 and marks<80):\n",
        "  print(\"Grade C\")\n",
        "elif(marks < 70):\n",
        "  print(\"Grade D\")\n"
      ],
      "metadata": {
        "colab": {
          "base_uri": "https://localhost:8080/"
        },
        "id": "F10vUhn1u1pF",
        "outputId": "825f67b9-2617-4401-e84e-6c874cda1c92"
      },
      "execution_count": 44,
      "outputs": [
        {
          "output_type": "stream",
          "name": "stdout",
          "text": [
            "enterthe students marks: 100\n",
            "Grade A\n"
          ]
        }
      ]
    },
    {
      "cell_type": "markdown",
      "source": [
        "# Nesting in Conditional Statement:- Nesting refers to placing one code block within another."
      ],
      "metadata": {
        "id": "7eB4dh2znLGR"
      }
    },
    {
      "cell_type": "code",
      "source": [
        "# an example of nesting.\n",
        "\n",
        "age = float(input(\"Enter your age: \"))\n",
        "\n",
        "if(age>=18):\n",
        "  if(age>=70):\n",
        "    print(\"They won't drive on Expressway.\")\n",
        "  else:\n",
        "    print(\"They can drive anywhere.\")\n",
        "else:\n",
        "  print(\"Can not drive a car.\")"
      ],
      "metadata": {
        "colab": {
          "base_uri": "https://localhost:8080/"
        },
        "id": "20ncqZw0w0X2",
        "outputId": "ac3492bc-d63b-43e9-c96f-c1ef7f2fa503"
      },
      "execution_count": 46,
      "outputs": [
        {
          "output_type": "stream",
          "name": "stdout",
          "text": [
            "Enter your age: 96\n",
            "They won't drive on Expressway.\n"
          ]
        }
      ]
    },
    {
      "cell_type": "code",
      "source": [
        "# Let's do the practice problems.\n",
        "\n",
        "# WAP to check if a number entered by the user is odd or even.\n",
        "\n",
        "num = int(input(\"Enter the number: \"))\n",
        "\n",
        "if num % 2 == 0 :\n",
        "  print(num,\"is even\")\n",
        "else:\n",
        "  print(num,\"is odd\")"
      ],
      "metadata": {
        "colab": {
          "base_uri": "https://localhost:8080/"
        },
        "id": "zJYU2SpspQuz",
        "outputId": "c1f5b194-13e2-4a2c-bd90-4add697d1558"
      },
      "execution_count": 72,
      "outputs": [
        {
          "output_type": "stream",
          "name": "stdout",
          "text": [
            "Enter the number: 2\n",
            "2 is even\n"
          ]
        }
      ]
    },
    {
      "cell_type": "code",
      "source": [
        "# Let's do the practice problems.\n",
        "\n",
        "# WAP to check if a float number entered by the user is odd or even.\n",
        "\n",
        "num = float(input(\"Enter the number: \"))\n",
        "\n",
        "if num % 2 != 0 :\n",
        "  print(num,\"is odd\")\n",
        "else:\n",
        "  print(num,\"is even\")"
      ],
      "metadata": {
        "colab": {
          "base_uri": "https://localhost:8080/"
        },
        "id": "2Tg529mZrV0p",
        "outputId": "086dbf7d-660b-4a68-f5ca-cc3fdbaeb999"
      },
      "execution_count": 77,
      "outputs": [
        {
          "output_type": "stream",
          "name": "stdout",
          "text": [
            "Enter the number: 50\n",
            "50.0 is even\n"
          ]
        }
      ]
    },
    {
      "cell_type": "code",
      "source": [
        "num =90\n",
        "rem = num % 2\n",
        "\n",
        "if num % 2 != 0 :\n",
        "  print(num,\"is odd\")\n",
        "else:\n",
        "  print(num,\"is even\")"
      ],
      "metadata": {
        "colab": {
          "base_uri": "https://localhost:8080/"
        },
        "id": "_LfjRiwTtAGa",
        "outputId": "99b87277-d772-4099-c838-c13bea0e9776"
      },
      "execution_count": 78,
      "outputs": [
        {
          "output_type": "stream",
          "name": "stdout",
          "text": [
            "90 is even\n"
          ]
        }
      ]
    },
    {
      "cell_type": "code",
      "source": [
        "# WAP to find the greatest of 3 numbers entered by the user.\n",
        "\n",
        "a = int(input(\"Enter the first numbers: \"))\n",
        "b = int(input(\"Enter the second numbers: \"))\n",
        "c = int(input(\"Enter the third numbers: \"))\n",
        "\n",
        "if (a >= b and a >= c):\n",
        "  print(a,\" is the greatest value\")\n",
        "elif (b >= c):\n",
        "  print(b,\"is greatest value\")\n",
        "else:\n",
        "  print(c,\"is greatest value\")"
      ],
      "metadata": {
        "colab": {
          "base_uri": "https://localhost:8080/"
        },
        "id": "y2g9JL6KsmL1",
        "outputId": "7dfa8a21-c024-4769-ca2c-4663e8ae52a1"
      },
      "execution_count": 79,
      "outputs": [
        {
          "output_type": "stream",
          "name": "stdout",
          "text": [
            "Enter the first numbers: 74\n",
            "Enter the second numbers: +4\n",
            "Enter the third numbers: 70\n",
            "74  is the greatest value\n"
          ]
        }
      ]
    },
    {
      "cell_type": "code",
      "source": [
        "# WAP to find the greatest of 3 numbers entered by the user.\n",
        "\n",
        "# WAP to find the greatest of 3 numbers entered by the user.\n",
        "\n",
        "a = int(input(\"Enter the first numbers: \"))\n",
        "b = int(input(\"Enter the second numbers: \"))\n",
        "c = int(input(\"Enter the third numbers: \"))\n",
        "\n",
        "if (a >= b and a >= c):\n",
        "  print(a,\" is the greatest value\")\n",
        "elif (b >= c):\n",
        "  print(b,\"is greatest value\")\n",
        "else:\n",
        "  print(c,\"is greatest value\")\n",
        "  #in the nagtion least negative value is the greatest among others like here."
      ],
      "metadata": {
        "colab": {
          "base_uri": "https://localhost:8080/"
        },
        "id": "iKqg5pecupNx",
        "outputId": "0e35ed00-40e1-4f36-bbee-7675a27028e7"
      },
      "execution_count": 80,
      "outputs": [
        {
          "output_type": "stream",
          "name": "stdout",
          "text": [
            "Enter the first numbers: -66\n",
            "Enter the second numbers: -98\n",
            "Enter the third numbers: -55\n",
            "-55 is greatest value\n"
          ]
        }
      ]
    },
    {
      "cell_type": "code",
      "source": [
        "# WAP to find the greatest of 4 numbers entered by the user.\n",
        "\n",
        "a = int(input(\"Enter the first numbers: \"))\n",
        "b = int(input(\"Enter the second numbers: \"))\n",
        "c = int(input(\"Enter the third numbers: \"))\n",
        "d = int(input(\"Enter the fourth number: \"))\n",
        "\n",
        "if (a >= b and 8a >= c and a>= d ):\n",
        "  print(a,\" is the greatest value\")\n",
        "elif (b >= c and b>= d):\n",
        "  print(b,\"is greatest value\")\n",
        "elif (c >= d):\n",
        "  print(c,\"is greatest value\")\n",
        "else:\n",
        "  print(d,\"is greatest value\")"
      ],
      "metadata": {
        "colab": {
          "base_uri": "https://localhost:8080/"
        },
        "id": "fS0dUUyxvgJh",
        "outputId": "ac7f8c49-16c3-41f0-d762-871e17483781"
      },
      "execution_count": 87,
      "outputs": [
        {
          "output_type": "stream",
          "name": "stdout",
          "text": [
            "Enter the first numbers: 99\n",
            "Enter the second numbers: 888\n",
            "Enter the third numbers: 6664\n",
            "Enter the fourth number: 854126\n",
            "854126 is greatest value\n"
          ]
        }
      ]
    },
    {
      "cell_type": "code",
      "source": [
        "# WAP to check if a number is a multiple of 7 or not.\n",
        "\n",
        "number = int(input(\"Enter the number: \"))\n",
        "\n",
        "if (number % 7 == 0):\n",
        "  print(number,\"is multiple of 7\")\n",
        "else:\n",
        "  print(number,\"is not multiple of 7\")"
      ],
      "metadata": {
        "colab": {
          "base_uri": "https://localhost:8080/"
        },
        "id": "2eB4N5Ncu-Jt",
        "outputId": "bb96fd47-da8d-42f8-e2f5-5b8a24dde0c0"
      },
      "execution_count": 95,
      "outputs": [
        {
          "output_type": "stream",
          "name": "stdout",
          "text": [
            "Enter the number: 98\n",
            "98 is multiple of 7\n"
          ]
        }
      ]
    },
    {
      "cell_type": "code",
      "source": [
        "# WAP to check if a number is a multiple of 7 or not.\n",
        "\n",
        "number = int(input(\"Enter the number: \"))\n",
        "\n",
        "if (number % 7 == 0):\n",
        "  print(number,\"is multiple of 7\")\n",
        "else:\n",
        "  print(number,\"is not multiple of 7\")"
      ],
      "metadata": {
        "colab": {
          "base_uri": "https://localhost:8080/"
        },
        "id": "V9rCHt9Vx-Wn",
        "outputId": "d7156a5e-6780-4910-aba0-a76e6562988e"
      },
      "execution_count": 96,
      "outputs": [
        {
          "output_type": "stream",
          "name": "stdout",
          "text": [
            "Enter the number: 55\n",
            "55 is not multiple of 7\n"
          ]
        }
      ]
    }
  ]
}