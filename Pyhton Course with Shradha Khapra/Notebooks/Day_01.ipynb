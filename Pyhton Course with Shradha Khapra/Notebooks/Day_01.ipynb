{
  "nbformat": 4,
  "nbformat_minor": 0,
  "metadata": {
    "colab": {
      "provenance": []
    },
    "kernelspec": {
      "name": "python3",
      "display_name": "Python 3"
    },
    "language_info": {
      "name": "python"
    }
  },
  "cells": [
    {
      "cell_type": "markdown",
      "source": [
        "## Rules for Indentifiers.\n",
        "\n",
        "1. Never ever use any special character to name the variable. Ex:- var_1.\n",
        "\n",
        "2. Variable name do not start with numeric Ex:- 1var but it can be var1.\n",
        "\n",
        "3. No length limit.\n",
        "4. it can combine upper/lowercase with digits and underscore."
      ],
      "metadata": {
        "id": "e3OWALbNzzHQ"
      }
    },
    {
      "cell_type": "markdown",
      "source": [
        "## Variable:- given name to a memory location in a program."
      ],
      "metadata": {
        "id": "VFNXHjT60haL"
      }
    },
    {
      "cell_type": "code",
      "execution_count": null,
      "metadata": {
        "colab": {
          "base_uri": "https://localhost:8080/"
        },
        "id": "9uMWMRIuyaZ0",
        "outputId": "c2eb196c-27d6-44d2-a5a6-37f1a5d903a2"
      },
      "outputs": [
        {
          "output_type": "stream",
          "name": "stdout",
          "text": [
            "Pratik\n"
          ]
        }
      ],
      "source": [
        "print(\"Pratik\")"
      ]
    },
    {
      "cell_type": "code",
      "source": [
        "name = \"Pratik\"\n",
        "\n",
        "print(\"My name is \" + name)"
      ],
      "metadata": {
        "colab": {
          "base_uri": "https://localhost:8080/"
        },
        "id": "kqorbwQLylFE",
        "outputId": "53abdc69-9acf-47b4-bf45-36d48c338dc2"
      },
      "execution_count": null,
      "outputs": [
        {
          "output_type": "stream",
          "name": "stdout",
          "text": [
            "My name is Pratik\n"
          ]
        }
      ]
    },
    {
      "cell_type": "code",
      "source": [
        "print(\"My name is\",name)"
      ],
      "metadata": {
        "colab": {
          "base_uri": "https://localhost:8080/"
        },
        "id": "tfl_2nKFyteo",
        "outputId": "7da813cc-27fe-4f03-b1b6-d38bb2594671"
      },
      "execution_count": null,
      "outputs": [
        {
          "output_type": "stream",
          "name": "stdout",
          "text": [
            "My name is Pratik\n"
          ]
        }
      ]
    },
    {
      "cell_type": "code",
      "source": [
        "var1 = \"Pratik is going to be jobless soon\"\n",
        "\n",
        "print(\"Why\", var1)"
      ],
      "metadata": {
        "colab": {
          "base_uri": "https://localhost:8080/"
        },
        "id": "asyuo3B-y6QZ",
        "outputId": "b6744bd5-2ee0-4047-e2f7-3b7fc05590ac"
      },
      "execution_count": null,
      "outputs": [
        {
          "output_type": "stream",
          "name": "stdout",
          "text": [
            "Why Pratik is going to be jobless soon\n"
          ]
        }
      ]
    },
    {
      "cell_type": "code",
      "source": [
        "age = float(34)\n",
        "\n",
        "print(age)"
      ],
      "metadata": {
        "colab": {
          "base_uri": "https://localhost:8080/"
        },
        "id": "0LuQ0igGy-aP",
        "outputId": "f5613f2c-3f45-4728-8836-5451a432acb6"
      },
      "execution_count": null,
      "outputs": [
        {
          "output_type": "stream",
          "name": "stdout",
          "text": [
            "34.0\n"
          ]
        }
      ]
    },
    {
      "cell_type": "code",
      "source": [
        "age20 = age\n",
        "\n",
        "print(age20)"
      ],
      "metadata": {
        "colab": {
          "base_uri": "https://localhost:8080/"
        },
        "id": "sBI4oeCqzUgj",
        "outputId": "586ff642-db62-4ee6-b53a-02666dd1f82d"
      },
      "execution_count": null,
      "outputs": [
        {
          "output_type": "stream",
          "name": "stdout",
          "text": [
            "34.0\n"
          ]
        }
      ]
    },
    {
      "cell_type": "code",
      "source": [
        "age = 23\n",
        "home = \"Dbg\""
      ],
      "metadata": {
        "id": "3Xvw_zR_zaaZ"
      },
      "execution_count": null,
      "outputs": []
    },
    {
      "cell_type": "code",
      "source": [
        "print(float(age))"
      ],
      "metadata": {
        "colab": {
          "base_uri": "https://localhost:8080/"
        },
        "id": "rDaYhY3pzlti",
        "outputId": "ab3f5eaf-d2e6-4d92-c735-6f2541785cc9"
      },
      "execution_count": null,
      "outputs": [
        {
          "output_type": "stream",
          "name": "stdout",
          "text": [
            "23.0\n"
          ]
        }
      ]
    },
    {
      "cell_type": "code",
      "source": [
        "print (home)\n",
        "\n",
        "type(home)"
      ],
      "metadata": {
        "colab": {
          "base_uri": "https://localhost:8080/"
        },
        "id": "_7BKpczIzpCA",
        "outputId": "ed788cf7-2ef8-4eb3-e57d-55abcbda7b9c"
      },
      "execution_count": null,
      "outputs": [
        {
          "output_type": "stream",
          "name": "stdout",
          "text": [
            "Dbg\n"
          ]
        },
        {
          "output_type": "execute_result",
          "data": {
            "text/plain": [
              "str"
            ]
          },
          "metadata": {},
          "execution_count": 11
        }
      ]
    },
    {
      "cell_type": "code",
      "source": [
        "type(var1)"
      ],
      "metadata": {
        "colab": {
          "base_uri": "https://localhost:8080/"
        },
        "id": "u0OPJavlnXql",
        "outputId": "4804ff6f-c6e9-4778-ba74-931d16a3e1d6"
      },
      "execution_count": null,
      "outputs": [
        {
          "output_type": "execute_result",
          "data": {
            "text/plain": [
              "str"
            ]
          },
          "metadata": {},
          "execution_count": 12
        }
      ]
    },
    {
      "cell_type": "code",
      "source": [
        "type(age20)"
      ],
      "metadata": {
        "colab": {
          "base_uri": "https://localhost:8080/"
        },
        "id": "h_ya4CI8nb0k",
        "outputId": "d466644e-b31a-4466-df99-9469e45a4ae7"
      },
      "execution_count": null,
      "outputs": [
        {
          "output_type": "execute_result",
          "data": {
            "text/plain": [
              "float"
            ]
          },
          "metadata": {},
          "execution_count": 13
        }
      ]
    },
    {
      "cell_type": "markdown",
      "source": [
        "## Data Types\n",
        "\n",
        "1. Integers - positive, negative, zero.\n",
        "2. Strings - a collection of alphabets,\n",
        "   words or other characters.\n",
        "3. FLoat -  that converts values into\n",
        "   floating point numbers.\n",
        "4. Boolean - true and false in Capital\n",
        "   letter.\n",
        "5. Complex - number in iota from."
      ],
      "metadata": {
        "id": "eIb2Obak0cHS"
      }
    },
    {
      "cell_type": "code",
      "source": [
        "age2 = 23\n",
        "old = False\n",
        "\n",
        "a = None\n",
        "\n",
        "print(type(old))\n",
        "print(type(age2))"
      ],
      "metadata": {
        "id": "8Ubt4sjVztc2",
        "colab": {
          "base_uri": "https://localhost:8080/"
        },
        "outputId": "30216378-61d6-45d0-af92-0dc824b14693"
      },
      "execution_count": null,
      "outputs": [
        {
          "output_type": "stream",
          "name": "stdout",
          "text": [
            "<class 'bool'>\n",
            "<class 'int'>\n"
          ]
        }
      ]
    },
    {
      "cell_type": "code",
      "source": [
        "print(type(a))"
      ],
      "metadata": {
        "colab": {
          "base_uri": "https://localhost:8080/"
        },
        "id": "k3FZOW1K366_",
        "outputId": "2ece6dee-4dbb-4138-b623-131a506696ae"
      },
      "execution_count": null,
      "outputs": [
        {
          "output_type": "stream",
          "name": "stdout",
          "text": [
            "<class 'NoneType'>\n"
          ]
        }
      ]
    },
    {
      "cell_type": "markdown",
      "source": [
        "## Now keywords in python : this are the reserved keywords which can't be used as an identifier for storing purposes.\n",
        "\n",
        "Here is the list of the Keywords which are reserved :-\n",
        "\n",
        "and, as, assert, break, class, continue, def, del, elif, else, expect, finally, False, for, from, global, if, import, in, is, lambda, nonlocal, None, not, or, pass, raise, return, True, try, with, while, yield.\n"
      ],
      "metadata": {
        "id": "uPxp4FkX5LJ2"
      }
    },
    {
      "cell_type": "markdown",
      "source": [
        "## Python is a Case Sensitive Language means A is not same as a."
      ],
      "metadata": {
        "id": "L2YgvzSW6dia"
      }
    },
    {
      "cell_type": "code",
      "source": [
        "# printing sum of 2 no.\n",
        "\n",
        "a = 2\n",
        "b = 5\n",
        "sum = a+b\n",
        "\n",
        "print(sum)"
      ],
      "metadata": {
        "colab": {
          "base_uri": "https://localhost:8080/"
        },
        "id": "qVVI25OB5Kpp",
        "outputId": "7664038c-0d7f-42ba-d3e2-2f243766aeb8"
      },
      "execution_count": null,
      "outputs": [
        {
          "output_type": "stream",
          "name": "stdout",
          "text": [
            "7\n"
          ]
        }
      ]
    },
    {
      "cell_type": "code",
      "source": [
        "# printing suntract of 2 no.\n",
        "\n",
        "a = 2002\n",
        "b = 50\n",
        "sub = a - b\n",
        "\n",
        "print(sub)"
      ],
      "metadata": {
        "colab": {
          "base_uri": "https://localhost:8080/"
        },
        "id": "JFLMziip4Cem",
        "outputId": "b850b47e-c670-4a75-f235-1975d64939b6"
      },
      "execution_count": null,
      "outputs": [
        {
          "output_type": "stream",
          "name": "stdout",
          "text": [
            "1952\n"
          ]
        }
      ]
    },
    {
      "cell_type": "code",
      "source": [
        "# printing division of 2 no.\n",
        "\n",
        "a = 20\n",
        "b = 5\n",
        "div = a/b\n",
        "\n",
        "print(div)"
      ],
      "metadata": {
        "colab": {
          "base_uri": "https://localhost:8080/"
        },
        "id": "52Uoi3M364MW",
        "outputId": "1c6140bb-c5f5-4bf3-9cb1-3faf47b749a4"
      },
      "execution_count": null,
      "outputs": [
        {
          "output_type": "stream",
          "name": "stdout",
          "text": [
            "4.0\n"
          ]
        }
      ]
    },
    {
      "cell_type": "markdown",
      "source": [
        "## / is use for division and % is used for finding the remaining."
      ],
      "metadata": {
        "id": "N0lkfsKS7Xe0"
      }
    },
    {
      "cell_type": "code",
      "source": [
        "# printing remaining of 2 no.\n",
        "\n",
        "a = 16\n",
        "b = 5\n",
        "rem = a%b\n",
        "\n",
        "print(rem)"
      ],
      "metadata": {
        "colab": {
          "base_uri": "https://localhost:8080/"
        },
        "id": "NtXxsszV7TKY",
        "outputId": "f4f269e4-11da-40b8-9a54-028ef887b714"
      },
      "execution_count": null,
      "outputs": [
        {
          "output_type": "stream",
          "name": "stdout",
          "text": [
            "1\n"
          ]
        }
      ]
    },
    {
      "cell_type": "code",
      "source": [
        "a = 23\n",
        "b = 5\n",
        "x = a//b\n",
        "\n",
        "print(x)"
      ],
      "metadata": {
        "colab": {
          "base_uri": "https://localhost:8080/"
        },
        "id": "Evy5xsQb7ncF",
        "outputId": "2edee7c2-ab82-4d02-e65d-644ae9c5eee1"
      },
      "execution_count": null,
      "outputs": [
        {
          "output_type": "stream",
          "name": "stdout",
          "text": [
            "4\n"
          ]
        }
      ]
    },
    {
      "cell_type": "markdown",
      "source": [
        "## Now Comments in Python :- there are 2 types of comments Single line and multi line. for single line put # and for multi-line ctrl+/ or triple comma like this (\"\"\"\"\"\"\")"
      ],
      "metadata": {
        "id": "ob9sStjY8O_Z"
      }
    },
    {
      "cell_type": "code",
      "source": [
        "print(\"Pratik\")\n",
        "# print(\"Pratik\")\n",
        "# print(\"Pratik\")\n",
        "# print(\"Pratik\")\n",
        "# print(\"Pratik\")\n",
        "# print(\"Pratik\")"
      ],
      "metadata": {
        "colab": {
          "base_uri": "https://localhost:8080/"
        },
        "id": "z54PRLWW8Cyw",
        "outputId": "e436dbb5-8d43-47ad-f133-77e09e1c80da"
      },
      "execution_count": null,
      "outputs": [
        {
          "output_type": "stream",
          "name": "stdout",
          "text": [
            "Pratik\n"
          ]
        }
      ]
    },
    {
      "cell_type": "markdown",
      "source": [
        "## Now we'll see Operators:- symbol to perform some operation.\n",
        "\n",
        "1. Arithmetic (+,-,*,/,%,**)\n",
        "2. Relational/Comparison (=,!=,<,>,>=,<=)\n",
        "3. Assignment (=,+=,-=,*=,/=,%=,**=)\n",
        "4. Logical (not, and, or)"
      ],
      "metadata": {
        "id": "3ILe6KXtsgBr"
      }
    },
    {
      "cell_type": "code",
      "source": [
        " # arithmetic Operator.\n",
        "\n",
        " a = 5\n",
        " b = 9\n",
        " sum = a + b\n",
        " print(sum) #summation.\n",
        "\n",
        "\n",
        " a = 5\n",
        " b = 9\n",
        " sub = a - b\n",
        " print(sub) #subtract operation.\n",
        "\n",
        "\n",
        " a = 5\n",
        " b = 9\n",
        " mul = a + b\n",
        " print(mul) #mutiplication operation.\n",
        "\n",
        " a = 55\n",
        " b = 9\n",
        " div = a / b\n",
        " print(div) #for calculaating division with answer in floating values.\n",
        "\n",
        "\n",
        " a = 56\n",
        " b = 9\n",
        " mod = a % b\n",
        " print(mod) #for finding the reaminder.\n",
        "\n",
        " a = 5\n",
        " b = 3\n",
        "\n",
        " power = a ** b\n",
        " print(power) #calculates the power values."
      ],
      "metadata": {
        "colab": {
          "base_uri": "https://localhost:8080/"
        },
        "id": "I-y10lEz9K-H",
        "outputId": "fb7c6246-27c2-40b1-b5a2-7ba32a850825"
      },
      "execution_count": null,
      "outputs": [
        {
          "output_type": "stream",
          "name": "stdout",
          "text": [
            "14\n",
            "-4\n",
            "14\n",
            "6.111111111111111\n",
            "2\n",
            "125\n"
          ]
        }
      ]
    },
    {
      "cell_type": "code",
      "source": [
        "## Relational or Comparison operator.\n",
        "\n",
        "## ! shows not sign in programming\n",
        "\n",
        "a = 50\n",
        "b = 20\n",
        "print(a==b) #checking for equals to.\n",
        "\n",
        "a = 50\n",
        "b = 20\n",
        "print(a!=b) #checking for not equals to\n",
        "\n",
        "a = 50\n",
        "b = 20\n",
        "print(a>=b) #checcking for greater than equals to.\n",
        "\n",
        "a = 50\n",
        "b = 20\n",
        "print(a<=b) #checking for smaller than equals to.\n",
        "\n",
        "a = 50\n",
        "b = 20\n",
        "print(a<b) #checking for smaller.\n",
        "\n",
        "a = 50\n",
        "b = 20\n",
        "print(a>b) #checking for greater."
      ],
      "metadata": {
        "colab": {
          "base_uri": "https://localhost:8080/"
        },
        "id": "xO7pHwTGsVt2",
        "outputId": "e453529a-f36b-461a-c520-ca9ca49a6321"
      },
      "execution_count": null,
      "outputs": [
        {
          "output_type": "stream",
          "name": "stdout",
          "text": [
            "False\n",
            "True\n",
            "True\n",
            "False\n",
            "False\n",
            "True\n"
          ]
        }
      ]
    },
    {
      "cell_type": "code",
      "source": [
        "## Assignment Operator.\n",
        "\n",
        "num = 15\n",
        "num = 9+num\n",
        "print(num) #here we added 9 with predefined num.\n",
        "\n",
        "num+= 12\n",
        "print(num) #it will directly add no need of previous code for defining.\n",
        "\n",
        "num/= 2\n",
        "print(num) #for dividion.\n",
        "\n",
        "\n",
        "num*=10\n",
        "print(num) #for multiply.\n",
        "\n",
        "num**=3\n",
        "print(num) #for power.\n"
      ],
      "metadata": {
        "colab": {
          "base_uri": "https://localhost:8080/"
        },
        "id": "xmx4oJJYvZxn",
        "outputId": "7983a069-2984-4dec-c527-acd24d7aa933"
      },
      "execution_count": null,
      "outputs": [
        {
          "output_type": "stream",
          "name": "stdout",
          "text": [
            "24\n",
            "36\n",
            "18.0\n",
            "180.0\n",
            "5832000.0\n"
          ]
        }
      ]
    },
    {
      "cell_type": "code",
      "source": [
        "## Logical Operators.\n",
        "\n",
        "print(not False)\n",
        "\n",
        "print(not True)\n",
        "\n",
        "print(not(a>b))\n",
        "\n",
        "print(a>b)\n",
        "\n",
        "val1 = True\n",
        "val2 = True\n",
        "print(\"AND operator:\", val1 and val2)\n",
        "\n",
        "val1 = True\n",
        "val2 = False\n",
        "print(\"OR operator:\", val1 and val2)\n",
        "\n",
        "\n",
        "print(\"OR operator:\", (a==b) or (a>b))\n",
        "\n",
        "print(\"AND operator:\", (a==b) and (a>b))"
      ],
      "metadata": {
        "colab": {
          "base_uri": "https://localhost:8080/"
        },
        "id": "9gDW-wEuwq7x",
        "outputId": "9b9c4fc7-0c3f-471c-9296-7f659f9b791c"
      },
      "execution_count": null,
      "outputs": [
        {
          "output_type": "stream",
          "name": "stdout",
          "text": [
            "True\n",
            "False\n",
            "False\n",
            "True\n",
            "AND operator: True\n",
            "OR operator: False\n",
            "OR operator: True\n",
            "AND operator: False\n"
          ]
        }
      ]
    },
    {
      "cell_type": "markdown",
      "source": [
        "## Type COnversion:- converting the the type of data. like float into string.\n",
        "\n",
        "2 types of it.\n",
        "\n",
        "a)type conversion-Interpreter performs it automatically.\n",
        "\n",
        "b) type casting-Manually we have to pass the command."
      ],
      "metadata": {
        "id": "VKq8FxGIXaOC"
      }
    },
    {
      "cell_type": "code",
      "source": [
        "#type conversion\n",
        "\n",
        "#float is supirior than integer.\n",
        "#Hence this is implict conversion due to auto atics converion by intrerpreter.\n",
        "\n",
        "a = float(\"2\")\n",
        "b = 4.25\n",
        "\n",
        "sum = a + b\n",
        "print(sum)\n",
        "\n",
        "print(a + b)\n",
        "# Here by using type casting we change the type of data. So it is explicitly changed."
      ],
      "metadata": {
        "colab": {
          "base_uri": "https://localhost:8080/"
        },
        "id": "3CLqcDWyx6cW",
        "outputId": "71bd51a3-1f74-421d-f082-d9fa5cbfeb8d"
      },
      "execution_count": null,
      "outputs": [
        {
          "output_type": "stream",
          "name": "stdout",
          "text": [
            "6.25\n",
            "6.25\n"
          ]
        }
      ]
    },
    {
      "cell_type": "code",
      "source": [
        "f = 3.1457\n",
        "f = str(f)"
      ],
      "metadata": {
        "id": "WK8M0LJKYKTl"
      },
      "execution_count": null,
      "outputs": []
    },
    {
      "cell_type": "code",
      "source": [
        "print(type(f))"
      ],
      "metadata": {
        "colab": {
          "base_uri": "https://localhost:8080/"
        },
        "id": "GT7aNBEMaDto",
        "outputId": "bd5d76f6-06c2-49c1-ee6b-9d0b9189a5f4"
      },
      "execution_count": null,
      "outputs": [
        {
          "output_type": "stream",
          "name": "stdout",
          "text": [
            "<class 'str'>\n"
          ]
        }
      ]
    },
    {
      "cell_type": "code",
      "source": [
        "# using input in python from taking input from user using input word.\n",
        "\n",
        "age = input(\" Enter your age: \")\n",
        "\n",
        "name = input(\" Enter your name: \")\n"
      ],
      "metadata": {
        "colab": {
          "base_uri": "https://localhost:8080/"
        },
        "id": "c3H1IJrRaIDd",
        "outputId": "0e12cf7c-bb3a-4114-c38a-04932ed33235"
      },
      "execution_count": null,
      "outputs": [
        {
          "name": "stdout",
          "output_type": "stream",
          "text": [
            " Enter your age: 21\n",
            " Enter your name: Pratik\n"
          ]
        }
      ]
    },
    {
      "cell_type": "code",
      "source": [
        "var1 = print(\"Welcome \", name)"
      ],
      "metadata": {
        "colab": {
          "base_uri": "https://localhost:8080/"
        },
        "id": "epf3_vDLarGg",
        "outputId": "45dd3558-26b1-4c69-f29f-a6b888f6b376"
      },
      "execution_count": null,
      "outputs": [
        {
          "output_type": "stream",
          "name": "stdout",
          "text": [
            "Welcome  Pratik\n"
          ]
        }
      ]
    },
    {
      "cell_type": "markdown",
      "source": [
        "# Input generally, consider all the datatypes as string only so we have to explicitly define the datatype."
      ],
      "metadata": {
        "id": "Y6UUdypNdqW8"
      }
    },
    {
      "cell_type": "code",
      "source": [
        "print(input(\"enter your gender\"))"
      ],
      "metadata": {
        "colab": {
          "base_uri": "https://localhost:8080/"
        },
        "id": "VCAeiuS-c4_L",
        "outputId": "4f6a0b67-198e-4cd5-a4b5-3e47e8ed22d6"
      },
      "execution_count": null,
      "outputs": [
        {
          "output_type": "stream",
          "name": "stdout",
          "text": [
            "enter your genderM\n",
            "M\n"
          ]
        }
      ]
    },
    {
      "cell_type": "code",
      "source": [
        "int = \"5\"\n",
        "val = float(input(\"enter some value: \"))\n",
        "print(type(val), val)"
      ],
      "metadata": {
        "colab": {
          "base_uri": "https://localhost:8080/"
        },
        "id": "DieXsIooe_Ts",
        "outputId": "ee3ff999-7d3c-49c7-fd62-e11427a253d4"
      },
      "execution_count": null,
      "outputs": [
        {
          "output_type": "stream",
          "name": "stdout",
          "text": [
            "enter some value: 52\n",
            "<class 'float'> 52.0\n"
          ]
        }
      ]
    },
    {
      "cell_type": "code",
      "source": [
        "int = \"5\"\n",
        "val = (input(\"enter some value: \"))\n",
        "print(type(val), val)"
      ],
      "metadata": {
        "colab": {
          "base_uri": "https://localhost:8080/"
        },
        "id": "1D71pQwdfPmT",
        "outputId": "d623f681-088c-475a-8be0-c3a1d217f051"
      },
      "execution_count": null,
      "outputs": [
        {
          "output_type": "stream",
          "name": "stdout",
          "text": [
            "enter some value: 80\n",
            "<class 'str'> 80\n"
          ]
        }
      ]
    },
    {
      "cell_type": "code",
      "source": [
        "name1 = input(\"enter name: \")\n",
        "age2 = input(\"enter age: \")\n",
        "marks = float(input(\"enter marks: \"))"
      ],
      "metadata": {
        "colab": {
          "base_uri": "https://localhost:8080/"
        },
        "id": "ZQ-oYJmlffYV",
        "outputId": "98a8b3bb-f78f-4bdf-f9e6-52fe5326c974"
      },
      "execution_count": null,
      "outputs": [
        {
          "name": "stdout",
          "output_type": "stream",
          "text": [
            "enter name: PK JHA\n",
            "enter age: 20\n",
            "enter marks: 96.8\n"
          ]
        }
      ]
    },
    {
      "cell_type": "code",
      "source": [
        "print(\"Welcom\", name)\n",
        "print(\"age =\", age)\n",
        "print(\"marks =\", marks)"
      ],
      "metadata": {
        "colab": {
          "base_uri": "https://localhost:8080/"
        },
        "id": "Ra-RdXIzgILx",
        "outputId": "7afa67b5-dcd3-4ea6-83cd-d13a42f9be22"
      },
      "execution_count": null,
      "outputs": [
        {
          "output_type": "stream",
          "name": "stdout",
          "text": [
            "Welcom Pratik\n",
            "age = 21\n",
            "marks = 96.8\n"
          ]
        }
      ]
    },
    {
      "cell_type": "code",
      "source": [
        "type(name1)\n",
        "type(age2)\n"
      ],
      "metadata": {
        "colab": {
          "base_uri": "https://localhost:8080/"
        },
        "id": "s2R6CO7cgb2i",
        "outputId": "75840d44-ce26-4d6b-c7cc-f7f5c38a7b61"
      },
      "execution_count": null,
      "outputs": [
        {
          "output_type": "execute_result",
          "data": {
            "text/plain": [
              "str"
            ]
          },
          "metadata": {},
          "execution_count": 40
        }
      ]
    },
    {
      "cell_type": "code",
      "source": [
        "type(marks)"
      ],
      "metadata": {
        "colab": {
          "base_uri": "https://localhost:8080/"
        },
        "id": "i4BW8JcdoDW1",
        "outputId": "2fb2855f-d355-49d9-b2fa-43fbc072b86c"
      },
      "execution_count": null,
      "outputs": [
        {
          "output_type": "execute_result",
          "data": {
            "text/plain": [
              "float"
            ]
          },
          "metadata": {},
          "execution_count": 42
        }
      ]
    },
    {
      "cell_type": "code",
      "source": [
        "num = float(input(\"Enter your mobile no: \"))"
      ],
      "metadata": {
        "colab": {
          "base_uri": "https://localhost:8080/"
        },
        "id": "9Yi0rDN0hVEl",
        "outputId": "e9112c70-467f-48de-f7b0-7448e69965a3"
      },
      "execution_count": null,
      "outputs": [
        {
          "name": "stdout",
          "output_type": "stream",
          "text": [
            "Enter your mobile no: 7479\n"
          ]
        }
      ]
    },
    {
      "cell_type": "code",
      "source": [
        "name = input(\"enter your name: \")"
      ],
      "metadata": {
        "colab": {
          "base_uri": "https://localhost:8080/"
        },
        "id": "7qaOXCKKhpnZ",
        "outputId": "791a9fef-049b-48f5-904c-f41c84c551b0"
      },
      "execution_count": null,
      "outputs": [
        {
          "name": "stdout",
          "output_type": "stream",
          "text": [
            "enter your name: Pratik Jha\n"
          ]
        }
      ]
    },
    {
      "cell_type": "code",
      "source": [
        "mark = float(input(\"enter your marks: \"))\n"
      ],
      "metadata": {
        "colab": {
          "base_uri": "https://localhost:8080/"
        },
        "id": "drGHbpRfjEA6",
        "outputId": "5af2c3a1-ee50-4042-d317-cbdcf1900036"
      },
      "execution_count": null,
      "outputs": [
        {
          "name": "stdout",
          "output_type": "stream",
          "text": [
            "enter your marks: 98.7\n"
          ]
        }
      ]
    },
    {
      "cell_type": "code",
      "source": [
        " age = float(input(\"enter your age: \"))"
      ],
      "metadata": {
        "colab": {
          "base_uri": "https://localhost:8080/"
        },
        "id": "83xbcSoyjUV2",
        "outputId": "51c0c977-b94c-4210-82c2-c283aa9a6705"
      },
      "execution_count": null,
      "outputs": [
        {
          "name": "stdout",
          "output_type": "stream",
          "text": [
            "enter your age: 74\n"
          ]
        }
      ]
    },
    {
      "cell_type": "markdown",
      "source": [
        "# Hereby it is prcaticed sum."
      ],
      "metadata": {
        "id": "jZnwdXQysdul"
      }
    },
    {
      "cell_type": "code",
      "source": [
        "\n",
        "## let's Practice.\n",
        "\n",
        "# wap to input 2 numbers and print the sum\n",
        "\n",
        "x = float(input(\"Enter first number: \"))\n",
        "y = float(input(\"Enter second number: \"))\n",
        "\n",
        "sum =  x + y\n",
        "\n"
      ],
      "metadata": {
        "colab": {
          "base_uri": "https://localhost:8080/"
        },
        "id": "G3DOa2rikMHq",
        "outputId": "979c563b-07cb-4484-db81-fb0118416f0f"
      },
      "execution_count": null,
      "outputs": [
        {
          "name": "stdout",
          "output_type": "stream",
          "text": [
            "Enter first number: 82\n",
            "Enter second number: 86\n"
          ]
        }
      ]
    },
    {
      "cell_type": "code",
      "source": [
        "print(\"sum\", x+y)"
      ],
      "metadata": {
        "colab": {
          "base_uri": "https://localhost:8080/"
        },
        "id": "vVoKkkSPlY-Z",
        "outputId": "13e0af9c-641f-485a-84a8-5151d794f1d8"
      },
      "execution_count": null,
      "outputs": [
        {
          "output_type": "stream",
          "name": "stdout",
          "text": [
            "sum 168.0\n"
          ]
        }
      ]
    },
    {
      "cell_type": "code",
      "source": [
        "print(x + y)"
      ],
      "metadata": {
        "colab": {
          "base_uri": "https://localhost:8080/"
        },
        "id": "x_7t-8bZoZip",
        "outputId": "ce789d39-f610-4651-c429-ecf549a8641a"
      },
      "execution_count": null,
      "outputs": [
        {
          "output_type": "stream",
          "name": "stdout",
          "text": [
            "168.0\n"
          ]
        }
      ]
    },
    {
      "cell_type": "code",
      "source": [
        "# Input first number\n",
        "num1 = float(input(\"Enter the first number: \"))\n",
        "\n",
        "# Input second number\n",
        "num2 = float(input(\"Enter the second number: \"))\n",
        "\n",
        "# Calculate the sum\n",
        "sum_nums = num1 + num2\n",
        "\n",
        "# Print the sum\n",
        "print(\"The sum of\", num1, \"and\", num2, \"is\", sum_nums)\n"
      ],
      "metadata": {
        "colab": {
          "base_uri": "https://localhost:8080/"
        },
        "id": "_6nKO1zBoFQ5",
        "outputId": "bf9b2191-16fd-4afa-fcad-a7636b4b8f6c"
      },
      "execution_count": null,
      "outputs": [
        {
          "output_type": "stream",
          "name": "stdout",
          "text": [
            "Enter the first number: 96\n",
            "Enter the second number: 64\n",
            "The sum of 96.0 and 64.0 is 160.0\n"
          ]
        }
      ]
    },
    {
      "cell_type": "code",
      "source": [
        "# wap to input side of a sq and print its area.\n",
        "\n",
        "a = float(input(\"enter the side: \"))\n",
        "print(\"area of the square is =\", a **2)"
      ],
      "metadata": {
        "colab": {
          "base_uri": "https://localhost:8080/"
        },
        "id": "MRP2pMmeoy6K",
        "outputId": "c2a2d516-d738-47c6-f74c-2d20774ac81d"
      },
      "execution_count": null,
      "outputs": [
        {
          "output_type": "stream",
          "name": "stdout",
          "text": [
            "enter the side: 6\n",
            "area of the square is = 36.0\n"
          ]
        }
      ]
    },
    {
      "cell_type": "code",
      "source": [
        "# wap to input side of a sq and print its area.\n",
        "\n",
        "a = float(input(\"enter the side: \"))\n",
        "print(\"area of the square is =\", a * a)"
      ],
      "metadata": {
        "colab": {
          "base_uri": "https://localhost:8080/"
        },
        "id": "Ut-mWQLUrHGY",
        "outputId": "a69e10a6-aa14-4ee1-8f26-23fad0201c26"
      },
      "execution_count": null,
      "outputs": [
        {
          "output_type": "stream",
          "name": "stdout",
          "text": [
            "enter the side: 42\n",
            "area of the square is = 1764.0\n"
          ]
        }
      ]
    },
    {
      "cell_type": "code",
      "source": [
        "# wap to input 2 floating point numbers and print their average.\n",
        "\n",
        "num1 = float(input(\"enter the number: \"))\n",
        "num2 = float(input(\"enter the number: \"))\n",
        "\n",
        "print(\"average of num1 and num2 is: \", (num1+num2)/2)"
      ],
      "metadata": {
        "colab": {
          "base_uri": "https://localhost:8080/"
        },
        "id": "WE8NA4-trieb",
        "outputId": "cc5ada58-54c9-41bc-a363-5f7c13971564"
      },
      "execution_count": null,
      "outputs": [
        {
          "output_type": "stream",
          "name": "stdout",
          "text": [
            "enter the number: 40\n",
            "enter the number: 60\n",
            "average of num1 and num2 is:  50.0\n"
          ]
        }
      ]
    },
    {
      "cell_type": "code",
      "source": [
        "# wap to input 2 integer numbers, a nad b and print True if a is greater than\n",
        "# or equal to b. If not thrn print Flase.\n",
        "\n",
        "numb1 = float(input(\"enter the numb1: \"))\n",
        "numb2 = float(input(\"enter the numb2: \"))\n",
        "\n",
        "print(numb1 >= numb2)\n"
      ],
      "metadata": {
        "colab": {
          "base_uri": "https://localhost:8080/"
        },
        "id": "sDnj71ojsLPi",
        "outputId": "4f0145cb-e989-47b4-d1f7-5eaafd04d1bc"
      },
      "execution_count": null,
      "outputs": [
        {
          "output_type": "stream",
          "name": "stdout",
          "text": [
            "enter the numb1: 74\n",
            "enter the numb2: 85\n",
            "False\n"
          ]
        }
      ]
    },
    {
      "cell_type": "code",
      "source": [
        "# wap to input 2 integer numbers, a nad b and print True if a is greater than\n",
        "# or equal to b. If not thrn print Flase.\n",
        "\n",
        "number1 = float(input(\"enter the numb1: \"))\n",
        "number2 = float(input(\"enter the numb2: \"))\n",
        "\n",
        "print(number1 >= number2)"
      ],
      "metadata": {
        "id": "YOBwfZwgtizV",
        "colab": {
          "base_uri": "https://localhost:8080/"
        },
        "outputId": "379e2b15-2e0d-4a4d-f2f6-dfc959fcf1a1"
      },
      "execution_count": null,
      "outputs": [
        {
          "output_type": "stream",
          "name": "stdout",
          "text": [
            "enter the numb1: 10\n",
            "enter the numb2: 30\n",
            "False\n"
          ]
        }
      ]
    },
    {
      "cell_type": "code",
      "source": [],
      "metadata": {
        "id": "4JqfrpKamXGf"
      },
      "execution_count": null,
      "outputs": []
    }
  ]
}