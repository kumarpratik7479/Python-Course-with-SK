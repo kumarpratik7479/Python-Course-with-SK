{
  "nbformat": 4,
  "nbformat_minor": 0,
  "metadata": {
    "colab": {
      "provenance": []
    },
    "kernelspec": {
      "name": "python3",
      "display_name": "Python 3"
    },
    "language_info": {
      "name": "python"
    }
  },
  "cells": [
    {
      "cell_type": "markdown",
      "source": [
        "## Topic:- Dictionaries and sets\n",
        "\n",
        "# Dictionaries are used to store data values in Key:Value pairs. They are unorderd and mutable but don't allow duplicates."
      ],
      "metadata": {
        "id": "_sp69b7lgM38"
      }
    },
    {
      "cell_type": "code",
      "execution_count": 1,
      "metadata": {
        "colab": {
          "base_uri": "https://localhost:8080/"
        },
        "id": "pfHpOBa6f4ts",
        "outputId": "d8405734-a311-4ed7-d3c2-0fc9fafe6b82"
      },
      "outputs": [
        {
          "output_type": "stream",
          "name": "stdout",
          "text": [
            "{'Key': 'value', 'name': 'mycollege', 'learning': 'Python', 'age': 35, 'is_adult': 'True', 'marks': 94.6, 10.99: 'no'}\n",
            "<class 'dict'>\n"
          ]
        }
      ],
      "source": [
        "info = {\n",
        "    \"Key\" : \"value\",\n",
        "    \"name\" : \"mycollege\",\n",
        "    \"learning\" : \"Python\",\n",
        "    \"age\" : 35,\n",
        "    \"is_adult\" : \"True\",\n",
        "    \"marks\" : 94.6,\n",
        "    10.99 : \"no\"\n",
        "}\n",
        "## tuple data type can be key because it can't change.\n",
        "## but in key value pair it can be list, int, float or so on.\n",
        "print(info)\n",
        "print(type(info))"
      ]
    },
    {
      "cell_type": "code",
      "source": [
        "dict = {\n",
        "    \"name\" : \"shradha\",\n",
        "    \"cgpa\" : 9.6,\n",
        "    \"marks\" : [98, 97, 95]\n",
        "}\n",
        "\n",
        "print(type(dict))\n",
        "\n",
        "print(dict)"
      ],
      "metadata": {
        "colab": {
          "base_uri": "https://localhost:8080/"
        },
        "id": "A2WICU72hWfw",
        "outputId": "c3725e86-5c33-43e7-e6d7-0a61204219ae"
      },
      "execution_count": 2,
      "outputs": [
        {
          "output_type": "stream",
          "name": "stdout",
          "text": [
            "<class 'dict'>\n",
            "{'name': 'shradha', 'cgpa': 9.6, 'marks': [98, 97, 95]}\n"
          ]
        }
      ]
    },
    {
      "cell_type": "code",
      "source": [
        "print(dict[\"cgpa\"])\n",
        "print(info[\"name\"])\n",
        "print(dict[\"marks\"])\n",
        "# examples of finding the value pairs in dictionary.\n",
        "# if some key is not [resent in dictionary it will give an error."
      ],
      "metadata": {
        "colab": {
          "base_uri": "https://localhost:8080/"
        },
        "id": "R55zO4Y7j7AJ",
        "outputId": "22386afb-9cb6-45d6-f29d-170695a54a89"
      },
      "execution_count": 3,
      "outputs": [
        {
          "output_type": "stream",
          "name": "stdout",
          "text": [
            "9.6\n",
            "mycollege\n",
            "[98, 97, 95]\n"
          ]
        }
      ]
    },
    {
      "cell_type": "markdown",
      "source": [
        "# Since we don't have order or index in this data structure we can use dictnary name with key value into square bracket."
      ],
      "metadata": {
        "id": "v3ZH6gikkHWS"
      }
    },
    {
      "cell_type": "code",
      "source": [
        "info[\"name\"] = \"Pratik\"\n",
        "info[\"Key\"] = 96\n",
        "print(info) # hence it is mutable.\n",
        "# if we are assigning the new key value pair with same key\n",
        "# it overwrites as dictionary can't have duplicates."
      ],
      "metadata": {
        "colab": {
          "base_uri": "https://localhost:8080/"
        },
        "id": "MIebuvLEkEvs",
        "outputId": "53350cf4-2a10-4f04-812d-a8963a0bc153"
      },
      "execution_count": 4,
      "outputs": [
        {
          "output_type": "stream",
          "name": "stdout",
          "text": [
            "{'Key': 96, 'name': 'Pratik', 'learning': 'Python', 'age': 35, 'is_adult': 'True', 'marks': 94.6, 10.99: 'no'}\n"
          ]
        }
      ]
    },
    {
      "cell_type": "code",
      "source": [
        "null_dict = {}\n",
        "print(null_dict)\n",
        "# null dictionary"
      ],
      "metadata": {
        "colab": {
          "base_uri": "https://localhost:8080/"
        },
        "id": "U5mkV2zSlybo",
        "outputId": "886382e4-e29c-4d2c-c609-8797db6568ad"
      },
      "execution_count": 5,
      "outputs": [
        {
          "output_type": "stream",
          "name": "stdout",
          "text": [
            "{}\n"
          ]
        }
      ]
    },
    {
      "cell_type": "code",
      "source": [
        "null_dict[\"name\"]  = \"Suresh Raina\"\n",
        "print(null_dict) # adding the key value pair in dictionary."
      ],
      "metadata": {
        "colab": {
          "base_uri": "https://localhost:8080/"
        },
        "id": "2-AsC3Vfm3uD",
        "outputId": "e33f3db0-13ea-4e24-d083-35280a96f0bc"
      },
      "execution_count": 6,
      "outputs": [
        {
          "output_type": "stream",
          "name": "stdout",
          "text": [
            "{'name': 'Suresh Raina'}\n"
          ]
        }
      ]
    },
    {
      "cell_type": "markdown",
      "source": [
        "# The below is Nested Dictionary means dictionary inside the dictionary."
      ],
      "metadata": {
        "id": "xIH0WaHypLTl"
      }
    },
    {
      "cell_type": "code",
      "source": [
        "student = {\n",
        "    \"name\" : \"Rahul G\",\n",
        "    \"Subjects\" : {\n",
        "        \"Phy\" : 92,\n",
        "        \"Chem\" : 80,\n",
        "        \"Math\" : 65\n",
        "    }\n",
        "}\n",
        "\n",
        "print(student)\n",
        "print(type(student))"
      ],
      "metadata": {
        "colab": {
          "base_uri": "https://localhost:8080/"
        },
        "id": "wfhyNLSJmvYq",
        "outputId": "359a5ed7-20c9-482e-9ab5-f2ca541502df"
      },
      "execution_count": 7,
      "outputs": [
        {
          "output_type": "stream",
          "name": "stdout",
          "text": [
            "{'name': 'Rahul G', 'Subjects': {'Phy': 92, 'Chem': 80, 'Math': 65}}\n",
            "<class 'dict'>\n"
          ]
        }
      ]
    },
    {
      "cell_type": "code",
      "source": [
        "print(student[\"Subjects\"])\n",
        "\n",
        "print(student[\"Subjects\"] [\"Math\"])\n",
        "\n",
        "# This is how we retrieve it from nested dictionary."
      ],
      "metadata": {
        "colab": {
          "base_uri": "https://localhost:8080/"
        },
        "id": "Z01hwXupoVKX",
        "outputId": "9bf305da-c183-4c4f-bb97-9b9c04e7fab0"
      },
      "execution_count": 8,
      "outputs": [
        {
          "output_type": "stream",
          "name": "stdout",
          "text": [
            "{'Phy': 92, 'Chem': 80, 'Math': 65}\n",
            "65\n"
          ]
        }
      ]
    },
    {
      "cell_type": "markdown",
      "source": [
        "# Methods in Dictionary\n",
        "\n",
        "myDict.keys() :- returns all keys\n",
        "\n",
        "![image.png](data:image/png;base64,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)"
      ],
      "metadata": {
        "id": "6c2qSEGGp7Ae"
      }
    },
    {
      "cell_type": "code",
      "source": [
        "print(student.keys()) # it prints only outer layer of the nested dictionary."
      ],
      "metadata": {
        "colab": {
          "base_uri": "https://localhost:8080/"
        },
        "id": "IXKMP4RmpoUX",
        "outputId": "c7736e33-4f66-4683-ff78-55be938f39b1"
      },
      "execution_count": 9,
      "outputs": [
        {
          "output_type": "stream",
          "name": "stdout",
          "text": [
            "dict_keys(['name', 'Subjects'])\n"
          ]
        }
      ]
    },
    {
      "cell_type": "code",
      "source": [
        "print(list(student.keys())) # typecasting into list."
      ],
      "metadata": {
        "colab": {
          "base_uri": "https://localhost:8080/"
        },
        "id": "r2EXp6hWqW8j",
        "outputId": "092efecb-dfc4-4827-cab5-20714fef9916"
      },
      "execution_count": 10,
      "outputs": [
        {
          "output_type": "stream",
          "name": "stdout",
          "text": [
            "['name', 'Subjects']\n"
          ]
        }
      ]
    },
    {
      "cell_type": "code",
      "source": [
        "print(len(student)) # for finding the no. of key value pairs.\n",
        "\n",
        "print(len(list(student.keys()))) # we can also use this."
      ],
      "metadata": {
        "colab": {
          "base_uri": "https://localhost:8080/"
        },
        "id": "ACfIJ6Mzq5AD",
        "outputId": "d35b2763-b884-4f1c-c66e-1269431cdd55"
      },
      "execution_count": 11,
      "outputs": [
        {
          "output_type": "stream",
          "name": "stdout",
          "text": [
            "2\n",
            "2\n"
          ]
        }
      ]
    },
    {
      "cell_type": "markdown",
      "source": [
        "# myDict.values() : returns all the values."
      ],
      "metadata": {
        "id": "xOPXcm0TtJXr"
      }
    },
    {
      "cell_type": "code",
      "source": [
        "print(student.values())"
      ],
      "metadata": {
        "colab": {
          "base_uri": "https://localhost:8080/"
        },
        "id": "PcvAngu1rSWz",
        "outputId": "873b4be4-a7ba-4120-9315-9e40d0708092"
      },
      "execution_count": 12,
      "outputs": [
        {
          "output_type": "stream",
          "name": "stdout",
          "text": [
            "dict_values(['Rahul G', {'Phy': 92, 'Chem': 80, 'Math': 65}])\n"
          ]
        }
      ]
    },
    {
      "cell_type": "code",
      "source": [
        "print(list(student.values())) # list storing dictionary."
      ],
      "metadata": {
        "colab": {
          "base_uri": "https://localhost:8080/"
        },
        "id": "hspBJuJotZBW",
        "outputId": "7113c214-ca35-445d-9a15-ecfaae9a6845"
      },
      "execution_count": 13,
      "outputs": [
        {
          "output_type": "stream",
          "name": "stdout",
          "text": [
            "['Rahul G', {'Phy': 92, 'Chem': 80, 'Math': 65}]\n"
          ]
        }
      ]
    },
    {
      "cell_type": "markdown",
      "source": [
        "# we can store list in dictionary and vice-versa."
      ],
      "metadata": {
        "id": "D6HWb2pbuGZp"
      }
    },
    {
      "cell_type": "code",
      "source": [
        "#  # Extract the inner dictionary for 'person2'\n",
        "# Subjects_dict = student['Subjects']\n",
        "\n",
        "# # Convert the inner dictionary into a list with one element\n",
        "# Subjects_list = [Subjects]\n",
        "\n",
        "# print(Subjects_list)"
      ],
      "metadata": {
        "id": "Y9nBc7tptc7f"
      },
      "execution_count": 14,
      "outputs": []
    },
    {
      "cell_type": "markdown",
      "source": [
        "# Now myDict.items() :- it returns all (Key,val) pairs as a tuples."
      ],
      "metadata": {
        "id": "15h_O8Um-pb7"
      }
    },
    {
      "cell_type": "code",
      "source": [
        "print(student.items()) #gives key,val in tuples form."
      ],
      "metadata": {
        "colab": {
          "base_uri": "https://localhost:8080/"
        },
        "id": "kTaPWx_oxsBs",
        "outputId": "13775102-0fee-4e65-ddfb-e8f48f806423"
      },
      "execution_count": 15,
      "outputs": [
        {
          "output_type": "stream",
          "name": "stdout",
          "text": [
            "dict_items([('name', 'Rahul G'), ('Subjects', {'Phy': 92, 'Chem': 80, 'Math': 65})])\n"
          ]
        }
      ]
    },
    {
      "cell_type": "code",
      "source": [
        "print(list(student.items()))"
      ],
      "metadata": {
        "colab": {
          "base_uri": "https://localhost:8080/"
        },
        "id": "suwyfNDh_DTW",
        "outputId": "52b523f0-8375-4496-c22f-482a02bfb363"
      },
      "execution_count": 16,
      "outputs": [
        {
          "output_type": "stream",
          "name": "stdout",
          "text": [
            "[('name', 'Rahul G'), ('Subjects', {'Phy': 92, 'Chem': 80, 'Math': 65})]\n"
          ]
        }
      ]
    },
    {
      "cell_type": "code",
      "source": [
        "pairs = list(student.items())"
      ],
      "metadata": {
        "id": "3XkNVSP4_lFD"
      },
      "execution_count": 17,
      "outputs": []
    },
    {
      "cell_type": "markdown",
      "source": [
        "#here we are storing the tuples into the list form and then accessing it by using thier index no. as we know that in list it is possible to access it by indexing."
      ],
      "metadata": {
        "id": "d37mZg-4Adtt"
      }
    },
    {
      "cell_type": "code",
      "source": [
        "print(pairs[0])"
      ],
      "metadata": {
        "colab": {
          "base_uri": "https://localhost:8080/"
        },
        "id": "fkW3DPYU_xEe",
        "outputId": "57d03edd-c236-4cba-ded0-8424bd544d34"
      },
      "execution_count": 18,
      "outputs": [
        {
          "output_type": "stream",
          "name": "stdout",
          "text": [
            "('name', 'Rahul G')\n"
          ]
        }
      ]
    },
    {
      "cell_type": "code",
      "source": [
        "print(pairs[1])"
      ],
      "metadata": {
        "colab": {
          "base_uri": "https://localhost:8080/"
        },
        "id": "p54lKwZvARiZ",
        "outputId": "94a952c6-ef00-462c-b20e-20538d8d06b2"
      },
      "execution_count": 19,
      "outputs": [
        {
          "output_type": "stream",
          "name": "stdout",
          "text": [
            "('Subjects', {'Phy': 92, 'Chem': 80, 'Math': 65})\n"
          ]
        }
      ]
    },
    {
      "cell_type": "markdown",
      "source": [
        "# myDict.get(\"key\") :- returns the key according to value."
      ],
      "metadata": {
        "id": "b7e1Hg1wBY6I"
      }
    },
    {
      "cell_type": "code",
      "source": [
        "print(student[\"name\"])\n",
        "\n",
        "# here both the code snippet giving the same output.\n",
        "print(student.get(\"name\"))"
      ],
      "metadata": {
        "colab": {
          "base_uri": "https://localhost:8080/"
        },
        "id": "y1uF2ykYAb_s",
        "outputId": "ed0997db-6e0b-4ea4-f7d1-ff66f9c4d556"
      },
      "execution_count": 20,
      "outputs": [
        {
          "output_type": "stream",
          "name": "stdout",
          "text": [
            "Rahul G\n",
            "Rahul G\n"
          ]
        }
      ]
    },
    {
      "cell_type": "code",
      "source": [
        "print(student[\"name2\"])\n",
        "\n",
        "# here if we use this line then it will affect the whole code by stop\n",
        "# thier working unless and until it gets corrected.\n",
        "\n",
        "# so finally, we will use myDict.get(\"key\")"
      ],
      "metadata": {
        "colab": {
          "base_uri": "https://localhost:8080/",
          "height": 211
        },
        "id": "TH5X-dWWB2ew",
        "outputId": "cef51333-1dd0-45bd-d064-826738fb55d0"
      },
      "execution_count": 21,
      "outputs": [
        {
          "output_type": "error",
          "ename": "KeyError",
          "evalue": "'name2'",
          "traceback": [
            "\u001b[0;31m---------------------------------------------------------------------------\u001b[0m",
            "\u001b[0;31mKeyError\u001b[0m                                  Traceback (most recent call last)",
            "\u001b[0;32m<ipython-input-21-26ad6e701cc9>\u001b[0m in \u001b[0;36m<cell line: 1>\u001b[0;34m()\u001b[0m\n\u001b[0;32m----> 1\u001b[0;31m \u001b[0mprint\u001b[0m\u001b[0;34m(\u001b[0m\u001b[0mstudent\u001b[0m\u001b[0;34m[\u001b[0m\u001b[0;34m\"name2\"\u001b[0m\u001b[0;34m]\u001b[0m\u001b[0;34m)\u001b[0m\u001b[0;34m\u001b[0m\u001b[0;34m\u001b[0m\u001b[0m\n\u001b[0m\u001b[1;32m      2\u001b[0m \u001b[0;34m\u001b[0m\u001b[0m\n\u001b[1;32m      3\u001b[0m \u001b[0;31m# here if we use this line then it will affect the whole code by stop\u001b[0m\u001b[0;34m\u001b[0m\u001b[0;34m\u001b[0m\u001b[0m\n\u001b[1;32m      4\u001b[0m \u001b[0;31m# thier working unless and until it gets corrected.\u001b[0m\u001b[0;34m\u001b[0m\u001b[0;34m\u001b[0m\u001b[0m\n\u001b[1;32m      5\u001b[0m \u001b[0;34m\u001b[0m\u001b[0m\n",
            "\u001b[0;31mKeyError\u001b[0m: 'name2'"
          ]
        }
      ]
    },
    {
      "cell_type": "code",
      "source": [
        "print(student.get(\"name2\"))\n",
        "# here the differnce between the both are first one give error if the key name\n",
        "# does not exist not at the same time it will give none value."
      ],
      "metadata": {
        "colab": {
          "base_uri": "https://localhost:8080/"
        },
        "id": "fi5RxcqzB6vb",
        "outputId": "ae844362-e4ed-46f4-cb90-7658927045ba"
      },
      "execution_count": 22,
      "outputs": [
        {
          "output_type": "stream",
          "name": "stdout",
          "text": [
            "None\n"
          ]
        }
      ]
    },
    {
      "cell_type": "markdown",
      "source": [
        "# myDict.update(newDict) :-  inserts the specified items to the dictionary."
      ],
      "metadata": {
        "id": "ILeY0IsQnQYJ"
      }
    },
    {
      "cell_type": "code",
      "source": [
        "student.update({\"city \" : \"Delhi\"})\n",
        "print(student)"
      ],
      "metadata": {
        "colab": {
          "base_uri": "https://localhost:8080/"
        },
        "id": "Z3-VxZhtooxU",
        "outputId": "2669e628-7d7b-45e9-8902-94d46cb93447"
      },
      "execution_count": 23,
      "outputs": [
        {
          "output_type": "stream",
          "name": "stdout",
          "text": [
            "{'name': 'Rahul G', 'Subjects': {'Phy': 92, 'Chem': 80, 'Math': 65}, 'city ': 'Delhi'}\n"
          ]
        }
      ]
    },
    {
      "cell_type": "code",
      "source": [
        "new_dict = {\"city\" : \"kolkata\"}\n",
        "student.update(new_dict)\n",
        "print(student)\n",
        "\n",
        "\n",
        "# here we can give mutiple key value pair and we have added by both ways by\n",
        "# creating a new dict and adding it into previous and by directly adding\n",
        "# the updates into previous one."
      ],
      "metadata": {
        "colab": {
          "base_uri": "https://localhost:8080/"
        },
        "id": "7ya_aJEECbGu",
        "outputId": "93c1ee15-70f9-40b7-9b42-31a56a1db75a"
      },
      "execution_count": 24,
      "outputs": [
        {
          "output_type": "stream",
          "name": "stdout",
          "text": [
            "{'name': 'Rahul G', 'Subjects': {'Phy': 92, 'Chem': 80, 'Math': 65}, 'city ': 'Delhi', 'city': 'kolkata'}\n"
          ]
        }
      ]
    },
    {
      "cell_type": "code",
      "source": [
        "# for updating mutliple values\n",
        "\n",
        "new_dicts = {\"city\" : \"patna\", \"age\": 21}\n",
        "student.update(new_dicts)\n",
        "print(student)"
      ],
      "metadata": {
        "colab": {
          "base_uri": "https://localhost:8080/"
        },
        "id": "lW7Nk0bopG_3",
        "outputId": "4b93a654-4a30-4b35-8109-3e3a6abcd5b6"
      },
      "execution_count": 25,
      "outputs": [
        {
          "output_type": "stream",
          "name": "stdout",
          "text": [
            "{'name': 'Rahul G', 'Subjects': {'Phy': 92, 'Chem': 80, 'Math': 65}, 'city ': 'Delhi', 'city': 'patna', 'age': 21}\n"
          ]
        }
      ]
    },
    {
      "cell_type": "code",
      "source": [
        "new_dictss = {\"name\" : \"Pratik Kumar\", \"age\" : 24}\n",
        "student.update(new_dictss)\n",
        "print(student)\n",
        "# so here by changing in the name it gives overwrite values bacuse\n",
        "# as we know it won't give duplicates."
      ],
      "metadata": {
        "colab": {
          "base_uri": "https://localhost:8080/"
        },
        "id": "puDp1PqRqXzf",
        "outputId": "9d38efae-9948-40f9-b8b6-a4c2e37a35bf"
      },
      "execution_count": 26,
      "outputs": [
        {
          "output_type": "stream",
          "name": "stdout",
          "text": [
            "{'name': 'Pratik Kumar', 'Subjects': {'Phy': 92, 'Chem': 80, 'Math': 65}, 'city ': 'Delhi', 'city': 'patna', 'age': 24}\n"
          ]
        }
      ]
    },
    {
      "cell_type": "markdown",
      "source": [
        "# Sets in python :- collection of unordered items.\n",
        "# each elements in the set must be unique & immutable.\n",
        "\n",
        "set can store boolean, int, float, string, tuple due to its immutable property. and because lists and dictionary are mutable they cnnot be stored in set."
      ],
      "metadata": {
        "id": "dbwhJEmAsCim"
      }
    },
    {
      "cell_type": "markdown",
      "source": [
        "# dict and sets starts with the curly braces."
      ],
      "metadata": {
        "id": "41eezYa3f1QR"
      }
    },
    {
      "cell_type": "code",
      "source": [
        "collection = {1,3,1,9,9,6,3,5, \"Hello\", \"World!\", \"Hello\"}\n",
        "\n",
        "print(collection)\n",
        "print(type(collection))\n",
        "print(len(collection)) #total number of items ignorinhg duplicares."
      ],
      "metadata": {
        "colab": {
          "base_uri": "https://localhost:8080/"
        },
        "id": "bIhELL_XrEg2",
        "outputId": "24ea8e83-d501-428a-f70f-2cc7f18c4935"
      },
      "execution_count": 66,
      "outputs": [
        {
          "output_type": "stream",
          "name": "stdout",
          "text": [
            "{1, 'World!', 3, 5, 6, 'Hello', 9}\n",
            "<class 'set'>\n",
            "7\n"
          ]
        }
      ]
    },
    {
      "cell_type": "markdown",
      "source": [
        "# In above as we see duplicates are allowed but it did not getting print and count while there is not a order in sets."
      ],
      "metadata": {
        "id": "Q25HP9EUhhHa"
      }
    },
    {
      "cell_type": "code",
      "source": [
        "# syntax for empty set.\n",
        "\n",
        "coll = set() # empty set\n",
        "print(type(collection))"
      ],
      "metadata": {
        "colab": {
          "base_uri": "https://localhost:8080/"
        },
        "id": "ZeD6uI1vfsp5",
        "outputId": "2c9cbe5e-7b53-4dc3-dc18-ea9f21a190d4"
      },
      "execution_count": 28,
      "outputs": [
        {
          "output_type": "stream",
          "name": "stdout",
          "text": [
            "<class 'set'>\n"
          ]
        }
      ]
    },
    {
      "cell_type": "code",
      "source": [
        "col = () # Hence always use above syntax for empty set.\n",
        "print(type(col))"
      ],
      "metadata": {
        "colab": {
          "base_uri": "https://localhost:8080/"
        },
        "id": "LGGubNfKj1dw",
        "outputId": "1090bd11-b3e4-4241-978d-31ad452f4a70"
      },
      "execution_count": 29,
      "outputs": [
        {
          "output_type": "stream",
          "name": "stdout",
          "text": [
            "<class 'tuple'>\n"
          ]
        }
      ]
    },
    {
      "cell_type": "markdown",
      "source": [
        "# Methods in set :-\n",
        "\n",
        "# set.add(elements):- adds an elements."
      ],
      "metadata": {
        "id": "_ywzsW6TkMO6"
      }
    },
    {
      "cell_type": "code",
      "source": [
        "coll.add(\"papaya\")\n",
        "\n",
        "coll.add(\"Banana\")\n",
        "coll.add(99)\n",
        "print(coll) # here also it is in unordered from."
      ],
      "metadata": {
        "colab": {
          "base_uri": "https://localhost:8080/"
        },
        "id": "X8L7mdrQj89_",
        "outputId": "916d2742-254d-4b8e-f57a-d680510e46ac"
      },
      "execution_count": 30,
      "outputs": [
        {
          "output_type": "stream",
          "name": "stdout",
          "text": [
            "{'Banana', 99, 'papaya'}\n"
          ]
        }
      ]
    },
    {
      "cell_type": "markdown",
      "source": [
        " # sets are mutuable as we can add or remove any of the elements but thier elements are immutable as they have tuple as thier elements but not lists and dictionary."
      ],
      "metadata": {
        "id": "UekrER3IpMcc"
      }
    },
    {
      "cell_type": "code",
      "source": [
        "coll.add([1, 2, 2, 4])\n",
        "# it is the case of putting list as an  element into the sets.\n",
        "# the error will be like :- unhashable type: 'list'"
      ],
      "metadata": {
        "colab": {
          "base_uri": "https://localhost:8080/",
          "height": 141
        },
        "id": "f3BBd9yJ8Qgm",
        "outputId": "e674e4d0-7995-4ea8-bb0c-112b2d0a9ad7"
      },
      "execution_count": 35,
      "outputs": [
        {
          "output_type": "error",
          "ename": "TypeError",
          "evalue": "unhashable type: 'list'",
          "traceback": [
            "\u001b[0;31m---------------------------------------------------------------------------\u001b[0m",
            "\u001b[0;31mTypeError\u001b[0m                                 Traceback (most recent call last)",
            "\u001b[0;32m<ipython-input-35-ed8c877d809a>\u001b[0m in \u001b[0;36m<cell line: 1>\u001b[0;34m()\u001b[0m\n\u001b[0;32m----> 1\u001b[0;31m \u001b[0mcoll\u001b[0m\u001b[0;34m.\u001b[0m\u001b[0madd\u001b[0m\u001b[0;34m(\u001b[0m\u001b[0;34m[\u001b[0m\u001b[0;36m1\u001b[0m\u001b[0;34m,\u001b[0m \u001b[0;36m2\u001b[0m\u001b[0;34m,\u001b[0m \u001b[0;36m2\u001b[0m\u001b[0;34m,\u001b[0m \u001b[0;36m4\u001b[0m\u001b[0;34m]\u001b[0m\u001b[0;34m)\u001b[0m\u001b[0;34m\u001b[0m\u001b[0;34m\u001b[0m\u001b[0m\n\u001b[0m",
            "\u001b[0;31mTypeError\u001b[0m: unhashable type: 'list'"
          ]
        }
      ]
    },
    {
      "cell_type": "markdown",
      "source": [
        "# Unhashable type :- it means that the  hashing value for each element will be have to change so it can't take mutable datatypes as an element."
      ],
      "metadata": {
        "id": "ohyUwjhL8-_S"
      }
    },
    {
      "cell_type": "code",
      "source": [
        "coll.remove(\"Banana\")\n",
        "print(coll)"
      ],
      "metadata": {
        "colab": {
          "base_uri": "https://localhost:8080/"
        },
        "id": "Z8Wl1QMdkp_L",
        "outputId": "15b48079-ee71-488c-c570-7d55328e09ae"
      },
      "execution_count": 31,
      "outputs": [
        {
          "output_type": "stream",
          "name": "stdout",
          "text": [
            "{99, 'papaya'}\n"
          ]
        }
      ]
    },
    {
      "cell_type": "code",
      "source": [
        "a = set()\n",
        "print(type(a))\n",
        "print(len(coll))"
      ],
      "metadata": {
        "colab": {
          "base_uri": "https://localhost:8080/"
        },
        "id": "aaYJLeFjsk9-",
        "outputId": "11b1c4e8-0b30-4886-ad95-4f7f9adb6ab0"
      },
      "execution_count": 33,
      "outputs": [
        {
          "output_type": "stream",
          "name": "stdout",
          "text": [
            "<class 'set'>\n",
            "2\n"
          ]
        }
      ]
    },
    {
      "cell_type": "code",
      "source": [
        "coll.remove(8)\n",
        "print(coll)\n",
        "# if the elements is not there it will give the error.\n",
        "# it is basically a key error where the value itself is key unlike dictionary."
      ],
      "metadata": {
        "colab": {
          "base_uri": "https://localhost:8080/",
          "height": 158
        },
        "id": "rhVivNKDtjE8",
        "outputId": "82107102-72ae-4d2c-d1d3-d5ee6f2e5f34"
      },
      "execution_count": 34,
      "outputs": [
        {
          "output_type": "error",
          "ename": "KeyError",
          "evalue": "8",
          "traceback": [
            "\u001b[0;31m---------------------------------------------------------------------------\u001b[0m",
            "\u001b[0;31mKeyError\u001b[0m                                  Traceback (most recent call last)",
            "\u001b[0;32m<ipython-input-34-f8481c59a963>\u001b[0m in \u001b[0;36m<cell line: 1>\u001b[0;34m()\u001b[0m\n\u001b[0;32m----> 1\u001b[0;31m \u001b[0mcoll\u001b[0m\u001b[0;34m.\u001b[0m\u001b[0mremove\u001b[0m\u001b[0;34m(\u001b[0m\u001b[0;36m8\u001b[0m\u001b[0;34m)\u001b[0m\u001b[0;34m\u001b[0m\u001b[0;34m\u001b[0m\u001b[0m\n\u001b[0m\u001b[1;32m      2\u001b[0m \u001b[0mprint\u001b[0m\u001b[0;34m(\u001b[0m\u001b[0mcoll\u001b[0m\u001b[0;34m)\u001b[0m\u001b[0;34m\u001b[0m\u001b[0;34m\u001b[0m\u001b[0m\n",
            "\u001b[0;31mKeyError\u001b[0m: 8"
          ]
        }
      ]
    },
    {
      "cell_type": "code",
      "source": [
        "coll.add(\"goa\",)\n",
        "coll.add( \"Tamil\")\n",
        "coll.add(  76)\n",
        "\n",
        "print(coll)\n",
        "print(len(coll))"
      ],
      "metadata": {
        "colab": {
          "base_uri": "https://localhost:8080/"
        },
        "id": "_Sq66vH-7j5y",
        "outputId": "605411f2-e390-493e-b3f8-7f1f50b79e7b"
      },
      "execution_count": 43,
      "outputs": [
        {
          "output_type": "stream",
          "name": "stdout",
          "text": [
            "{99, 'papaya', 'Tamil', 76, 'goa'}\n",
            "5\n"
          ]
        }
      ]
    },
    {
      "cell_type": "markdown",
      "source": [
        "# now we will use clear method to empties the set."
      ],
      "metadata": {
        "id": "TUOUVejE-ATs"
      }
    },
    {
      "cell_type": "code",
      "source": [
        "coll.clear()\n",
        "\n",
        "print(coll)\n",
        "print(len(coll))"
      ],
      "metadata": {
        "colab": {
          "base_uri": "https://localhost:8080/"
        },
        "id": "LDZ-TATK9pY-",
        "outputId": "05f24a71-1ef6-4532-d4fa-3a395f8a3900"
      },
      "execution_count": 44,
      "outputs": [
        {
          "output_type": "stream",
          "name": "stdout",
          "text": [
            "set()\n",
            "0\n"
          ]
        }
      ]
    },
    {
      "cell_type": "markdown",
      "source": [
        "# now set.pop() :- used to remove a random value alike remove function which removes the given element."
      ],
      "metadata": {
        "id": "Uq0CDZRL-O_z"
      }
    },
    {
      "cell_type": "code",
      "source": [
        "collection = {\"hello\", \"Indian\", \"National\",\"Election\", 2024, 17}\n",
        "print(collection)\n",
        "print(len(collection))\n",
        "print(type(collection))"
      ],
      "metadata": {
        "colab": {
          "base_uri": "https://localhost:8080/"
        },
        "id": "F0jZCOGO-NHc",
        "outputId": "ac83f97d-78a7-4cd4-a2a1-d906703dacab"
      },
      "execution_count": 69,
      "outputs": [
        {
          "output_type": "stream",
          "name": "stdout",
          "text": [
            "{'Election', 17, 'hello', 2024, 'Indian', 'National'}\n",
            "6\n",
            "<class 'set'>\n"
          ]
        }
      ]
    },
    {
      "cell_type": "code",
      "source": [
        "print(collection.pop())\n",
        "print(collection)"
      ],
      "metadata": {
        "colab": {
          "base_uri": "https://localhost:8080/"
        },
        "id": "br2SMCkG-1pf",
        "outputId": "35c74405-61e8-45e2-9023-8099788cb6a6"
      },
      "execution_count": 70,
      "outputs": [
        {
          "output_type": "stream",
          "name": "stdout",
          "text": [
            "Election\n",
            "{17, 'hello', 2024, 'Indian', 'National'}\n"
          ]
        }
      ]
    },
    {
      "cell_type": "code",
      "source": [
        "print(collection.pop())\n",
        "print(collection)\n",
        "# removing the random value."
      ],
      "metadata": {
        "colab": {
          "base_uri": "https://localhost:8080/"
        },
        "id": "RRNmqwwqAKqH",
        "outputId": "891e2bd3-7ac3-451d-cf81-24837c853ba4"
      },
      "execution_count": 71,
      "outputs": [
        {
          "output_type": "stream",
          "name": "stdout",
          "text": [
            "17\n",
            "{'hello', 2024, 'Indian', 'National'}\n"
          ]
        }
      ]
    },
    {
      "cell_type": "markdown",
      "source": [
        "# now set.union(set2) :- combines both set values and returns the new."
      ],
      "metadata": {
        "id": "HsHFj4PJBGpc"
      }
    },
    {
      "cell_type": "code",
      "source": [
        "set1 = {1, 2, 3}\n",
        "set2 = {3, 4, 5}\n",
        "\n",
        "print(set1.union(set2))\n",
        "# here it will take the unoin but won't repeat any element .\n",
        "# it won't change the set1 or set2"
      ],
      "metadata": {
        "colab": {
          "base_uri": "https://localhost:8080/"
        },
        "id": "25lzWXTYAvij",
        "outputId": "865af260-5486-4344-d286-2b35a783bc97"
      },
      "execution_count": 74,
      "outputs": [
        {
          "output_type": "stream",
          "name": "stdout",
          "text": [
            "{1, 2, 3, 4, 5}\n"
          ]
        }
      ]
    },
    {
      "cell_type": "code",
      "source": [
        "set1 = {1, 2, 3}\n",
        "set2 = {3, 4, 5}\n",
        "\n",
        "print(set1)\n",
        "print(set2)"
      ],
      "metadata": {
        "colab": {
          "base_uri": "https://localhost:8080/"
        },
        "id": "sFmIPQ0NEfrM",
        "outputId": "105db365-11bd-4dc3-e55c-e95832eb94a6"
      },
      "execution_count": 77,
      "outputs": [
        {
          "output_type": "stream",
          "name": "stdout",
          "text": [
            "{1, 2, 3}\n",
            "{3, 4, 5}\n"
          ]
        }
      ]
    },
    {
      "cell_type": "markdown",
      "source": [
        "#  now set.intersection(set2) :- combines common values and returns new."
      ],
      "metadata": {
        "id": "1PRyyPA_Dgwb"
      }
    },
    {
      "cell_type": "code",
      "source": [
        "set1 = {1, 2, 3, 4}\n",
        "set2 = {3, 4, 5, 6}\n",
        "\n",
        "print(set1.intersection(set2))"
      ],
      "metadata": {
        "colab": {
          "base_uri": "https://localhost:8080/"
        },
        "id": "NjI6w5ghDsG9",
        "outputId": "61fb2a0a-023c-4d9b-acf4-7ab8e02c5cee"
      },
      "execution_count": 79,
      "outputs": [
        {
          "output_type": "stream",
          "name": "stdout",
          "text": [
            "{3, 4}\n"
          ]
        }
      ]
    },
    {
      "cell_type": "code",
      "source": [
        "print(set1)\n",
        "print(set2)\n"
      ],
      "metadata": {
        "colab": {
          "base_uri": "https://localhost:8080/"
        },
        "id": "Wnjw8JBBEYE3",
        "outputId": "334f725c-0528-4f90-d724-93dd0f331376"
      },
      "execution_count": 93,
      "outputs": [
        {
          "output_type": "stream",
          "name": "stdout",
          "text": [
            "{1, 2, 3, 4}\n",
            "{3, 4, 5, 6}\n"
          ]
        }
      ]
    },
    {
      "cell_type": "code",
      "source": [
        "# Let us do  the practice problems.\n",
        "\n",
        "# shradha's solution\n",
        "# Store the following word meanings in a python dictionary :-\n",
        "# table : \"a piece of furniture\", \"list of facts & figures\"\n",
        "# cat : \"a small animal\"\n",
        "\n",
        "\n",
        "word_meanings = {\n",
        "    'table': ['a piece of furniture', 'list of facts & figures'],\n",
        "    'cat': ['a small animal']\n",
        "}\n",
        "print(word_meanings)"
      ],
      "metadata": {
        "colab": {
          "base_uri": "https://localhost:8080/"
        },
        "id": "1zngGLdkHvFu",
        "outputId": "8cbd2a8a-6e0b-4fd4-9303-e679cc3e33c2"
      },
      "execution_count": 111,
      "outputs": [
        {
          "output_type": "stream",
          "name": "stdout",
          "text": [
            "{'table': ['a piece of furniture', 'list of facts & figures'], 'cat': ['a small animal']}\n"
          ]
        }
      ]
    },
    {
      "cell_type": "markdown",
      "source": [
        "# Sets are case sensitive"
      ],
      "metadata": {
        "id": "5G4raM0zLahi"
      }
    },
    {
      "cell_type": "code",
      "source": [
        "# You're given a list of subjects for students. Assume one classroomm is\n",
        "# required for 1 subject. How many classrooms are needed by all students.\n",
        "\n",
        "\n",
        "# list of subjects are :- python, java, c++, python, javascript, java,\n",
        "# python, java,c++, c\n",
        "\n",
        "\n",
        "# Shradha's Solution\n",
        "\n",
        "subjects = {\n",
        "    \"python\", \"java\", \"c++\", \"python\", \"javascript\", \"java\", \"python\"\n",
        "    , \"java\",\"c++\", \"c\"\n",
        "}\n",
        "\n",
        "print(subjects)\n",
        "print(len(subjects))\n",
        "# Hence we need 5 calssrooms for students."
      ],
      "metadata": {
        "colab": {
          "base_uri": "https://localhost:8080/"
        },
        "id": "KwiwPdmLJPM8",
        "outputId": "f88ef9e0-67d6-4c71-ca52-e0e6dca04350"
      },
      "execution_count": 126,
      "outputs": [
        {
          "output_type": "stream",
          "name": "stdout",
          "text": [
            "{'c', 'c++', 'java', 'python', 'javascript'}\n",
            "5\n"
          ]
        }
      ]
    },
    {
      "cell_type": "code",
      "source": [
        "# WAP to enter of 3 subjects from the user and store them in a dictionary.\n",
        "# Start with an empty dictionary & add one by one. Use subject name as\n",
        "# key & marks as values.\n",
        "\n",
        "# shradha's solution\n",
        "\n",
        "marks = {}\n",
        "\n",
        "x = int(input(\"enter physics : \"))\n",
        "marks.update({\"physics\" : x})\n",
        "\n",
        "x = int(input(\"enter chemistry : \"))\n",
        "marks.update({\"chemistry\" : x})\n",
        "\n",
        "x = int(input(\"enter math : \"))\n",
        "marks.update({\"math\" : x})\n",
        "\n",
        "print(marks)"
      ],
      "metadata": {
        "colab": {
          "base_uri": "https://localhost:8080/"
        },
        "id": "C4ld5LxYLRp9",
        "outputId": "9a46ff64-2943-47ae-e2c1-3128dc750333"
      },
      "execution_count": 134,
      "outputs": [
        {
          "output_type": "stream",
          "name": "stdout",
          "text": [
            "enter physics : 65\n",
            "enter chemistry : 77\n",
            "enter math : 67\n",
            "{'physics': 65, 'chemistry': 77, 'math': 67}\n"
          ]
        }
      ]
    },
    {
      "cell_type": "code",
      "source": [
        "# Figure out the way to store 9 & 9.0 as separate values in the set.\n",
        "# Hint:- take help of built-in data types.\n",
        "\n",
        "values = { 9, \"9.0\"}\n",
        "print(values)\n",
        "# so here by using the string data types we can do it easily.\n",
        "# or we can do it\n",
        "values = { 9.0, \"9\"}\n",
        "print(values)"
      ],
      "metadata": {
        "colab": {
          "base_uri": "https://localhost:8080/"
        },
        "id": "7FHvem4CMeOH",
        "outputId": "b862356d-a57e-4770-bac6-277270d80d35"
      },
      "execution_count": 151,
      "outputs": [
        {
          "output_type": "stream",
          "name": "stdout",
          "text": [
            "{9, '9.0'}\n",
            "{9.0, '9'}\n"
          ]
        }
      ]
    },
    {
      "cell_type": "code",
      "source": [
        "values = {9, float(9.0)}\n",
        "print(values)\n",
        "# I used it but if failed to give the respective answer."
      ],
      "metadata": {
        "colab": {
          "base_uri": "https://localhost:8080/"
        },
        "id": "5KlehkpcVkmv",
        "outputId": "cb796eeb-e538-436b-9a3f-7f0066b264ea"
      },
      "execution_count": 152,
      "outputs": [
        {
          "output_type": "stream",
          "name": "stdout",
          "text": [
            "{9}\n"
          ]
        }
      ]
    },
    {
      "cell_type": "code",
      "source": [
        "values = {9, 9.0, 8.0 , 8}\n",
        "print(values)\n",
        "# here hashing value of 8 & 8.0 is similar as 9 & 9.0 has similar hashing values."
      ],
      "metadata": {
        "colab": {
          "base_uri": "https://localhost:8080/"
        },
        "id": "MXZgUaKHVHAM",
        "outputId": "71b59619-bbda-4b6a-91c2-13bdee587001"
      },
      "execution_count": 153,
      "outputs": [
        {
          "output_type": "stream",
          "name": "stdout",
          "text": [
            "{8.0, 9}\n"
          ]
        }
      ]
    },
    {
      "cell_type": "code",
      "source": [
        "# the second possible way is the following:-\n",
        "value = {\n",
        "    (\"float\", 9.0),\n",
        "    (\"int\", 9)}\n",
        "\n",
        "print(value)\n",
        "# so this is the second possible way of doing the stroe of 9 & 9.0"
      ],
      "metadata": {
        "colab": {
          "base_uri": "https://localhost:8080/"
        },
        "id": "UZ8emaCdUrBR",
        "outputId": "3e866574-8cfa-44f5-ef2a-57e3c5d9a0ea"
      },
      "execution_count": 159,
      "outputs": [
        {
          "output_type": "stream",
          "name": "stdout",
          "text": [
            "{('int', 9), ('float', 9.0)}\n"
          ]
        }
      ]
    }
  ]
}