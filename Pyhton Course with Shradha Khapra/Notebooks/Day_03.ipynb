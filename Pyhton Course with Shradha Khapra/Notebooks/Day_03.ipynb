{
  "nbformat": 4,
  "nbformat_minor": 0,
  "metadata": {
    "colab": {
      "provenance": []
    },
    "kernelspec": {
      "name": "python3",
      "display_name": "Python 3"
    },
    "language_info": {
      "name": "python"
    }
  },
  "cells": [
    {
      "cell_type": "markdown",
      "source": [
        "# List in python:- built in data types that stores set of values. It can store of different types (int, sloat, string and etc.)\n",
        "\n"
      ],
      "metadata": {
        "id": "uccdU-zFRyCD"
      }
    },
    {
      "cell_type": "code",
      "source": [
        "marks = [94, 95.2, 74, 85, 64]\n",
        "print(marks)\n",
        "print(type(marks))\n",
        "\n",
        "\n",
        "print(marks[0])\n",
        "print(marks[1])\n",
        "len(marks)"
      ],
      "metadata": {
        "id": "LiCqfjRmk-LP",
        "colab": {
          "base_uri": "https://localhost:8080/"
        },
        "outputId": "78c8a31f-5864-4e03-a09a-fbe662df732a"
      },
      "execution_count": 1,
      "outputs": [
        {
          "output_type": "stream",
          "name": "stdout",
          "text": [
            "[94, 95.2, 74, 85, 64]\n",
            "<class 'list'>\n",
            "94\n",
            "95.2\n"
          ]
        },
        {
          "output_type": "execute_result",
          "data": {
            "text/plain": [
              "5"
            ]
          },
          "metadata": {},
          "execution_count": 1
        }
      ]
    },
    {
      "cell_type": "markdown",
      "source": [
        "## The basic difference between python list and array of c/c++ is storing of different/similar elements."
      ],
      "metadata": {
        "id": "OyyeImDpUFYk"
      }
    },
    {
      "cell_type": "code",
      "source": [
        "student = [\"Karan\", 87, \"Chennai\"]\n",
        "print(student)\n",
        "\n",
        "print(student[1])"
      ],
      "metadata": {
        "colab": {
          "base_uri": "https://localhost:8080/"
        },
        "id": "oY9bf351TC_i",
        "outputId": "10921a6a-9061-470e-958b-a90e8cda4f59"
      },
      "execution_count": 2,
      "outputs": [
        {
          "output_type": "stream",
          "name": "stdout",
          "text": [
            "['Karan', 87, 'Chennai']\n",
            "87\n"
          ]
        }
      ]
    },
    {
      "cell_type": "markdown",
      "source": [
        "## Very basic difference between strings and lists in python are strings are immutable where lists are mutable.\n",
        "\n",
        "mutable = that can be changed"
      ],
      "metadata": {
        "id": "3AL0KEWhUU2m"
      }
    },
    {
      "cell_type": "code",
      "source": [
        "student[1] = 89\n",
        "print(student)\n",
        "\n",
        "# List can be accessable into the range of indices."
      ],
      "metadata": {
        "colab": {
          "base_uri": "https://localhost:8080/"
        },
        "id": "myW5QiVjT73e",
        "outputId": "b91ae157-d347-4110-d94f-5fcbd6965bdb"
      },
      "execution_count": 3,
      "outputs": [
        {
          "output_type": "stream",
          "name": "stdout",
          "text": [
            "['Karan', 89, 'Chennai']\n"
          ]
        }
      ]
    },
    {
      "cell_type": "code",
      "source": [
        "# List slicing is as similar as string slicing.\n",
        "\n",
        "marks = [95, 87, 65, 88, 69]\n",
        "print(marks)\n",
        "\n",
        "print(marks[:3])\n",
        "print(marks[3:])"
      ],
      "metadata": {
        "colab": {
          "base_uri": "https://localhost:8080/"
        },
        "id": "wOvWzdmGU5cY",
        "outputId": "04f6e10f-64a5-4ff9-d558-492c1d7144c3"
      },
      "execution_count": 4,
      "outputs": [
        {
          "output_type": "stream",
          "name": "stdout",
          "text": [
            "[95, 87, 65, 88, 69]\n",
            "[95, 87, 65]\n",
            "[88, 69]\n"
          ]
        }
      ]
    },
    {
      "cell_type": "code",
      "source": [
        "# In this ex we have not given starting or ending index so whole list print.\n",
        "print(marks[:])"
      ],
      "metadata": {
        "colab": {
          "base_uri": "https://localhost:8080/"
        },
        "id": "mgDb_pzIV8zr",
        "outputId": "c78ea40c-0a38-4380-a3e6-fad9fad26030"
      },
      "execution_count": 5,
      "outputs": [
        {
          "output_type": "stream",
          "name": "stdout",
          "text": [
            "[95, 87, 65, 88, 69]\n"
          ]
        }
      ]
    },
    {
      "cell_type": "code",
      "source": [
        "print(marks[-4:-1])"
      ],
      "metadata": {
        "colab": {
          "base_uri": "https://localhost:8080/"
        },
        "id": "62xZE8GGXFYh",
        "outputId": "765a586d-335b-4cc6-a322-65bd0399489d"
      },
      "execution_count": 6,
      "outputs": [
        {
          "output_type": "stream",
          "name": "stdout",
          "text": [
            "[87, 65, 88]\n"
          ]
        }
      ]
    },
    {
      "cell_type": "markdown",
      "source": [
        "# List Methods :- This is a specific function for for any data types.\n",
        "\n",
        "1.list.append():- to add the element at end.\n",
        "\n",
        "2.list.sort():- sorts in ascending order.\n",
        "\n",
        "3.list.sort(reverse=True):- In desecnding.\n",
        "\n",
        "4.list.reverse():- reverse the list.\n",
        "\n",
        "5.list.insert(idx,el):- insert element at specific index value."
      ],
      "metadata": {
        "id": "9LKTDF2G_X-m"
      }
    },
    {
      "cell_type": "code",
      "source": [
        "list = [9, 8, 5]"
      ],
      "metadata": {
        "id": "lQ7y08vwBqTe"
      },
      "execution_count": 7,
      "outputs": []
    },
    {
      "cell_type": "code",
      "source": [
        "list.append(6)"
      ],
      "metadata": {
        "id": "6tth4s49BwMV"
      },
      "execution_count": 8,
      "outputs": []
    },
    {
      "cell_type": "code",
      "source": [
        "print(list)"
      ],
      "metadata": {
        "colab": {
          "base_uri": "https://localhost:8080/"
        },
        "id": "UcJps6uvBzRr",
        "outputId": "dcf16e98-a62d-4851-de5e-72f359c40361"
      },
      "execution_count": 9,
      "outputs": [
        {
          "output_type": "stream",
          "name": "stdout",
          "text": [
            "[9, 8, 5, 6]\n"
          ]
        }
      ]
    },
    {
      "cell_type": "code",
      "source": [
        "list.append(7)"
      ],
      "metadata": {
        "id": "e7ybhTvFB1fa"
      },
      "execution_count": 10,
      "outputs": []
    },
    {
      "cell_type": "code",
      "source": [
        "print(list)"
      ],
      "metadata": {
        "colab": {
          "base_uri": "https://localhost:8080/"
        },
        "id": "aH6xoR-2B4Ln",
        "outputId": "2652d44d-849d-431d-93c9-3414c3ee262b"
      },
      "execution_count": 11,
      "outputs": [
        {
          "output_type": "stream",
          "name": "stdout",
          "text": [
            "[9, 8, 5, 6, 7]\n"
          ]
        }
      ]
    },
    {
      "cell_type": "code",
      "source": [
        "list.sort()"
      ],
      "metadata": {
        "id": "BdwOu99ZB56U"
      },
      "execution_count": 12,
      "outputs": []
    },
    {
      "cell_type": "code",
      "source": [
        "print(list)"
      ],
      "metadata": {
        "colab": {
          "base_uri": "https://localhost:8080/"
        },
        "id": "W506eIDQB8JQ",
        "outputId": "d8048c71-0bf9-4443-bf9a-132c9b3b0553"
      },
      "execution_count": 13,
      "outputs": [
        {
          "output_type": "stream",
          "name": "stdout",
          "text": [
            "[5, 6, 7, 8, 9]\n"
          ]
        }
      ]
    },
    {
      "cell_type": "code",
      "source": [
        "list.sort(reverse=True)\n",
        "print(list)"
      ],
      "metadata": {
        "colab": {
          "base_uri": "https://localhost:8080/"
        },
        "id": "MKNZzSmpfCHP",
        "outputId": "be83adbb-5c3c-42e5-d58a-57edf056f5fb"
      },
      "execution_count": 14,
      "outputs": [
        {
          "output_type": "stream",
          "name": "stdout",
          "text": [
            "[9, 8, 7, 6, 5]\n"
          ]
        }
      ]
    },
    {
      "cell_type": "code",
      "source": [
        "a = [\"x\", \"u\", \"z\"]"
      ],
      "metadata": {
        "id": "LPcAMmTZhOoR"
      },
      "execution_count": 20,
      "outputs": []
    },
    {
      "cell_type": "code",
      "source": [
        "a.sort()\n",
        "print(a)"
      ],
      "metadata": {
        "colab": {
          "base_uri": "https://localhost:8080/"
        },
        "id": "wk0D5yVXiDPy",
        "outputId": "772cc559-cd06-44ae-d800-db4d30827e4e"
      },
      "execution_count": 21,
      "outputs": [
        {
          "output_type": "stream",
          "name": "stdout",
          "text": [
            "['u', 'x', 'z']\n"
          ]
        }
      ]
    },
    {
      "cell_type": "code",
      "source": [
        "a.sort(reverse=True)\n",
        "print(a)"
      ],
      "metadata": {
        "colab": {
          "base_uri": "https://localhost:8080/"
        },
        "id": "fASh9yB2iFDP",
        "outputId": "2ea07c30-ffbf-437b-e369-eb3919dc2018"
      },
      "execution_count": 22,
      "outputs": [
        {
          "output_type": "stream",
          "name": "stdout",
          "text": [
            "['z', 'x', 'u']\n"
          ]
        }
      ]
    },
    {
      "cell_type": "code",
      "source": [
        "b = [1, 2, 3]\n",
        "print(b)"
      ],
      "metadata": {
        "colab": {
          "base_uri": "https://localhost:8080/"
        },
        "id": "LvT7-5HqiJXy",
        "outputId": "5d8caef3-2c8f-4ee5-b0e7-2415e4455edc"
      },
      "execution_count": 23,
      "outputs": [
        {
          "output_type": "stream",
          "name": "stdout",
          "text": [
            "[1, 2, 3]\n"
          ]
        }
      ]
    },
    {
      "cell_type": "code",
      "source": [
        "b.reverse()\n",
        "print(b)\n",
        "\n",
        "## reverse and sort(reverse=True are giving same result here in the  example\n",
        "## list a and b)"
      ],
      "metadata": {
        "colab": {
          "base_uri": "https://localhost:8080/"
        },
        "id": "3tDvAUQSiLk_",
        "outputId": "516e08e4-9bf1-4e60-fcea-b8b44a98d84c"
      },
      "execution_count": 24,
      "outputs": [
        {
          "output_type": "stream",
          "name": "stdout",
          "text": [
            "[3, 2, 1]\n"
          ]
        }
      ]
    },
    {
      "cell_type": "markdown",
      "source": [
        "## Now we will learn about list.insert which is similar to list.append but only difference is that it can add element on the specific index."
      ],
      "metadata": {
        "id": "29UE2gKCjMDp"
      }
    },
    {
      "cell_type": "code",
      "source": [
        "list1 = [1, 7, 4]\n",
        "list1.insert(0, 8)\n",
        "print(list1)\n",
        "\n",
        "#Hence, here element 8 is added at 0th index."
      ],
      "metadata": {
        "colab": {
          "base_uri": "https://localhost:8080/"
        },
        "id": "G6R4TtiFiXIW",
        "outputId": "b9020860-fc33-485c-e1da-9b057f4fee78"
      },
      "execution_count": 25,
      "outputs": [
        {
          "output_type": "stream",
          "name": "stdout",
          "text": [
            "[8, 1, 7, 4]\n"
          ]
        }
      ]
    },
    {
      "cell_type": "markdown",
      "source": [
        "## Now we will see these two:-\n",
        "\n",
        "1.list.remove() - to remove the first occurence of the element.\n",
        "\n",
        "2.list.pop() - remove element from the particular index.\n",
        "\n",
        "\n",
        "![image.png](data:image/png;base64,iVBORw0KGgoAAAANSUhEUgAAAIwAAAEbCAYAAAAI1GxxAAAAAXNSR0IArs4c6QAAAARnQU1BAACxjwv8YQUAAAAJcEhZcwAAEnQAABJ0Ad5mH3gAACPrSURBVHhe7Z0LeBTV+cbfoAgl4X75h1tIlQAi0XArCQoWFChWoNgqAcQKKEihIK1CA31QtBhFWy61IlisgBiwj1oRjRKVopRLodwSLDdtEBQLQQMmUaDIf96zczaTyWwyM7sLuzvn9zzzTGbm7JmFefec78x875y4pKSkCyD3/hFvDU3Etqdux0Pviz3ATaXIn3YSx19Nwk2L9X1GxkzEosGNsG3+o3j+775dA+fNxeDGu7Bm/1UY3P1LrPnJn5DrO1ROdfUqIpYa+hr4+EuUIh6NrtK3SdvzqIc6OH5I366SmzDtb3Pxw6LFmHDXS/hE32vJe5fjuLZq1uK8b1sRNZQLJhiuHIEn/jYAWDMN0+d8rO9UxCLBCeaTr3AaddF98FXYP38a5j6v79e4skld4PRXVbc0iqjDL5gf9uqodUgfY/dz+g5y6DJNEGVo1lbfNvP3rdh/Wlv/Z5M/hvFxE1K/r+llv3Zc31OBm/6HZtrq+OeX+bYVUYNPMH1nY2KPeJRufQV/Fjt03quNglNaKJN2Rt9h5mNNKIeB7w/AtDH6LlyFMcsH4Pund+H5AN3Tvb2/cRAbKSKJuIKCAjFK+vi1W/BLY+uic+/sIvw2/QqsHlAP0/R9lRCjpTb6hoYmlvla4GvZuuA8cl7+DD1P/h/aTKil71NEC+XD6oCcwXvv/BdtPwnRBR5/GodvO4tNc5tg+Hv6PkXUYCPorYVVW+poUex/8d54fZdrNPHdVqwFy3WVWKIUW6Ok5x5qgtXacKftbUXIuUnf6Rh2RVpLdaoxfqe6oqjF9rB62oSW2HSqDJ16u7zZNr4UPes3wOo74mERKimihIAxTEJCAho1aoTatWsjLi5O36vwOpaCoVgO1O+mbykU5Vh2SWxZFAorLAXDbkihsMJSMI5illYZmPv0Uzjx3iIcfDoTw1vp+xUxie1RUmWaYvjk6Tj44n2Y2gnYt+tzoNNALH/xKaybnIFkvZQitnAlmOR+mVj3SjaWZ6YABbm4684H0OvXjyLlzmcxrwDIyLwP+a9Mx9x+TfVPKGIFy1FS+/btsb6kub5lgN3Pb36KCV00IRz7CIuefR7T8k7oB8uhoJbcdzP6aFUU7ngXsx5fhZyj+kFFVONAMB2xJGc6Rjc/hfWv5mDcws0o1I9Ywy5rDObe1hGJxzdj8B3PVk7VVEQdDrqkdGTwgfQV9dH5B90wppruJrlfbwz9QTISr9A2WrXBUN/uKhiIdeuW4VzOGCBzOk5s0v7WlxNPD9TLSPSy/jKLsC5TP0RmZov9+TP1bQNLclg+G0v0bTL16UWGuizOJ+rzncP3eblUrIeY6xL/HguqPWeE4jCGKcOuDbvxRbNuyJqdrY2KRmF0B/2QpMONWKiNmvJnD8bQZsXI3XAYxfohW7S5EecmJ2Pnwp+jZk9tefNzNOiSabj4Y5C/KRN9Tm7wHdeWaTuAPpMNoplzEPu0VYdO5os1Roi+eMcHGKfvoQDmdinGX/S6ai78CNDOV/kC1tHOsQyjIc+7SmuFW2D0uumYqpegCOZ2AdbL787vdrJ7JeHaP2fk4Tjo/Wr3H5DafxYmrzmsjYpuxpLnFiF/1s1IQxtMmJWNE8+NwYTr4lH49gp075+FwbtL9U/a5XPtP3IC+q/SN/WLn9jc95859enu6MAyw8vzQedNWqNdPO2CDpECeR6bta+HNikVW4CZKdpny7Bzo945ai3ZUE1A+97M8gsIq57AYzvKNJH2rtR6FO9YhZr+8+Yi90AZkNAAV+t7rm5cBygpRK787hrzJk1A6hx9gzg8Z6Thclh9GIse942KsjcWI7HfKGzb9AgWat1U8W5t1DRc+0965F3s0ks7oqQY/9b/9PE8UrVfYdNJvMgDMbCddlEOHyz/zxbkovCktmrc1P9rH/f6R1rL1gIZhl/3kk4tKlzQqTcko4Emvs3GC6ox7xjbxAZINnZzGl8cqxiFUQw1e5Zf+H+fpIA6Yq6h1THj9JyRhkvB6BzdjFlZWWj6LC9OGdY/ew9SJoVzRNQczRO0FbstQ//PZbQh4U+wag92lhi7JV93tG/DE5in7xEtgiaq0aa6zv1YE5YLhIC0LlSIRtZlimFCfc6LTXCCkciMh7DbjI7hmCYCHC6PXyos/cvF4O8yZLckuqOKv2zRIogu0KIuY7fohDlZ/jr+IrpFTdwG0YTlnBeRGi1atIB5iVwqdz1VMW/SNi3+8XVLojsydWXh7gbGDddFY/i+0dL1BMJBC1OGb8/XRMPmHR3d9k9rFo9QPsoUsQmb/ADD1Yr4gt8OnbK17kjrMl83GKfInA98wfLkysNj53Cob67H1w3i5Inyli+k57z4OBDMKjyzsQxpt0+3ddufd3vX5CzCtsw2KN5cPowNGm1E0bTnBuyziGOs7ruMK9BiijYt0ME0evGRi/792QpYxBS2BGmEdR1ERoV6bkRihZEVCeU5Lz5x6enple701q1b1+JOr4+02+/Dinsz0CHhXPlt/xum44S4d6L1wRvLHx/ULvkcOc89i7v+ynZZEQs4FowP3nO5D4/0a4EG509g/eYydL6xKQo3FKJBhtZlXVaGfXmvYJTbobUiYnEpGJ0ON2P5b3+K4VdyqOij+BNtqP27Z7GId9sUMUdwgtFJu30UfnV1PIr/nYvJqvuJaUIiGIV3CM2NO4VnUIJROCJgl1RYqGIRRWVUC6NwhBKMwhFBC6ZWze9hcJex+O1Ploo1txWxi2vB0Ox2XZsbMH3QM0hLvgEFR7eINbe5Xxn4YxNXQW+zeq1we/pEtGp4FTYfWod39qzEmXPfiNZlwLUjkdG2P45+9TH+uuVPOH468v0lv//9U0hIqIs5c+bg008/1fcqrHDUwojup+s9mDrwD2J7Xu6vsOZffxZiIVxzm/sJy7G86qZiB9uCufyymhh5/a/RJbkXVm1ZiGfyZgRsPbifx1mO5Ufd8CBqXka/iSLasd0lNa7bHJP6PY6E2vWw97NteGPHX3Dy62P60cqw/KAuo3FNy+4o+fY0ns77TZXlJVlZWfjBD7rrW8Ann3yCX//6AX3LR1paGh588AHUqeN76Hnu3DksX74ca9e+KbYJ6+nU6RosWbIEI0aMRLNmvvyd48dPiK7n2mtTcdddd6FmzZpivxlZTnVRFXHUJZ07fwYf7luLxPpJeODHC/GTbvegTq14/agPbnM/j7Mcy/NzduBF7tw5DUuXLsXQobeJpajoJO6+++d6CYi/H3poFgoK9vrL7Ny5C2PHjq1QjlBQ999/vyb+QlFu9uxHtFglHlOmTBbiuuOOYWI/RUmBTJlyv7/O8ePHK7FY4EgwFy58h/3HdmDuG7/A6/9aimuTrsfMIUvRu8MQ0eVwze0uyX2Ru+tFUY7l+Tk7NGnSGF99VYw9e/L1PUB2djZeeGGZ+DspKQkZGT3FBeZ+ycqVK8UF5zGWMfL666/7y+7atQtffPGFCHDN5RT2cDWs/k4TwJaDb+MJTRDvf/SqNjIajuzMv+JH143E1kN5mPP6WHyw73VRzglsTdh1zJw50/KCshtp2LCBKGeELQFbEbYexrdnsasqKirSt3ywe1Oth3tcCUbCUdF7BS9jxca5WpxyCss/fBxrdiz1j5qcwpaALQJFs2DBfLz22qtiyGvm2LHP9b8qwnikVauW+pYiHAQlGMmFC4ybL+jr4GD3I+MIdj1XXnmlpWisYIty9Ohn+pYiHIREMOGC3QdFI2MOxjaMcVJTU/USPngsOTlZxCeMU5zCLs7cnSmssS2Y89+dEzFJQu0Gjm77x2vD8Li4GtUGvrzobEk4ZJbw78TERJSUfC1iDi6bN28SrY5xRDRy5EgR26xfv17f4wx2cRxRDRwYHa/cuJQ4ejTQL3WYtmTicNG+Crf92zfvjOE970fOpvnaqGin2MfHB4O7jkG7xDRs2LcGb+58QeyvCvP9FfLPf26rMCIiFMuQIUP0LaCsrAxPPvlUhdZFDtHN92cCYb7/o+7DWOP4WVJy0w4Ylj4ZDeKbYvPBd8RzpOQmHfyCKdTEJJ4npQxAcekJrN6yEIUnlIUgVnD18LGG1sXc0H6QGE6f+d832PPpJqS16YVdhz/EtUk9Uevy72lCysHG/W84HlorIhtXgpEk1K6P27rfh9TW6f44Jf/IFry67VkxzFbEHkEJRtKq0VVoo3VLjG2OfqlmlY1lQiIYhXeI6PswishDCUbhCCUYhSOUYBSOCFowymbiLVwLRtlMvImrYXWs2UzCSaxZWBy1MMpmorAtGGUzURDbgqlfpwlaN0pBfK166JzcG40SEvUj1vA4y7F8S63rqlensX5EEc3YjmHoMxrfdzYKjmxFx1bdNQE1xtZD72Bdfg7KzpTPWEKbSf/U4ejRdgBOlZ3ER0e3oVPrHlj8/kO2fEns85kgJTH7kpi3wuy6l15aiXHjxvlzZ8x5MzKtk0lVRv8Rc4alC0FizoUx12X3nMRcF4ml3BpHMUy4bSb8z87Pz/fn9NKf1Lp160o5vUwSp98oLy9PlKMIeJHMviQKj2JhEhXL8QLfcsstuPXWH+slfMKi4Y2eJXlOJl7xuxjhOSdOnIicnJyA5zTXxYWCjyVcDavDZTPhr9X462em3JEjR0SapjF1kxhbivffXy9+xeZcX7MjMjc3V+xLTb1WbFM4FCSFJ7P1WJbGOF548znfeustf127du0WmX7Nm/vmZrCqKxZxJRhJqG0mVpg9SIQXihdMwqaeeb9mg5rZFPfll19q5UqFYY5QOBSQsS7CHF+zZcV8TjOB6oo1ghKMJFQ2E/6iV658UfiR5GKOB0IJhcN4hNZb4zmN+cKKioREMKFAJoCzBTB6nBl3hAu2Xmw5jDGHXOi7tpM87jVsCybcNpO0tOvEr502EqejCYqNcQ7tslV9VlptGVgTq67HLVZ1ybgmlrAtmOLSIuwo3IBhGZPxi36PiccDVcHj9/SZhcz0Kdj96SZ8WfJf/Yg19ED7AtLywJWjDjtd0qhRd4o1g9pAMLYZNGiwiGsYJBOuuT18+PBKAa5TGLvw+/fp00dssz7WW1rqdJLUyMZRl5SXvxrP5GUhoVZ9TL1lnuVtf//jA+1444REPPPuDFueJDb/HIVwKCxjCXYZVl2SOe5gsJuVNUO7aBVHJ0aPNtcMjI1GfK65TcekOY4xD+Wrg+fmkJstCj8/Y0aW2D5w4KBeIjZw9fDxUtpMeH+EQ16zcc0ML3gsPfSLFFwFvRQB77NkrxkvTGrXt7tFWE645jb3u7kPo4h8ghol+e69PIEFbz+A17YtEWtuK09S7BKUYCT0Iv3jwJvKk+QBlC9J4YiQtDAK76AEo3CEEozCEUowCkfEJSUlVQp627dvbzvoFU6B1BHihh1v4L2T/1JI0xsUkYVrwfABJDPuhnQdK7YpFoqGMBtvz6f/CDrdwQo+0DOmXKpXi11cXAkmUnxJ6vb/xcdRDON/sKh8SZ7FtmCUL0lBbAvmYvmSmLeyePFif5rByy+vFnGLG8wpn/zbnPdiPh8Xs2OAzgD5PdgNVlVfrOOoSwr39De8IE899aT4W6ZpPvDAg+jWrVuF5G47sC7mpBinyWHeC9NAjRd5woQJeOONNf4y0j5iFg2DbE6xQ1iO34/ppPy80+8WzTgSTLh9ScxWYwacMYjl+uGHZzsOamVdnBpHsmLFi2JtfOM3hWHM3ZWWFRrXzEJgMpc01fH7WM2gEus4EoyEeS6h9iXxV28nL9cOgeoy20ysYHlm5llhnkWFPqqRI++sMpEr1nAlGAlHRaHyJTF5ms2++aK4QdbFrsUYmzBNk2mbRth1MT4xljNadRUVCUowklD4kjhtDZOopZMwGGRd7EJkbGJcZLdCsfAmIN2VxuOxZm8NJSERTCiQ3YVV7OAUO10PkZZZt7OgeBHbggm3L4mxAz1J7DI4iaeE4nn44YcciUjWxa7FPNoxIr1EUjg8B4fYqksKjKNHA+Ge/obIbkI+K2LXYjTUUwCBvErsgoyv3zDXRaqrj8NqeqOMjxzkdDvGFwB4FcfPktT0N97G1cNHNf2Nd3Gd3kDU9DfeIy5bE8wifUNiVzASNf2NdwjJsFr5krxDxNyHUUQHcYcOvWyIYQ7jr33/iPcddkkK7xCSGEbhHVSXpHCEEozCEUELRiSGq/mSPINrwaj5krxJ3MqxSRey8vQtneqCXjVfkneJO/TOmAt9731X3/QRSDB2BRFIUIrox/Z9GPqS7uo1HUmNU/Da9ueqtcJKK+3QbveKO8DLPngc586f1Y8qohXbDx85/c2kfo8joXY97P1sG97Y8Zcqp7Nh+UFdRuOalt1R8u1pPJ33G1vT32jfBzNnzvTn3przVwiTvGkXkdPQWJWRr00NNP2NrIOZeWarrcp/CYyjoDcSfEm8mHynrtFvxNlH6BkyTkVDqpr+hpn+rINvBucbwo0wgaq6ySi8iiPBXGpfEkWTkdFTJGkbM+voPaKXiMeksIi55TFPf5Ofv0es5TaRFhWKyUv2Ebu4GlZfKl+SnCvAPCUOy1uZyii+qqa/4TGWMSaec84Ddl9STIqKBHXj7lL5kgKV4eedTDRBoTFZ3NgtsTui7cQYDynKCUowkkjxJfHzrMcJclIJdkuylZOznSgqExLBhAI7viTZhZin6mN5fo5m+6riDvP0N0QGv/x8Rka6vk8Fu4GwLZhI8CXJMhz9GEdEI0eOFEKoypDGz5unv5EwXuHn+/fvr4Ldaog6XxKR90kkHAKbZzfhfRizIc08pbGEYuK9H4rGfC5FRWLWl+Tk/XdSMMROeS/jOIbhxX9y7SRxn6XHVTeLp9NXt+ymHYkTa25zP4+zXDSY2GRsw+5OiaVqXAW9jGViZb4kjow41R6H0uoxQPUEZWSTRKIvqbouyRgrBYptFJUJiWAU3iFi7sMoogMlGIUjlGAUjlCCUThCCUbhiKAFo3xJ3sK1YJQvyZtcVr9+/Yf1v/00adIExcWB3yDFB4t335iFnikDsf0/f8eyDx/H3qNbseXQOvE0e+C1I9C+RRccPrEfpWdO65+KbnhHmDcDeY9q48aN+l7v4aiFEd2Pmi/J09gWjJovSUFi2pdkfpYknx+99dZb4kEjt/ngMScnRzgWZP6McR7Jqt4LTMzvBo51HHVJ0eZLsgMfPvKzdCKwrtmzHxHuA5n1RzHI/UzUMs9f4CWxEEeCiTZfkl2M9TFrj7nBbJ3c1BXruBpWR4svyS7KJWAfV4KRRLsvSeGcoAQjiWZfksIZIRFMKLgYviSa1aQbwSl252CKdWwLJtp8SYxzuE9aYKsbHlcHz825IFu3bi1Gc17FtmCKS4uwo3ADhmVMxi/6PSYeD1QFj9/TZxYy06dg96eb8GXJf/UjgeG9kaVLl4qLIudf5DB7+/bt/kCYZfjeFvqSZJlOna7BY49lV7gPw1EPE7s5ZGYZtkDz588XQ2O3LFiwULRwsk4uVU3gFYvErC9JER5cJYGr+ZK8S1CuATVfkvcIic1EzZfkHUIiGIV3iJj7MIrooMatT3aGWH6ZoO9SKAJTY+2DO7H2wYP4IilFiUZRLXqXVILtuUVAUguktPPtUSisKI9hjn6jySYe9au+gVsJZTPxFnG/WD2kwijpi9yd+Pqz6kdJci6BIV3Him3evONNO8LkqurmIlBEJ66G1YFmK2Hroqa/qYiTV6dFA46G1dFmM+FT5ZdfXu0q11dhjW3BKJuJgpTfh+EyqwkCDazr12mC1o1SEF+rHjon90ajhET9iDU8znIs31LruurV8XbiUaxgO4ahz2h839koOLIVHVt11wTUGFsPvYN1+TkoO1Oql/LZTPqnDkePtgNwquwkPjq6DZ1a98Di9x+y5Usyv4PX+P456Udi1pzRh2Teb/QYWWGeB8mcXGX2GvE482leemklxo0b5/dDWXmSrBK1jD6naMe2t7pOrbromnwjNu5fizd2PI+SM6fRs91A9On4U/zv/Dl8/tV/cEP7WzH6xplIrJ+MdXtykLNpHjN9cXWLrvhX4QZ8c7ZEr80a/mf37t1Lu5gv4NFHf4f9+/djwID+uP76nli3bp1IwTx79gyuu+464Q7gPkKxNGzY0C8i7l+9ejVKS0tEOufatWu1umeIfVyMr4ZnUEpxMQFrwYIF4jM/+tEAtG2b4vdQ9+rVC+3apaBr167C0sLv9r3v1cZNN/UVa1mfuS6ei+K54opa+PDDD3HqVPQ/wXf1LClcNhNmztGUJlsO5ufm5eVVSIvkMToXZZomF/7NfcaMOzuwTtbNc8hcYNbB78Dvwu9kxHgOioTZezJp3aquWMSVYCShtJkEmqeoqKhIrNnqSdidsKti18WFfxu7GLswKZxOA/NkFLSxmC0r1c3QFqiuWCMowUhCYTPhL5UXyZgvy4Xb3G9mxYoXxUXkwr/dQAcA4xFab43nNMZQioqERDChgL9q/kKZBG70LsvF2IJogTomTJigxTNnxcK/uc8pdBZQcPRNm893xx3DHHdxXsC2YMJtM7HqegIhbSWvvPIKNmzYIKwp3GemOnOcVdfjFqu6ZFwTS9gWTLhtJvw10xYiZ30NBINcjjxkcCzjmc6d0yp9TprPrAJYwnmTaBvhKz+sjjuBsQvFySE9YX2st7S0/JZDLODolWWfHN+Lg1/sRhdteN3nmtsQX6s+Cov+jQZ1mohE8IIjW7Th9in8uPPd4lkT3QUvfPAYtn1cceb9QHA4zOHsoEG3IjNzmH/p27cv9uzZow1vb8DPfvYznDlzBsuWLRfDbHL8+HGkp6ejS5cu+Oabb3DgwEGxn8PYo0ePimF5v343++uTQ2Ee55Cbx4cO/UmFc1KUctjOYXWzZs2wadMm/zn54gB+jvdYOPyWQ/7evXtjxIgR4hiH4JdfXhMNGjSImWG1q4ePymbiXYJKAlc2E+8REteAspl4h5AIRuEdIuY+jCI6MKRoFmH7g0fAMYBqYRSBqPF3YTPZi/1fN0E3ZTNRVEMNX8LBWRw7UAokNUTVaVEKr6NiGIUjghaM8iV5C9eCCef0N8xcY5pBqF8HxudQdBFU9axKUTWuBMMHi3wAmZk+GbsO/0Nk3v1t+3NizW3ut/OAUhF9OBLMxfIlMembOSnmBGvFpce2YJQvSUEc2UzCPf2NzLqXmO0gxInlg7EKp7sxpngyZ8U8VY7ZGmKsi3ktdqwtXsnOc9QlhXv6G9kVMU2TFzYQzLCbOHGimOeI5SksXnAGtRL+zXxgZvrLtEuWM0ORMsFKpmny3EzGkgE3HQA8D5HJUWTUqDs9JxbiSDBMXwjn9DdOqMryobWa/mlyqnITyBTK6mwm3Bcqa0u042qUFA5fkhOqs3zIaXKqm9bGic1EpoIGa22JdlwJRhJKX9KlwKnNJBTWlmgnKMFIQuFLuhQ4sZmwmwuFtSXaCYlgIg0re4mMa4w4sZnYtbbEOrYFE25fUihhAMssfmPgyil1OMWfcfRl12bCINeutSXWsS2YcPuSeMFWrnxRxBDSHstYgtvcX9UFtYJT1dCTJOMTdj9yeCzh6zfGjx8vxGWOYzjcJhQEvVLsunJzc8U+whiG4uN9Hi+JxnFOr5r+xtu4SgJXviTvEpRrQPmSvEdIbCbKl+QdQiIYhXeIyfswivChBKNwhBKMwhFKMApHKMEoHBG0YJQvyVvEpaenVxpW161bt9phdTjnS5K5vVZ5uopLi6sWRvmSAsNcYDcPS6MFRy0Muxs7E2hRKFYTcHkBCoZpFU8++ZQ/TziWsN3CKF+SgthuYWLBl8ScFqtfflW+JMIEKubE0FJinFpH1kfoUZLfxUyg80YjjmKYaPIlSbEwS07m6bL8sGHD9BI+qvMlSSg6JnYRlpsy5X6RoMXcXr5AeuTIO8V+is2cJ8xjsdI9ORJMtPiSiHwFvXF2FJY3CoGicjL9DcUgJ/titl5hYaFI++TcTV7B1Sgp0n1JRM5dUFUKpRNfEuF+I+y2Yqn1sIMrwUgi2ZfEloIzo1EQckod83BXTX/jnKAEI4lUXxJ/+TK2YJxDcTA4laJR0984JySCiQY42qJojF2NE1+SXcJRZyRhWzDR5EsiDG6NoybCCUPZRdHoRkI5/Y1Exk7GNz3EErYFE22+JAakFIgxNklIqKsJaYY/SLXjS3IKuzH5pgdZVyw9KnD88FH5kryNq6fVypfkXeL2vv2HC2Mfflnf9GEnvYEoX5L3CEowEuVL8g4hGVZTJP848KYSiwfwzH0YRWhQglE4QglG4QglGIUjlGAUjghaMMqX5C1cCyac8yUpIpe4vXv3+h8NfJo3FrNXVX/jLpCNxK4NRRG9KF+SwhG2BUNf0l29piOpcQpe2/5ctVZYaaUd2u1ecQd42QeP49z5s/pRRbQSMb4k5oswfZIZ/Mz+lz4hK0+PLCt9QEyKMk9DI/NZ1q9fX8GbZOV1UtjHUdAbbl8SYdIUjWr0/Ri9P0n6e/2ZRcdkp4KCvf78W9pCmHRlzrBjEhPFQjGxHG0iNKR56UXMocaRYC6GL+n48ROYM2eOyIbjsnnzJvGOf05pQ9HIeZCMzsSVK1eKz/GYFBYxtzx8kzf30V6icIerYXU4fUk0h1EoEpkjS2OanAeJ2f5GApnKmK+7Z0/5nEl0KLLFor1E4Y6gbtxdKl+S2VAmieVs/UghKMFIIsWXZHQEKMJDSAQTTox2VnYv7GboBjDCuIWBMrP/q7Kt2p3aTxEY24K5FL4kjmb4JgWOiCgEGQRz9GMcEcnJrziEDgRFNWjQYCE4+pEU7nB0p7df6jBtyRS5u8a7vO2bd/bbTPYf2yn28W7v4K5j0C4xDRv2rcGbO18Q+wNhvrcisbpvQrEY/c9W92rM75ohHF3Jty8o3OHYZhIuX5IUDFsT84uB3EDB0Lgmh+iK0OA4huHFf3LtJHGfpcdVN4un01e37KYdiRNrbnM/j7OcMrHFFq6CXsYyvM+SvWa8EMT17W4RHiWuuc394Xw/jOLSEdQoyXfv5QksePsBvLZtiVhzW5nYYhfHMYzC20T8fRhFZKEEo3CEEozCEUowCkcELRhlM/EWrgWjbCbexNWwWtlMvIsjwSibicK2YJTNREFsxzD16zRB60YpiK9VD52Te6NRQqJ+xBoeZzmWb6m1NPXqqDzaWMB2C0Of0fi+s1FwZCs6tuquCagxth56B+vyc1B2plQv5bOZ9E8djh5tB+BU2Ul8dHQbOrXugcXvP1SlL4kJTjNnzkRJydeVvETm+YtkWU6DQ8zuAObL9OvXT3icaCvh8SVLlmDEiJHiM+a8GHPujPF8xml0zGkXfHk0E7zM5zbm6sRaDo6jUdLFsJmYvUTmuZCYN5Od/ZgQltGXxM8Y/UYUG20ny5YtF9t333239iMoFGJITEwU9XDhS5eZN0MPFOuS8yVJI5xMC2UKqNHCItNCjxw54hcLBUSBsg7WxTkMeC5ZVyzgalgdTpsJs+c4C4m8COa5kAYOHCjWK1a8KNaEviReVOPr2ikYCuSzz3xJ4WfPnhPliHQXyLoWLVrkT7LieSlAzqNEAUoLi/RGScz5wRQf51jiZ8u/+y7Rysm6YoEaDFzNi13CYTOhb4j+IQn/0zkjCbsD+as2J3vzorLFYUshWwF2Q8bJtXjcmHnXoEFDUZf5fER+Tk7SZWWAM8+1lJZ2nRCi8ZzE6KuKBYISjMT3GXefdQJNajSrsdsyzgvAxZy/axezkIzIVo3ipEhltySFK5PTCctSMHJuJrnIeRNihRrfffcdzEukIp2LDCRl/GJcONFEoIvvBqNhjl2P7Ja4ULjG1oRl2eLI+MW8xMoLAGwLJhKmv7HqetxSXPyViE1kAGzEamo/OVUOj3GhcI023FjregJRg/9Q82JFuKe/sQuH3PylT5kyWd/jHsYmZNSoO8WamL1QEoqVAmvXLkUs9EcZWzMGuhwxxfrbIRyNkvLyV+OZvCwk1KqPqbfMw+Cu91R6Oi2eXmv7ebxxQiKeeXdGtZ4kJ/DCcBTFlsEYK3AxmtvsQEHQz2SsizEH5zuysrqwC4qPj8cVV1xRofWR8H6LfPWI8XstXrw46BYxUojT/iGVItX27dtrv6bADx/V9DfexZVgJGr6G+8RlGAkavob7xASwSi8g+uMO4U3UYJROMJSMOG+xa+IXiwF8+2331Z6T4tCQSwFw2c2jRs3UqJRVMJylEQSEhLE0+HatWs7enakiG3iOnToUEkwj2XPEesZWTPFWqGQqFGSwhGWXdL8BfPE+v4pU8VaoZCoFkbhCCUYhSOUYBQOAP4fqBmKpStzK/MAAAAASUVORK5CYII=)"
      ],
      "metadata": {
        "id": "6QX1eNB6j9wF"
      }
    },
    {
      "cell_type": "code",
      "source": [
        "x = [2, 1, 4, 1]"
      ],
      "metadata": {
        "id": "Gz4MY7akjri1"
      },
      "execution_count": 26,
      "outputs": []
    },
    {
      "cell_type": "code",
      "source": [
        "x.remove(1)"
      ],
      "metadata": {
        "id": "Ggc-4K8xkZbD"
      },
      "execution_count": 27,
      "outputs": []
    },
    {
      "cell_type": "code",
      "source": [
        "print(x)\n",
        "## hence first occurence of 1 is removed"
      ],
      "metadata": {
        "colab": {
          "base_uri": "https://localhost:8080/"
        },
        "id": "0q_FFxOakcgu",
        "outputId": "d679417e-6584-45ac-e4a4-f118cb8ba62f"
      },
      "execution_count": 28,
      "outputs": [
        {
          "output_type": "stream",
          "name": "stdout",
          "text": [
            "[2, 4, 1]\n"
          ]
        }
      ]
    },
    {
      "cell_type": "code",
      "source": [
        "x.pop(0)"
      ],
      "metadata": {
        "colab": {
          "base_uri": "https://localhost:8080/"
        },
        "id": "1r7YrBAukfhP",
        "outputId": "83ea4c90-e076-45b0-ca42-320456add83e"
      },
      "execution_count": 29,
      "outputs": [
        {
          "output_type": "execute_result",
          "data": {
            "text/plain": [
              "2"
            ]
          },
          "metadata": {},
          "execution_count": 29
        }
      ]
    },
    {
      "cell_type": "code",
      "source": [
        "print(x)\n",
        "\n",
        "## Here it shows that pop function removed the specific index element from\n",
        "## the given list x."
      ],
      "metadata": {
        "colab": {
          "base_uri": "https://localhost:8080/"
        },
        "id": "fCr6vEtzkscP",
        "outputId": "0b1f3b5b-c54d-4a38-b9dc-3191a40f2db1"
      },
      "execution_count": 30,
      "outputs": [
        {
          "output_type": "stream",
          "name": "stdout",
          "text": [
            "[4, 1]\n"
          ]
        }
      ]
    },
    {
      "cell_type": "markdown",
      "source": [
        "## Now we will see Tuples :- tuple is very similar to list but major difference is the use of paranthesisi instead of the sq bracket."
      ],
      "metadata": {
        "id": "UWSf-1x3qv6y"
      }
    },
    {
      "cell_type": "code",
      "source": [
        "tup = (2, 1,3, 1)\n",
        "print(type(tup))\n",
        "\n",
        "##slicing is similar as list and string in python for bpth direction."
      ],
      "metadata": {
        "colab": {
          "base_uri": "https://localhost:8080/"
        },
        "id": "Ryf4Viu5kwcb",
        "outputId": "259e4ab8-2b2a-4f71-e2c7-02ede963c09c"
      },
      "execution_count": 31,
      "outputs": [
        {
          "output_type": "stream",
          "name": "stdout",
          "text": [
            "<class 'tuple'>\n"
          ]
        }
      ]
    },
    {
      "cell_type": "code",
      "source": [
        "tu = (8)\n",
        "print(type(tu))\n",
        "\n",
        "## here if tuple has single element it must to use \",\" separation otherwise\n",
        "## it can't take it as integer."
      ],
      "metadata": {
        "id": "tr2Ex_Z4sla9",
        "colab": {
          "base_uri": "https://localhost:8080/"
        },
        "outputId": "3cda9d74-0397-4963-bf0b-6d9966b476a3"
      },
      "execution_count": 36,
      "outputs": [
        {
          "output_type": "stream",
          "name": "stdout",
          "text": [
            "<class 'int'>\n"
          ]
        }
      ]
    },
    {
      "cell_type": "code",
      "source": [
        "## so it should be as.\n",
        "my_tuple = (9,)\n",
        "print(type(my_tuple))"
      ],
      "metadata": {
        "id": "vS2_H8r9tH8A",
        "colab": {
          "base_uri": "https://localhost:8080/"
        },
        "outputId": "a8fd7fc3-63ff-486b-d0c4-9f40c1cb09ff"
      },
      "execution_count": 37,
      "outputs": [
        {
          "output_type": "stream",
          "name": "stdout",
          "text": [
            "<class 'tuple'>\n"
          ]
        }
      ]
    },
    {
      "cell_type": "markdown",
      "source": [
        "Tuples methods are followings:-\n",
        "\n",
        "1. tuple.index():- returns index of first occurence.\n",
        "\n",
        "2. tuple.count():- counts total occurence."
      ],
      "metadata": {
        "id": "aa-9nsPfrkUP"
      }
    },
    {
      "cell_type": "code",
      "source": [
        "tuple = (9,8,9,0)\n",
        "print(tuple.index(0))\n",
        "# it gives the index of the elements first occurence."
      ],
      "metadata": {
        "colab": {
          "base_uri": "https://localhost:8080/"
        },
        "id": "tA0vFoye3jD7",
        "outputId": "02f1776f-41d5-435b-be3e-44b7fddbba71"
      },
      "execution_count": 48,
      "outputs": [
        {
          "output_type": "stream",
          "name": "stdout",
          "text": [
            "3\n"
          ]
        }
      ]
    },
    {
      "cell_type": "code",
      "source": [
        "tupl = (1,6,3,8,4)\n",
        "print(tupl.count(3))\n",
        "# so here it has given count of integer 3"
      ],
      "metadata": {
        "colab": {
          "base_uri": "https://localhost:8080/"
        },
        "id": "l5FnZLv6pJyR",
        "outputId": "38f99f5a-ae11-47b9-cf8d-3f12318805ea"
      },
      "execution_count": 49,
      "outputs": [
        {
          "output_type": "stream",
          "name": "stdout",
          "text": [
            "1\n"
          ]
        }
      ]
    },
    {
      "cell_type": "code",
      "source": [
        "# Let's  to the practice problem.\n",
        "# WAP to the ask to enter names of thier 3 favourite movies & store them in a list.\n",
        "\n",
        "# my solution\n",
        "a = input(\"enter the first most favourite movie name: \")\n",
        "b = input(\"enter the second most favourite movie name: \")\n",
        "c = input(\"enter the third most favourite movie name: \")\n",
        "\n",
        "my_list = [a,b,c]"
      ],
      "metadata": {
        "colab": {
          "base_uri": "https://localhost:8080/"
        },
        "id": "bFVV3BeD3GFP",
        "outputId": "b35d4d1d-b201-4302-99da-12b31698db44"
      },
      "execution_count": 56,
      "outputs": [
        {
          "name": "stdout",
          "output_type": "stream",
          "text": [
            "enter the first most favourite movie name: MSD\n",
            "enter the second most favourite movie name: Kaagaz\n",
            "enter the third most favourite movie name: 96\n"
          ]
        }
      ]
    },
    {
      "cell_type": "code",
      "source": [
        "print(type(my_list))"
      ],
      "metadata": {
        "colab": {
          "base_uri": "https://localhost:8080/"
        },
        "id": "QHXu3reINd-A",
        "outputId": "fb9eae45-b8ac-4426-bffd-bf4696b226a7"
      },
      "execution_count": 57,
      "outputs": [
        {
          "output_type": "stream",
          "name": "stdout",
          "text": [
            "<class 'list'>\n"
          ]
        }
      ]
    },
    {
      "cell_type": "code",
      "source": [
        " # shradha's solution\n",
        "\n",
        " movies = []\n",
        "\n",
        " mov1 = input(\"enter 1st movie name: \")\n",
        " mov2 = input(\"enter 2nd movie name: \")\n",
        " mov3 = input(\"enter 3rd movie name: \")"
      ],
      "metadata": {
        "colab": {
          "base_uri": "https://localhost:8080/"
        },
        "id": "Oh9IFAOLMy9x",
        "outputId": "9e0e7cd1-e165-44e1-9a80-5da0c9518b60"
      },
      "execution_count": 61,
      "outputs": [
        {
          "name": "stdout",
          "output_type": "stream",
          "text": [
            "enter 1st movie name: MSD\n",
            "enter 2nd movie name: Sachin TBD\n",
            "enter 3rd movie name: Sholay\n"
          ]
        }
      ]
    },
    {
      "cell_type": "code",
      "source": [
        " movies.append(mov1)\n",
        " movies.append(mov2)\n",
        " movies.append(mov3)"
      ],
      "metadata": {
        "id": "Ib1BRiZ2NL2-"
      },
      "execution_count": 63,
      "outputs": []
    },
    {
      "cell_type": "code",
      "source": [
        "print(movies)"
      ],
      "metadata": {
        "colab": {
          "base_uri": "https://localhost:8080/"
        },
        "id": "U2wUf0VcOi2O",
        "outputId": "cf558140-3b5f-4f41-cafe-eec60ef26507"
      },
      "execution_count": 64,
      "outputs": [
        {
          "output_type": "stream",
          "name": "stdout",
          "text": [
            "['MSD', 'MSD', 'Sachin TBD', 'Sholay']\n"
          ]
        }
      ]
    },
    {
      "cell_type": "code",
      "source": [
        "movies.remove(\"MSD\")"
      ],
      "metadata": {
        "id": "k4eFrG7_PDge"
      },
      "execution_count": 69,
      "outputs": []
    },
    {
      "cell_type": "code",
      "source": [
        "print(movies)"
      ],
      "metadata": {
        "colab": {
          "base_uri": "https://localhost:8080/"
        },
        "id": "uxCz_awMPKdy",
        "outputId": "f3a74bd2-22c2-409d-ddef-83490e6d72bf"
      },
      "execution_count": 70,
      "outputs": [
        {
          "output_type": "stream",
          "name": "stdout",
          "text": [
            "['MSD', 'Sachin TBD', 'Sholay']\n"
          ]
        }
      ]
    },
    {
      "cell_type": "code",
      "source": [
        "# WAP to check if a list contains a palindrome of elements.\n",
        "# Hint:- use copy() method. it reurns the shallow copy of the list.\n",
        "## Palindrome :- same from front and rear like (1,2,3,2,1)\n",
        "# which can have same no. of elements in same order.\n",
        "\n",
        "# shradha's solution\n",
        "list1 = [1, 2, 1]\n",
        "\n",
        "\n",
        "copy_list1 = list1.copy()\n",
        "copy_list1.reverse()\n",
        "\n",
        "\n",
        "if(copy_list1 == list1):\n",
        "  print(\"This is Palindrome\")\n",
        "else:\n",
        "  print(\"Not a palindrome\")"
      ],
      "metadata": {
        "colab": {
          "base_uri": "https://localhost:8080/"
        },
        "id": "MGlCwU-cPb6B",
        "outputId": "fc33c9ac-6c39-440b-9f52-2e054f3483c4"
      },
      "execution_count": 72,
      "outputs": [
        {
          "output_type": "stream",
          "name": "stdout",
          "text": [
            "This is Palindrome\n"
          ]
        }
      ]
    },
    {
      "cell_type": "code",
      "source": [
        "list2 = [1, 2, 3]\n",
        "\n",
        "copy_list2 = list2.copy()\n",
        "copy_list2.reverse()\n",
        "\n",
        "if(copy_list2 == list2):\n",
        "  print(\"Palindrome\")\n",
        "else:\n",
        "  print(\"Not a palindrome\")"
      ],
      "metadata": {
        "colab": {
          "base_uri": "https://localhost:8080/"
        },
        "id": "3SBJKmlrc9ki",
        "outputId": "cbb13364-f03e-4929-ca09-7c58868d06d9"
      },
      "execution_count": 76,
      "outputs": [
        {
          "output_type": "stream",
          "name": "stdout",
          "text": [
            "Not a palindrome\n"
          ]
        }
      ]
    },
    {
      "cell_type": "code",
      "source": [
        "list3 = [\"m\", \"a\", \"a\", \"m\"]\n",
        "\n",
        "copy_list3 = list3.copy()\n",
        "copy_list3.reverse()\n",
        "\n",
        "if(copy_list3 == list3):\n",
        "  print(\"Palindrome\")\n",
        "else:\n",
        "  print(\"Not a palindrome\")"
      ],
      "metadata": {
        "colab": {
          "base_uri": "https://localhost:8080/"
        },
        "id": "rNtFQt2PdTCP",
        "outputId": "b5b195c2-012e-4b11-9be6-63246912c1ad"
      },
      "execution_count": 79,
      "outputs": [
        {
          "output_type": "stream",
          "name": "stdout",
          "text": [
            "Palindrome\n"
          ]
        }
      ]
    },
    {
      "cell_type": "code",
      "source": [
        "# WAP to count the no. of students with the \"A\" grade in the following tuple.\n",
        "# Common solution\n",
        "\n",
        "grade = (\"C\", \"D\", \"A\", \"A\", \"B\", \"A\")\n",
        "\n",
        "grade.count(\"A\")"
      ],
      "metadata": {
        "colab": {
          "base_uri": "https://localhost:8080/"
        },
        "id": "UoVuEtkZdr7f",
        "outputId": "01da0c76-cd13-4e84-be9c-41b22093a73d"
      },
      "execution_count": 85,
      "outputs": [
        {
          "output_type": "execute_result",
          "data": {
            "text/plain": [
              "3"
            ]
          },
          "metadata": {},
          "execution_count": 85
        }
      ]
    },
    {
      "cell_type": "code",
      "source": [
        "# Store the above values in the list & sort them from \"A\" to \"D\".\n",
        "# Common Solution. here it is in ascending order.\n",
        "\n",
        "val = [\"C\", \"D\", \"A\", \"A\", \"B\", \"A\"]\n",
        "val.sort()\n",
        "print(val)"
      ],
      "metadata": {
        "colab": {
          "base_uri": "https://localhost:8080/"
        },
        "id": "6zAskl9GeQQa",
        "outputId": "eab4e805-5dc1-4376-b965-5931f886b7ae"
      },
      "execution_count": 90,
      "outputs": [
        {
          "output_type": "stream",
          "name": "stdout",
          "text": [
            "['A', 'A', 'A', 'B', 'C', 'D']\n"
          ]
        }
      ]
    }
  ]
}